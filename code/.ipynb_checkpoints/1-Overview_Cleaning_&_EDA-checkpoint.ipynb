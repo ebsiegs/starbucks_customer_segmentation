{
 "cells": [
  {
   "cell_type": "markdown",
   "id": "39f978c3",
   "metadata": {},
   "source": [
    "--- \n",
    "# Part 1: Overview, Data Cleaning & EDA\n",
    "\n",
    "This notebook gives an overview of the project, data cleaning of each of the 3 datasets, and initial exporatory data analysis (EDA).\n",
    "\n",
    "--- "
   ]
  },
  {
   "cell_type": "markdown",
   "id": "56a66083",
   "metadata": {},
   "source": [
    "# Problem Statement\n",
    "\n",
    "Conducting analysis on a company’s customer base and sending personalized campaigns to high value targets has massive benefits in any industry. Using unsupervised learning, I will implement a K-Means cluster analysis for customer segmentation and targeted marketing outreach for Starbucks. This type of analysis can be used by Starbucks to automate promotional outreach and reward fulfillment, as well as measurement and tracking of spending behaviors and other KPIs."
   ]
  },
  {
   "cell_type": "markdown",
   "id": "47156140",
   "metadata": {},
   "source": [
    "# Contents\n",
    "\n",
    "- [Overview](#Overview)\n",
    "- [References](#References)\n",
    "- [Data Import & Cleaning](#Data-Import-&-Cleaning)\n",
    "    - [Portfolio Dataset](#Portfolio-Dataset)\n",
    "    - [Profile Dataset](#Profile-Dataset)\n",
    "    - [Transcript Dataset](#Transcript-Dataset)\n",
    "- [More EDA](#More-EDA)\n",
    "- [Data Dictionary](#Data-Dictionary)"
   ]
  },
  {
   "cell_type": "markdown",
   "id": "a457515b",
   "metadata": {},
   "source": [
    "# Overview\n",
    "\n",
    "“As of October 2020, the Starbucks Rewards program has over 19.3 million members and generates nearly 50% of their revenue.” -[Formation Inc.](https://formation.ai/blog/how-starbucks-became-1-in-customer-loyalty/)\n",
    "\n",
    "For this project I used [Starbucks customer data](https://www.kaggle.com/ihormuliar/starbucks-customer-data) that includes transactions, demographics and promotional offer data from their rewards program. The dataset includes 306,534 events related to 17,000 customers and 10 event types over the course of a 30-days. One of the main tasks of this project is to synthesize these three different datasets and use K-Means cluster analysis to deep dive into each customer segment for business insights and recommendations.\n",
    "\n",
    "Customer segmentation is the process of dividing customers into groups based on common characteristics so companies can market and sell to each group effectively and appropriately. The goal is to maximize the value of each customer to the business. In business-to-consumer marketing, companies like Starbucks often segment customers according to demographics and spending habits. This also helps these companies communicate via the appropriate channels for the segment, which might be email, social media posts, or app notifications, depending on the customer. This helps companies also focus on the most profitable customers and potentially improve customer service and product offerings. \n",
    "\n",
    "**Workflow:**\n",
    "\n",
    "1. Data Cleaning & Wrangling - Impute nulls, Explore outliers, One-Hot Encoding\n",
    "2. EDA\n",
    "3. Aggregate, Merge and Synthesize Cleaned Datasets\n",
    "4. Calculate RMF Metrics and Conversion Rates from Offer to Transaction\n",
    "5. Feature Scaling: StandardScaler\n",
    "6. Dimensionality Reduction: PCA\n",
    "7. Cluster Analysis: K-Means and DBSCAN\n",
    "9. Post Hoc Analysis - Customer Segment Insights\n",
    "10. Recommendations & Conclusions\n"
   ]
  },
  {
   "cell_type": "markdown",
   "id": "2bd6f847",
   "metadata": {},
   "source": [
    "# References\n",
    "\n",
    "1. Data Source: https://www.kaggle.com/ihormuliar/starbucks-customer-data\n",
    "2. https://seifip.medium.com/starbucks-offers-advanced-customer-segmentation-with-python-737f22e245a4\n",
    "3. https://www.barilliance.com/rfm-analysis/\n",
    "4. https://formation.ai/blog/how-starbucks-became-1-in-customer-loyalty/\n",
    "5. https://lifetimes.readthedocs.io/en/latest/\n",
    "6. https://www.natasshaselvaraj.com/customer-segmentation-with-python/\n",
    "7. https://towardsdatascience.com/find-your-best-customers-with-customer-segmentation-in-python-61d602f9eee6\n",
    "8. https://www.datacamp.com/community/tutorials/introduction-customer-segmentation-python\n",
    "9. https://clevertap.com/blog/rfm-analysis/\n",
    "10. https://www.kaggle.com/regivm/rfm-analysis-tutorial\n",
    "11. https://github.com/alghsaleh/starbucks-customers-segmentation/blob/master/utilities.py\n",
    "12. https://medium.com/capillary-data-science/rfm-analysis-an-effective-customer-segmentation-technique-using-python-58804480d232\n",
    "\n"
   ]
  },
  {
   "cell_type": "markdown",
   "id": "3af06092",
   "metadata": {},
   "source": [
    "# Importing Libraries"
   ]
  },
  {
   "cell_type": "code",
   "execution_count": 1,
   "id": "6fad94c7",
   "metadata": {},
   "outputs": [],
   "source": [
    "import pandas as pd\n",
    "import seaborn as sns\n",
    "import matplotlib.pyplot as plt\n",
    "import numpy as np\n",
    "import re\n",
    "import calendar\n",
    "import ast\n",
    "    \n",
    "pd.set_option('display.max_rows', None)\n",
    "sns.set_palette('Greens_r')"
   ]
  },
  {
   "cell_type": "markdown",
   "id": "7fa5e40f",
   "metadata": {},
   "source": [
    "# Data Import & Cleaning"
   ]
  },
  {
   "cell_type": "code",
   "execution_count": 2,
   "id": "df5ba385",
   "metadata": {},
   "outputs": [
    {
     "data": {
      "text/html": [
       "<div>\n",
       "<style scoped>\n",
       "    .dataframe tbody tr th:only-of-type {\n",
       "        vertical-align: middle;\n",
       "    }\n",
       "\n",
       "    .dataframe tbody tr th {\n",
       "        vertical-align: top;\n",
       "    }\n",
       "\n",
       "    .dataframe thead th {\n",
       "        text-align: right;\n",
       "    }\n",
       "</style>\n",
       "<table border=\"1\" class=\"dataframe\">\n",
       "  <thead>\n",
       "    <tr style=\"text-align: right;\">\n",
       "      <th></th>\n",
       "      <th>Unnamed: 0</th>\n",
       "      <th>person</th>\n",
       "      <th>event</th>\n",
       "      <th>value</th>\n",
       "      <th>time</th>\n",
       "    </tr>\n",
       "  </thead>\n",
       "  <tbody>\n",
       "    <tr>\n",
       "      <th>0</th>\n",
       "      <td>0</td>\n",
       "      <td>78afa995795e4d85b5d9ceeca43f5fef</td>\n",
       "      <td>offer received</td>\n",
       "      <td>{'offer id': '9b98b8c7a33c4b65b9aebfe6a799e6d9'}</td>\n",
       "      <td>0</td>\n",
       "    </tr>\n",
       "    <tr>\n",
       "      <th>1</th>\n",
       "      <td>1</td>\n",
       "      <td>a03223e636434f42ac4c3df47e8bac43</td>\n",
       "      <td>offer received</td>\n",
       "      <td>{'offer id': '0b1e1539f2cc45b7b9fa7c272da2e1d7'}</td>\n",
       "      <td>0</td>\n",
       "    </tr>\n",
       "    <tr>\n",
       "      <th>2</th>\n",
       "      <td>2</td>\n",
       "      <td>e2127556f4f64592b11af22de27a7932</td>\n",
       "      <td>offer received</td>\n",
       "      <td>{'offer id': '2906b810c7d4411798c6938adc9daaa5'}</td>\n",
       "      <td>0</td>\n",
       "    </tr>\n",
       "    <tr>\n",
       "      <th>3</th>\n",
       "      <td>3</td>\n",
       "      <td>8ec6ce2a7e7949b1bf142def7d0e0586</td>\n",
       "      <td>offer received</td>\n",
       "      <td>{'offer id': 'fafdcd668e3743c1bb461111dcafc2a4'}</td>\n",
       "      <td>0</td>\n",
       "    </tr>\n",
       "    <tr>\n",
       "      <th>4</th>\n",
       "      <td>4</td>\n",
       "      <td>68617ca6246f4fbc85e91a2a49552598</td>\n",
       "      <td>offer received</td>\n",
       "      <td>{'offer id': '4d5c57ea9a6940dd891ad53e9dbe8da0'}</td>\n",
       "      <td>0</td>\n",
       "    </tr>\n",
       "  </tbody>\n",
       "</table>\n",
       "</div>"
      ],
      "text/plain": [
       "   Unnamed: 0                            person           event  \\\n",
       "0           0  78afa995795e4d85b5d9ceeca43f5fef  offer received   \n",
       "1           1  a03223e636434f42ac4c3df47e8bac43  offer received   \n",
       "2           2  e2127556f4f64592b11af22de27a7932  offer received   \n",
       "3           3  8ec6ce2a7e7949b1bf142def7d0e0586  offer received   \n",
       "4           4  68617ca6246f4fbc85e91a2a49552598  offer received   \n",
       "\n",
       "                                              value  time  \n",
       "0  {'offer id': '9b98b8c7a33c4b65b9aebfe6a799e6d9'}     0  \n",
       "1  {'offer id': '0b1e1539f2cc45b7b9fa7c272da2e1d7'}     0  \n",
       "2  {'offer id': '2906b810c7d4411798c6938adc9daaa5'}     0  \n",
       "3  {'offer id': 'fafdcd668e3743c1bb461111dcafc2a4'}     0  \n",
       "4  {'offer id': '4d5c57ea9a6940dd891ad53e9dbe8da0'}     0  "
      ]
     },
     "execution_count": 2,
     "metadata": {},
     "output_type": "execute_result"
    }
   ],
   "source": [
    "transcript = pd.read_csv('../data/transcript.csv')\n",
    "portfolio = pd.read_csv('../data/portfolio.csv')\n",
    "profile = pd.read_csv('../data/profile.csv')\n",
    "\n",
    "transcript.head()"
   ]
  },
  {
   "cell_type": "code",
   "execution_count": 3,
   "id": "5cc7b571",
   "metadata": {},
   "outputs": [
    {
     "data": {
      "text/html": [
       "<div>\n",
       "<style scoped>\n",
       "    .dataframe tbody tr th:only-of-type {\n",
       "        vertical-align: middle;\n",
       "    }\n",
       "\n",
       "    .dataframe tbody tr th {\n",
       "        vertical-align: top;\n",
       "    }\n",
       "\n",
       "    .dataframe thead th {\n",
       "        text-align: right;\n",
       "    }\n",
       "</style>\n",
       "<table border=\"1\" class=\"dataframe\">\n",
       "  <thead>\n",
       "    <tr style=\"text-align: right;\">\n",
       "      <th></th>\n",
       "      <th>Unnamed: 0</th>\n",
       "      <th>reward</th>\n",
       "      <th>channels</th>\n",
       "      <th>difficulty</th>\n",
       "      <th>duration</th>\n",
       "      <th>offer_type</th>\n",
       "      <th>id</th>\n",
       "    </tr>\n",
       "  </thead>\n",
       "  <tbody>\n",
       "    <tr>\n",
       "      <th>0</th>\n",
       "      <td>0</td>\n",
       "      <td>10</td>\n",
       "      <td>['email', 'mobile', 'social']</td>\n",
       "      <td>10</td>\n",
       "      <td>7</td>\n",
       "      <td>bogo</td>\n",
       "      <td>ae264e3637204a6fb9bb56bc8210ddfd</td>\n",
       "    </tr>\n",
       "    <tr>\n",
       "      <th>1</th>\n",
       "      <td>1</td>\n",
       "      <td>10</td>\n",
       "      <td>['web', 'email', 'mobile', 'social']</td>\n",
       "      <td>10</td>\n",
       "      <td>5</td>\n",
       "      <td>bogo</td>\n",
       "      <td>4d5c57ea9a6940dd891ad53e9dbe8da0</td>\n",
       "    </tr>\n",
       "    <tr>\n",
       "      <th>2</th>\n",
       "      <td>2</td>\n",
       "      <td>0</td>\n",
       "      <td>['web', 'email', 'mobile']</td>\n",
       "      <td>0</td>\n",
       "      <td>4</td>\n",
       "      <td>informational</td>\n",
       "      <td>3f207df678b143eea3cee63160fa8bed</td>\n",
       "    </tr>\n",
       "    <tr>\n",
       "      <th>3</th>\n",
       "      <td>3</td>\n",
       "      <td>5</td>\n",
       "      <td>['web', 'email', 'mobile']</td>\n",
       "      <td>5</td>\n",
       "      <td>7</td>\n",
       "      <td>bogo</td>\n",
       "      <td>9b98b8c7a33c4b65b9aebfe6a799e6d9</td>\n",
       "    </tr>\n",
       "    <tr>\n",
       "      <th>4</th>\n",
       "      <td>4</td>\n",
       "      <td>5</td>\n",
       "      <td>['web', 'email']</td>\n",
       "      <td>20</td>\n",
       "      <td>10</td>\n",
       "      <td>discount</td>\n",
       "      <td>0b1e1539f2cc45b7b9fa7c272da2e1d7</td>\n",
       "    </tr>\n",
       "  </tbody>\n",
       "</table>\n",
       "</div>"
      ],
      "text/plain": [
       "   Unnamed: 0  reward                              channels  difficulty  \\\n",
       "0           0      10         ['email', 'mobile', 'social']          10   \n",
       "1           1      10  ['web', 'email', 'mobile', 'social']          10   \n",
       "2           2       0            ['web', 'email', 'mobile']           0   \n",
       "3           3       5            ['web', 'email', 'mobile']           5   \n",
       "4           4       5                      ['web', 'email']          20   \n",
       "\n",
       "   duration     offer_type                                id  \n",
       "0         7           bogo  ae264e3637204a6fb9bb56bc8210ddfd  \n",
       "1         5           bogo  4d5c57ea9a6940dd891ad53e9dbe8da0  \n",
       "2         4  informational  3f207df678b143eea3cee63160fa8bed  \n",
       "3         7           bogo  9b98b8c7a33c4b65b9aebfe6a799e6d9  \n",
       "4        10       discount  0b1e1539f2cc45b7b9fa7c272da2e1d7  "
      ]
     },
     "execution_count": 3,
     "metadata": {},
     "output_type": "execute_result"
    }
   ],
   "source": [
    "portfolio.head()"
   ]
  },
  {
   "cell_type": "code",
   "execution_count": 4,
   "id": "0153cb75",
   "metadata": {},
   "outputs": [
    {
     "data": {
      "text/html": [
       "<div>\n",
       "<style scoped>\n",
       "    .dataframe tbody tr th:only-of-type {\n",
       "        vertical-align: middle;\n",
       "    }\n",
       "\n",
       "    .dataframe tbody tr th {\n",
       "        vertical-align: top;\n",
       "    }\n",
       "\n",
       "    .dataframe thead th {\n",
       "        text-align: right;\n",
       "    }\n",
       "</style>\n",
       "<table border=\"1\" class=\"dataframe\">\n",
       "  <thead>\n",
       "    <tr style=\"text-align: right;\">\n",
       "      <th></th>\n",
       "      <th>Unnamed: 0</th>\n",
       "      <th>gender</th>\n",
       "      <th>age</th>\n",
       "      <th>id</th>\n",
       "      <th>became_member_on</th>\n",
       "      <th>income</th>\n",
       "    </tr>\n",
       "  </thead>\n",
       "  <tbody>\n",
       "    <tr>\n",
       "      <th>0</th>\n",
       "      <td>0</td>\n",
       "      <td>NaN</td>\n",
       "      <td>118</td>\n",
       "      <td>68be06ca386d4c31939f3a4f0e3dd783</td>\n",
       "      <td>20170212</td>\n",
       "      <td>NaN</td>\n",
       "    </tr>\n",
       "    <tr>\n",
       "      <th>1</th>\n",
       "      <td>1</td>\n",
       "      <td>F</td>\n",
       "      <td>55</td>\n",
       "      <td>0610b486422d4921ae7d2bf64640c50b</td>\n",
       "      <td>20170715</td>\n",
       "      <td>112000.0</td>\n",
       "    </tr>\n",
       "    <tr>\n",
       "      <th>2</th>\n",
       "      <td>2</td>\n",
       "      <td>NaN</td>\n",
       "      <td>118</td>\n",
       "      <td>38fe809add3b4fcf9315a9694bb96ff5</td>\n",
       "      <td>20180712</td>\n",
       "      <td>NaN</td>\n",
       "    </tr>\n",
       "    <tr>\n",
       "      <th>3</th>\n",
       "      <td>3</td>\n",
       "      <td>F</td>\n",
       "      <td>75</td>\n",
       "      <td>78afa995795e4d85b5d9ceeca43f5fef</td>\n",
       "      <td>20170509</td>\n",
       "      <td>100000.0</td>\n",
       "    </tr>\n",
       "    <tr>\n",
       "      <th>4</th>\n",
       "      <td>4</td>\n",
       "      <td>NaN</td>\n",
       "      <td>118</td>\n",
       "      <td>a03223e636434f42ac4c3df47e8bac43</td>\n",
       "      <td>20170804</td>\n",
       "      <td>NaN</td>\n",
       "    </tr>\n",
       "  </tbody>\n",
       "</table>\n",
       "</div>"
      ],
      "text/plain": [
       "   Unnamed: 0 gender  age                                id  became_member_on  \\\n",
       "0           0    NaN  118  68be06ca386d4c31939f3a4f0e3dd783          20170212   \n",
       "1           1      F   55  0610b486422d4921ae7d2bf64640c50b          20170715   \n",
       "2           2    NaN  118  38fe809add3b4fcf9315a9694bb96ff5          20180712   \n",
       "3           3      F   75  78afa995795e4d85b5d9ceeca43f5fef          20170509   \n",
       "4           4    NaN  118  a03223e636434f42ac4c3df47e8bac43          20170804   \n",
       "\n",
       "     income  \n",
       "0       NaN  \n",
       "1  112000.0  \n",
       "2       NaN  \n",
       "3  100000.0  \n",
       "4       NaN  "
      ]
     },
     "execution_count": 4,
     "metadata": {},
     "output_type": "execute_result"
    }
   ],
   "source": [
    "profile.head()"
   ]
  },
  {
   "cell_type": "code",
   "execution_count": 5,
   "id": "ae87a35a",
   "metadata": {},
   "outputs": [
    {
     "data": {
      "text/html": [
       "<div>\n",
       "<style scoped>\n",
       "    .dataframe tbody tr th:only-of-type {\n",
       "        vertical-align: middle;\n",
       "    }\n",
       "\n",
       "    .dataframe tbody tr th {\n",
       "        vertical-align: top;\n",
       "    }\n",
       "\n",
       "    .dataframe thead th {\n",
       "        text-align: right;\n",
       "    }\n",
       "</style>\n",
       "<table border=\"1\" class=\"dataframe\">\n",
       "  <thead>\n",
       "    <tr style=\"text-align: right;\">\n",
       "      <th></th>\n",
       "      <th>gender</th>\n",
       "      <th>age</th>\n",
       "      <th>id</th>\n",
       "      <th>became_member_on</th>\n",
       "      <th>income</th>\n",
       "    </tr>\n",
       "  </thead>\n",
       "  <tbody>\n",
       "    <tr>\n",
       "      <th>0</th>\n",
       "      <td>NaN</td>\n",
       "      <td>118</td>\n",
       "      <td>68be06ca386d4c31939f3a4f0e3dd783</td>\n",
       "      <td>20170212</td>\n",
       "      <td>NaN</td>\n",
       "    </tr>\n",
       "    <tr>\n",
       "      <th>1</th>\n",
       "      <td>F</td>\n",
       "      <td>55</td>\n",
       "      <td>0610b486422d4921ae7d2bf64640c50b</td>\n",
       "      <td>20170715</td>\n",
       "      <td>112000.0</td>\n",
       "    </tr>\n",
       "    <tr>\n",
       "      <th>2</th>\n",
       "      <td>NaN</td>\n",
       "      <td>118</td>\n",
       "      <td>38fe809add3b4fcf9315a9694bb96ff5</td>\n",
       "      <td>20180712</td>\n",
       "      <td>NaN</td>\n",
       "    </tr>\n",
       "    <tr>\n",
       "      <th>3</th>\n",
       "      <td>F</td>\n",
       "      <td>75</td>\n",
       "      <td>78afa995795e4d85b5d9ceeca43f5fef</td>\n",
       "      <td>20170509</td>\n",
       "      <td>100000.0</td>\n",
       "    </tr>\n",
       "    <tr>\n",
       "      <th>4</th>\n",
       "      <td>NaN</td>\n",
       "      <td>118</td>\n",
       "      <td>a03223e636434f42ac4c3df47e8bac43</td>\n",
       "      <td>20170804</td>\n",
       "      <td>NaN</td>\n",
       "    </tr>\n",
       "  </tbody>\n",
       "</table>\n",
       "</div>"
      ],
      "text/plain": [
       "  gender  age                                id  became_member_on    income\n",
       "0    NaN  118  68be06ca386d4c31939f3a4f0e3dd783          20170212       NaN\n",
       "1      F   55  0610b486422d4921ae7d2bf64640c50b          20170715  112000.0\n",
       "2    NaN  118  38fe809add3b4fcf9315a9694bb96ff5          20180712       NaN\n",
       "3      F   75  78afa995795e4d85b5d9ceeca43f5fef          20170509  100000.0\n",
       "4    NaN  118  a03223e636434f42ac4c3df47e8bac43          20170804       NaN"
      ]
     },
     "execution_count": 5,
     "metadata": {},
     "output_type": "execute_result"
    }
   ],
   "source": [
    "# Drop Unnamed index column\n",
    "transcript.drop(columns = ['Unnamed: 0'], inplace = True)\n",
    "portfolio.drop(columns = ['Unnamed: 0'], inplace = True)\n",
    "profile.drop(columns = ['Unnamed: 0'], inplace = True)\n",
    "profile.head()"
   ]
  },
  {
   "cell_type": "code",
   "execution_count": 6,
   "id": "a69a6f0c",
   "metadata": {},
   "outputs": [
    {
     "data": {
      "text/plain": [
       "((306534, 4), (10, 6), (17000, 5))"
      ]
     },
     "execution_count": 6,
     "metadata": {},
     "output_type": "execute_result"
    }
   ],
   "source": [
    "transcript.shape, portfolio.shape, profile.shape"
   ]
  },
  {
   "cell_type": "markdown",
   "id": "34a45e0f",
   "metadata": {},
   "source": [
    "# Portfolio Dataset\n",
    "\n",
    "Contains 10 different promotional offers and information about each one including the promotional offer type, difficulty rating to achieve the promotion, duration of the offer, reward, and how the promotion was distributed to customers (channels)."
   ]
  },
  {
   "cell_type": "code",
   "execution_count": 7,
   "id": "2e06a6f9",
   "metadata": {},
   "outputs": [
    {
     "name": "stdout",
     "output_type": "stream",
     "text": [
      "<class 'pandas.core.frame.DataFrame'>\n",
      "RangeIndex: 10 entries, 0 to 9\n",
      "Data columns (total 6 columns):\n",
      " #   Column      Non-Null Count  Dtype \n",
      "---  ------      --------------  ----- \n",
      " 0   reward      10 non-null     int64 \n",
      " 1   channels    10 non-null     object\n",
      " 2   difficulty  10 non-null     int64 \n",
      " 3   duration    10 non-null     int64 \n",
      " 4   offer_type  10 non-null     object\n",
      " 5   id          10 non-null     object\n",
      "dtypes: int64(3), object(3)\n",
      "memory usage: 608.0+ bytes\n"
     ]
    }
   ],
   "source": [
    "portfolio.info()"
   ]
  },
  {
   "cell_type": "code",
   "execution_count": 8,
   "id": "5e5668c0",
   "metadata": {},
   "outputs": [
    {
     "data": {
      "text/html": [
       "<div>\n",
       "<style scoped>\n",
       "    .dataframe tbody tr th:only-of-type {\n",
       "        vertical-align: middle;\n",
       "    }\n",
       "\n",
       "    .dataframe tbody tr th {\n",
       "        vertical-align: top;\n",
       "    }\n",
       "\n",
       "    .dataframe thead th {\n",
       "        text-align: right;\n",
       "    }\n",
       "</style>\n",
       "<table border=\"1\" class=\"dataframe\">\n",
       "  <thead>\n",
       "    <tr style=\"text-align: right;\">\n",
       "      <th></th>\n",
       "      <th>reward</th>\n",
       "      <th>difficulty</th>\n",
       "      <th>duration</th>\n",
       "    </tr>\n",
       "  </thead>\n",
       "  <tbody>\n",
       "    <tr>\n",
       "      <th>count</th>\n",
       "      <td>10.000000</td>\n",
       "      <td>10.000000</td>\n",
       "      <td>10.000000</td>\n",
       "    </tr>\n",
       "    <tr>\n",
       "      <th>mean</th>\n",
       "      <td>4.200000</td>\n",
       "      <td>7.700000</td>\n",
       "      <td>6.500000</td>\n",
       "    </tr>\n",
       "    <tr>\n",
       "      <th>std</th>\n",
       "      <td>3.583915</td>\n",
       "      <td>5.831905</td>\n",
       "      <td>2.321398</td>\n",
       "    </tr>\n",
       "    <tr>\n",
       "      <th>min</th>\n",
       "      <td>0.000000</td>\n",
       "      <td>0.000000</td>\n",
       "      <td>3.000000</td>\n",
       "    </tr>\n",
       "    <tr>\n",
       "      <th>25%</th>\n",
       "      <td>2.000000</td>\n",
       "      <td>5.000000</td>\n",
       "      <td>5.000000</td>\n",
       "    </tr>\n",
       "    <tr>\n",
       "      <th>50%</th>\n",
       "      <td>4.000000</td>\n",
       "      <td>8.500000</td>\n",
       "      <td>7.000000</td>\n",
       "    </tr>\n",
       "    <tr>\n",
       "      <th>75%</th>\n",
       "      <td>5.000000</td>\n",
       "      <td>10.000000</td>\n",
       "      <td>7.000000</td>\n",
       "    </tr>\n",
       "    <tr>\n",
       "      <th>max</th>\n",
       "      <td>10.000000</td>\n",
       "      <td>20.000000</td>\n",
       "      <td>10.000000</td>\n",
       "    </tr>\n",
       "  </tbody>\n",
       "</table>\n",
       "</div>"
      ],
      "text/plain": [
       "          reward  difficulty   duration\n",
       "count  10.000000   10.000000  10.000000\n",
       "mean    4.200000    7.700000   6.500000\n",
       "std     3.583915    5.831905   2.321398\n",
       "min     0.000000    0.000000   3.000000\n",
       "25%     2.000000    5.000000   5.000000\n",
       "50%     4.000000    8.500000   7.000000\n",
       "75%     5.000000   10.000000   7.000000\n",
       "max    10.000000   20.000000  10.000000"
      ]
     },
     "execution_count": 8,
     "metadata": {},
     "output_type": "execute_result"
    }
   ],
   "source": [
    "portfolio.describe()"
   ]
  },
  {
   "cell_type": "code",
   "execution_count": 9,
   "id": "0c150aef",
   "metadata": {},
   "outputs": [
    {
     "data": {
      "image/png": "[encoded data removed]",
      "text/plain": [
       "<Figure size 576x432 with 1 Axes>"
      ]
     },
     "metadata": {
      "needs_background": "light"
     },
     "output_type": "display_data"
    }
   ],
   "source": [
    "plt.figure(figsize = (8,6))\n",
    "sns.countplot(data = portfolio, x = 'offer_type', edgecolor=\".3\", linewidth=2)\n",
    "plt.title('Distribution of Offers', size = 18)\n",
    "plt.ylabel('Count', size = 16)\n",
    "plt.xlabel('Offers', size = 16)\n",
    "plt.xticks(size = 12)\n",
    "plt.yticks(size = 12)\n",
    "plt.savefig('../images/offer_dist.png');"
   ]
  },
  {
   "cell_type": "markdown",
   "id": "095937fc",
   "metadata": {},
   "source": [
    "Majority discount and bogo offers."
   ]
  },
  {
   "cell_type": "code",
   "execution_count": 10,
   "id": "4446f87d",
   "metadata": {},
   "outputs": [
    {
     "data": {
      "image/png": "[encoded data removed]",
      "text/plain": [
       "<Figure size 540x540 with 12 Axes>"
      ]
     },
     "metadata": {
      "needs_background": "light"
     },
     "output_type": "display_data"
    }
   ],
   "source": [
    "sns.pairplot(portfolio);"
   ]
  },
  {
   "cell_type": "code",
   "execution_count": 11,
   "id": "b05a6254",
   "metadata": {},
   "outputs": [
    {
     "data": {
      "text/html": [
       "<div>\n",
       "<style scoped>\n",
       "    .dataframe tbody tr th:only-of-type {\n",
       "        vertical-align: middle;\n",
       "    }\n",
       "\n",
       "    .dataframe tbody tr th {\n",
       "        vertical-align: top;\n",
       "    }\n",
       "\n",
       "    .dataframe thead th {\n",
       "        text-align: right;\n",
       "    }\n",
       "</style>\n",
       "<table border=\"1\" class=\"dataframe\">\n",
       "  <thead>\n",
       "    <tr style=\"text-align: right;\">\n",
       "      <th></th>\n",
       "      <th>reward</th>\n",
       "      <th>channels</th>\n",
       "      <th>difficulty</th>\n",
       "      <th>duration</th>\n",
       "      <th>offer_type</th>\n",
       "      <th>offer_id</th>\n",
       "    </tr>\n",
       "  </thead>\n",
       "  <tbody>\n",
       "    <tr>\n",
       "      <th>0</th>\n",
       "      <td>10</td>\n",
       "      <td>['email', 'mobile', 'social']</td>\n",
       "      <td>10</td>\n",
       "      <td>7</td>\n",
       "      <td>bogo</td>\n",
       "      <td>ae264e3637204a6fb9bb56bc8210ddfd</td>\n",
       "    </tr>\n",
       "    <tr>\n",
       "      <th>1</th>\n",
       "      <td>10</td>\n",
       "      <td>['web', 'email', 'mobile', 'social']</td>\n",
       "      <td>10</td>\n",
       "      <td>5</td>\n",
       "      <td>bogo</td>\n",
       "      <td>4d5c57ea9a6940dd891ad53e9dbe8da0</td>\n",
       "    </tr>\n",
       "    <tr>\n",
       "      <th>2</th>\n",
       "      <td>0</td>\n",
       "      <td>['web', 'email', 'mobile']</td>\n",
       "      <td>0</td>\n",
       "      <td>4</td>\n",
       "      <td>informational</td>\n",
       "      <td>3f207df678b143eea3cee63160fa8bed</td>\n",
       "    </tr>\n",
       "    <tr>\n",
       "      <th>3</th>\n",
       "      <td>5</td>\n",
       "      <td>['web', 'email', 'mobile']</td>\n",
       "      <td>5</td>\n",
       "      <td>7</td>\n",
       "      <td>bogo</td>\n",
       "      <td>9b98b8c7a33c4b65b9aebfe6a799e6d9</td>\n",
       "    </tr>\n",
       "    <tr>\n",
       "      <th>4</th>\n",
       "      <td>5</td>\n",
       "      <td>['web', 'email']</td>\n",
       "      <td>20</td>\n",
       "      <td>10</td>\n",
       "      <td>discount</td>\n",
       "      <td>0b1e1539f2cc45b7b9fa7c272da2e1d7</td>\n",
       "    </tr>\n",
       "  </tbody>\n",
       "</table>\n",
       "</div>"
      ],
      "text/plain": [
       "   reward                              channels  difficulty  duration  \\\n",
       "0      10         ['email', 'mobile', 'social']          10         7   \n",
       "1      10  ['web', 'email', 'mobile', 'social']          10         5   \n",
       "2       0            ['web', 'email', 'mobile']           0         4   \n",
       "3       5            ['web', 'email', 'mobile']           5         7   \n",
       "4       5                      ['web', 'email']          20        10   \n",
       "\n",
       "      offer_type                          offer_id  \n",
       "0           bogo  ae264e3637204a6fb9bb56bc8210ddfd  \n",
       "1           bogo  4d5c57ea9a6940dd891ad53e9dbe8da0  \n",
       "2  informational  3f207df678b143eea3cee63160fa8bed  \n",
       "3           bogo  9b98b8c7a33c4b65b9aebfe6a799e6d9  \n",
       "4       discount  0b1e1539f2cc45b7b9fa7c272da2e1d7  "
      ]
     },
     "execution_count": 11,
     "metadata": {},
     "output_type": "execute_result"
    }
   ],
   "source": [
    "# Clarifying 'id' since we have customer_id and offer_id \n",
    "portfolio.rename(columns={'id': 'offer_id'}, inplace=True)\n",
    "portfolio.head()"
   ]
  },
  {
   "cell_type": "code",
   "execution_count": 12,
   "id": "d2ded4d7",
   "metadata": {},
   "outputs": [
    {
     "data": {
      "text/plain": [
       "['web', 'email', 'mobile', 'social']    4\n",
       "['web', 'email', 'mobile']              3\n",
       "['email', 'mobile', 'social']           2\n",
       "['web', 'email']                        1\n",
       "Name: channels, dtype: int64"
      ]
     },
     "execution_count": 12,
     "metadata": {},
     "output_type": "execute_result"
    }
   ],
   "source": [
    "portfolio['channels'].value_counts()"
   ]
  },
  {
   "cell_type": "code",
   "execution_count": 13,
   "id": "c93363bd",
   "metadata": {},
   "outputs": [
    {
     "data": {
      "image/png": "[encoded data removed]",
      "text/plain": [
       "<Figure size 576x432 with 1 Axes>"
      ]
     },
     "metadata": {
      "needs_background": "light"
     },
     "output_type": "display_data"
    }
   ],
   "source": [
    "plt.figure(figsize = (8,6))\n",
    "sns.histplot(portfolio, y = 'channels', edgecolor=\".3\", linewidth=2)\n",
    "plt.title('Distribution of Promotional Channels', size = 18)\n",
    "plt.ylabel('Channels', size = 16)\n",
    "plt.xlabel('Count', size = 16)\n",
    "plt.yticks(size = 12);"
   ]
  },
  {
   "cell_type": "markdown",
   "id": "6d9cef7b",
   "metadata": {},
   "source": [
    "Most offers use all 4 channel types for promotion."
   ]
  },
  {
   "cell_type": "code",
   "execution_count": 14,
   "id": "621ced5e",
   "metadata": {},
   "outputs": [
    {
     "data": {
      "text/html": [
       "<div>\n",
       "<style scoped>\n",
       "    .dataframe tbody tr th:only-of-type {\n",
       "        vertical-align: middle;\n",
       "    }\n",
       "\n",
       "    .dataframe tbody tr th {\n",
       "        vertical-align: top;\n",
       "    }\n",
       "\n",
       "    .dataframe thead th {\n",
       "        text-align: right;\n",
       "    }\n",
       "</style>\n",
       "<table border=\"1\" class=\"dataframe\">\n",
       "  <thead>\n",
       "    <tr style=\"text-align: right;\">\n",
       "      <th></th>\n",
       "      <th>reward</th>\n",
       "      <th>channels</th>\n",
       "      <th>difficulty</th>\n",
       "      <th>duration</th>\n",
       "      <th>offer_type</th>\n",
       "      <th>offer_id</th>\n",
       "      <th>email</th>\n",
       "      <th>mobile</th>\n",
       "      <th>web</th>\n",
       "      <th>social</th>\n",
       "    </tr>\n",
       "  </thead>\n",
       "  <tbody>\n",
       "    <tr>\n",
       "      <th>0</th>\n",
       "      <td>10</td>\n",
       "      <td>['email', 'mobile', 'social']</td>\n",
       "      <td>10</td>\n",
       "      <td>7</td>\n",
       "      <td>bogo</td>\n",
       "      <td>ae264e3637204a6fb9bb56bc8210ddfd</td>\n",
       "      <td>1</td>\n",
       "      <td>1</td>\n",
       "      <td>0</td>\n",
       "      <td>1</td>\n",
       "    </tr>\n",
       "    <tr>\n",
       "      <th>1</th>\n",
       "      <td>10</td>\n",
       "      <td>['web', 'email', 'mobile', 'social']</td>\n",
       "      <td>10</td>\n",
       "      <td>5</td>\n",
       "      <td>bogo</td>\n",
       "      <td>4d5c57ea9a6940dd891ad53e9dbe8da0</td>\n",
       "      <td>1</td>\n",
       "      <td>1</td>\n",
       "      <td>1</td>\n",
       "      <td>1</td>\n",
       "    </tr>\n",
       "    <tr>\n",
       "      <th>2</th>\n",
       "      <td>0</td>\n",
       "      <td>['web', 'email', 'mobile']</td>\n",
       "      <td>0</td>\n",
       "      <td>4</td>\n",
       "      <td>informational</td>\n",
       "      <td>3f207df678b143eea3cee63160fa8bed</td>\n",
       "      <td>1</td>\n",
       "      <td>1</td>\n",
       "      <td>1</td>\n",
       "      <td>0</td>\n",
       "    </tr>\n",
       "    <tr>\n",
       "      <th>3</th>\n",
       "      <td>5</td>\n",
       "      <td>['web', 'email', 'mobile']</td>\n",
       "      <td>5</td>\n",
       "      <td>7</td>\n",
       "      <td>bogo</td>\n",
       "      <td>9b98b8c7a33c4b65b9aebfe6a799e6d9</td>\n",
       "      <td>1</td>\n",
       "      <td>1</td>\n",
       "      <td>1</td>\n",
       "      <td>0</td>\n",
       "    </tr>\n",
       "    <tr>\n",
       "      <th>4</th>\n",
       "      <td>5</td>\n",
       "      <td>['web', 'email']</td>\n",
       "      <td>20</td>\n",
       "      <td>10</td>\n",
       "      <td>discount</td>\n",
       "      <td>0b1e1539f2cc45b7b9fa7c272da2e1d7</td>\n",
       "      <td>1</td>\n",
       "      <td>0</td>\n",
       "      <td>1</td>\n",
       "      <td>0</td>\n",
       "    </tr>\n",
       "    <tr>\n",
       "      <th>5</th>\n",
       "      <td>3</td>\n",
       "      <td>['web', 'email', 'mobile', 'social']</td>\n",
       "      <td>7</td>\n",
       "      <td>7</td>\n",
       "      <td>discount</td>\n",
       "      <td>2298d6c36e964ae4a3e7e9706d1fb8c2</td>\n",
       "      <td>1</td>\n",
       "      <td>1</td>\n",
       "      <td>1</td>\n",
       "      <td>1</td>\n",
       "    </tr>\n",
       "    <tr>\n",
       "      <th>6</th>\n",
       "      <td>2</td>\n",
       "      <td>['web', 'email', 'mobile', 'social']</td>\n",
       "      <td>10</td>\n",
       "      <td>10</td>\n",
       "      <td>discount</td>\n",
       "      <td>fafdcd668e3743c1bb461111dcafc2a4</td>\n",
       "      <td>1</td>\n",
       "      <td>1</td>\n",
       "      <td>1</td>\n",
       "      <td>1</td>\n",
       "    </tr>\n",
       "    <tr>\n",
       "      <th>7</th>\n",
       "      <td>0</td>\n",
       "      <td>['email', 'mobile', 'social']</td>\n",
       "      <td>0</td>\n",
       "      <td>3</td>\n",
       "      <td>informational</td>\n",
       "      <td>5a8bc65990b245e5a138643cd4eb9837</td>\n",
       "      <td>1</td>\n",
       "      <td>1</td>\n",
       "      <td>0</td>\n",
       "      <td>1</td>\n",
       "    </tr>\n",
       "    <tr>\n",
       "      <th>8</th>\n",
       "      <td>5</td>\n",
       "      <td>['web', 'email', 'mobile', 'social']</td>\n",
       "      <td>5</td>\n",
       "      <td>5</td>\n",
       "      <td>bogo</td>\n",
       "      <td>f19421c1d4aa40978ebb69ca19b0e20d</td>\n",
       "      <td>1</td>\n",
       "      <td>1</td>\n",
       "      <td>1</td>\n",
       "      <td>1</td>\n",
       "    </tr>\n",
       "    <tr>\n",
       "      <th>9</th>\n",
       "      <td>2</td>\n",
       "      <td>['web', 'email', 'mobile']</td>\n",
       "      <td>10</td>\n",
       "      <td>7</td>\n",
       "      <td>discount</td>\n",
       "      <td>2906b810c7d4411798c6938adc9daaa5</td>\n",
       "      <td>1</td>\n",
       "      <td>1</td>\n",
       "      <td>1</td>\n",
       "      <td>0</td>\n",
       "    </tr>\n",
       "  </tbody>\n",
       "</table>\n",
       "</div>"
      ],
      "text/plain": [
       "   reward                              channels  difficulty  duration  \\\n",
       "0      10         ['email', 'mobile', 'social']          10         7   \n",
       "1      10  ['web', 'email', 'mobile', 'social']          10         5   \n",
       "2       0            ['web', 'email', 'mobile']           0         4   \n",
       "3       5            ['web', 'email', 'mobile']           5         7   \n",
       "4       5                      ['web', 'email']          20        10   \n",
       "5       3  ['web', 'email', 'mobile', 'social']           7         7   \n",
       "6       2  ['web', 'email', 'mobile', 'social']          10        10   \n",
       "7       0         ['email', 'mobile', 'social']           0         3   \n",
       "8       5  ['web', 'email', 'mobile', 'social']           5         5   \n",
       "9       2            ['web', 'email', 'mobile']          10         7   \n",
       "\n",
       "      offer_type                          offer_id  email  mobile  web  social  \n",
       "0           bogo  ae264e3637204a6fb9bb56bc8210ddfd      1       1    0       1  \n",
       "1           bogo  4d5c57ea9a6940dd891ad53e9dbe8da0      1       1    1       1  \n",
       "2  informational  3f207df678b143eea3cee63160fa8bed      1       1    1       0  \n",
       "3           bogo  9b98b8c7a33c4b65b9aebfe6a799e6d9      1       1    1       0  \n",
       "4       discount  0b1e1539f2cc45b7b9fa7c272da2e1d7      1       0    1       0  \n",
       "5       discount  2298d6c36e964ae4a3e7e9706d1fb8c2      1       1    1       1  \n",
       "6       discount  fafdcd668e3743c1bb461111dcafc2a4      1       1    1       1  \n",
       "7  informational  5a8bc65990b245e5a138643cd4eb9837      1       1    0       1  \n",
       "8           bogo  f19421c1d4aa40978ebb69ca19b0e20d      1       1    1       1  \n",
       "9       discount  2906b810c7d4411798c6938adc9daaa5      1       1    1       0  "
      ]
     },
     "execution_count": 14,
     "metadata": {},
     "output_type": "execute_result"
    }
   ],
   "source": [
    "# Unnesting the channels column and giving it a binary value if the offer contains that channel\n",
    "def email(portfolio):\n",
    "    if 'email' in portfolio['channels']:\n",
    "        val = 1\n",
    "    else:\n",
    "        val = 0\n",
    "    return val\n",
    "\n",
    "def mobile(portfolio):\n",
    "    if 'mobile' in portfolio['channels']:\n",
    "        val = 1\n",
    "    else:\n",
    "        val = 0\n",
    "    return val\n",
    "\n",
    "def web(portfolio):\n",
    "    if 'web' in portfolio['channels']:\n",
    "        val = 1\n",
    "    else:\n",
    "        val = 0\n",
    "    return val\n",
    "\n",
    "def social(portfolio):\n",
    "    if 'social' in portfolio['channels']:\n",
    "        val = 1\n",
    "    else:\n",
    "        val = 0\n",
    "    return val\n",
    "\n",
    "portfolio['email'] = portfolio.apply(email, axis=1)\n",
    "portfolio['mobile'] = portfolio.apply(mobile, axis=1)\n",
    "portfolio['web'] = portfolio.apply(web, axis=1)\n",
    "portfolio['social'] = portfolio.apply(social, axis=1)\n",
    "portfolio.head(10)"
   ]
  },
  {
   "cell_type": "code",
   "execution_count": 15,
   "id": "f7c5838e",
   "metadata": {},
   "outputs": [
    {
     "data": {
      "text/html": [
       "<div>\n",
       "<style scoped>\n",
       "    .dataframe tbody tr th:only-of-type {\n",
       "        vertical-align: middle;\n",
       "    }\n",
       "\n",
       "    .dataframe tbody tr th {\n",
       "        vertical-align: top;\n",
       "    }\n",
       "\n",
       "    .dataframe thead th {\n",
       "        text-align: right;\n",
       "    }\n",
       "</style>\n",
       "<table border=\"1\" class=\"dataframe\">\n",
       "  <thead>\n",
       "    <tr style=\"text-align: right;\">\n",
       "      <th></th>\n",
       "      <th>reward</th>\n",
       "      <th>channels</th>\n",
       "      <th>difficulty</th>\n",
       "      <th>duration</th>\n",
       "      <th>offer_id</th>\n",
       "      <th>email</th>\n",
       "      <th>mobile</th>\n",
       "      <th>web</th>\n",
       "      <th>social</th>\n",
       "      <th>bogo</th>\n",
       "      <th>discount</th>\n",
       "      <th>informational</th>\n",
       "    </tr>\n",
       "  </thead>\n",
       "  <tbody>\n",
       "    <tr>\n",
       "      <th>0</th>\n",
       "      <td>10</td>\n",
       "      <td>['email', 'mobile', 'social']</td>\n",
       "      <td>10</td>\n",
       "      <td>7</td>\n",
       "      <td>ae264e3637204a6fb9bb56bc8210ddfd</td>\n",
       "      <td>1</td>\n",
       "      <td>1</td>\n",
       "      <td>0</td>\n",
       "      <td>1</td>\n",
       "      <td>1</td>\n",
       "      <td>0</td>\n",
       "      <td>0</td>\n",
       "    </tr>\n",
       "    <tr>\n",
       "      <th>1</th>\n",
       "      <td>10</td>\n",
       "      <td>['web', 'email', 'mobile', 'social']</td>\n",
       "      <td>10</td>\n",
       "      <td>5</td>\n",
       "      <td>4d5c57ea9a6940dd891ad53e9dbe8da0</td>\n",
       "      <td>1</td>\n",
       "      <td>1</td>\n",
       "      <td>1</td>\n",
       "      <td>1</td>\n",
       "      <td>1</td>\n",
       "      <td>0</td>\n",
       "      <td>0</td>\n",
       "    </tr>\n",
       "    <tr>\n",
       "      <th>2</th>\n",
       "      <td>0</td>\n",
       "      <td>['web', 'email', 'mobile']</td>\n",
       "      <td>0</td>\n",
       "      <td>4</td>\n",
       "      <td>3f207df678b143eea3cee63160fa8bed</td>\n",
       "      <td>1</td>\n",
       "      <td>1</td>\n",
       "      <td>1</td>\n",
       "      <td>0</td>\n",
       "      <td>0</td>\n",
       "      <td>0</td>\n",
       "      <td>1</td>\n",
       "    </tr>\n",
       "    <tr>\n",
       "      <th>3</th>\n",
       "      <td>5</td>\n",
       "      <td>['web', 'email', 'mobile']</td>\n",
       "      <td>5</td>\n",
       "      <td>7</td>\n",
       "      <td>9b98b8c7a33c4b65b9aebfe6a799e6d9</td>\n",
       "      <td>1</td>\n",
       "      <td>1</td>\n",
       "      <td>1</td>\n",
       "      <td>0</td>\n",
       "      <td>1</td>\n",
       "      <td>0</td>\n",
       "      <td>0</td>\n",
       "    </tr>\n",
       "    <tr>\n",
       "      <th>4</th>\n",
       "      <td>5</td>\n",
       "      <td>['web', 'email']</td>\n",
       "      <td>20</td>\n",
       "      <td>10</td>\n",
       "      <td>0b1e1539f2cc45b7b9fa7c272da2e1d7</td>\n",
       "      <td>1</td>\n",
       "      <td>0</td>\n",
       "      <td>1</td>\n",
       "      <td>0</td>\n",
       "      <td>0</td>\n",
       "      <td>1</td>\n",
       "      <td>0</td>\n",
       "    </tr>\n",
       "  </tbody>\n",
       "</table>\n",
       "</div>"
      ],
      "text/plain": [
       "   reward                              channels  difficulty  duration  \\\n",
       "0      10         ['email', 'mobile', 'social']          10         7   \n",
       "1      10  ['web', 'email', 'mobile', 'social']          10         5   \n",
       "2       0            ['web', 'email', 'mobile']           0         4   \n",
       "3       5            ['web', 'email', 'mobile']           5         7   \n",
       "4       5                      ['web', 'email']          20        10   \n",
       "\n",
       "                           offer_id  email  mobile  web  social  bogo  \\\n",
       "0  ae264e3637204a6fb9bb56bc8210ddfd      1       1    0       1     1   \n",
       "1  4d5c57ea9a6940dd891ad53e9dbe8da0      1       1    1       1     1   \n",
       "2  3f207df678b143eea3cee63160fa8bed      1       1    1       0     0   \n",
       "3  9b98b8c7a33c4b65b9aebfe6a799e6d9      1       1    1       0     1   \n",
       "4  0b1e1539f2cc45b7b9fa7c272da2e1d7      1       0    1       0     0   \n",
       "\n",
       "   discount  informational  \n",
       "0         0              0  \n",
       "1         0              0  \n",
       "2         0              1  \n",
       "3         0              0  \n",
       "4         1              0  "
      ]
     },
     "execution_count": 15,
     "metadata": {},
     "output_type": "execute_result"
    }
   ],
   "source": [
    "# One-hot encode 'offer_type' column\n",
    "portfolio = pd.get_dummies(portfolio , columns=['offer_type'])\n",
    "portfolio.rename(columns={'offer_type_bogo': 'bogo', 'offer_type_discount': 'discount', 'offer_type_informational':'informational'}, inplace = True)\n",
    "portfolio.head()"
   ]
  },
  {
   "cell_type": "code",
   "execution_count": 16,
   "id": "acf41979",
   "metadata": {},
   "outputs": [
    {
     "data": {
      "text/plain": [
       "array(['ae264e3637204a6fb9bb56bc8210ddfd',\n",
       "       '4d5c57ea9a6940dd891ad53e9dbe8da0',\n",
       "       '3f207df678b143eea3cee63160fa8bed',\n",
       "       '9b98b8c7a33c4b65b9aebfe6a799e6d9',\n",
       "       '0b1e1539f2cc45b7b9fa7c272da2e1d7',\n",
       "       '2298d6c36e964ae4a3e7e9706d1fb8c2',\n",
       "       'fafdcd668e3743c1bb461111dcafc2a4',\n",
       "       '5a8bc65990b245e5a138643cd4eb9837',\n",
       "       'f19421c1d4aa40978ebb69ca19b0e20d',\n",
       "       '2906b810c7d4411798c6938adc9daaa5'], dtype=object)"
      ]
     },
     "execution_count": 16,
     "metadata": {},
     "output_type": "execute_result"
    }
   ],
   "source": [
    "portfolio['offer_id'].unique()"
   ]
  },
  {
   "cell_type": "code",
   "execution_count": 17,
   "id": "05c51e2c",
   "metadata": {},
   "outputs": [
    {
     "data": {
      "text/plain": [
       "array([ 1,  2,  3,  4,  5,  6,  7,  8,  9, 10])"
      ]
     },
     "execution_count": 17,
     "metadata": {},
     "output_type": "execute_result"
    }
   ],
   "source": [
    "portfolio['offer_id'] = portfolio['offer_id'].replace({'ae264e3637204a6fb9bb56bc8210ddfd': 1, \n",
    "                                                               '4d5c57ea9a6940dd891ad53e9dbe8da0': 2,\n",
    "                                                               '3f207df678b143eea3cee63160fa8bed': 3,\n",
    "                                                               '9b98b8c7a33c4b65b9aebfe6a799e6d9': 4,\n",
    "                                                               '0b1e1539f2cc45b7b9fa7c272da2e1d7': 5,\n",
    "                                                               '2298d6c36e964ae4a3e7e9706d1fb8c2': 6,\n",
    "                                                               'fafdcd668e3743c1bb461111dcafc2a4': 7,\n",
    "                                                               '5a8bc65990b245e5a138643cd4eb9837': 8,\n",
    "                                                               'f19421c1d4aa40978ebb69ca19b0e20d': 9,\n",
    "                                                               '2906b810c7d4411798c6938adc9daaa5': 10})\n",
    "portfolio['offer_id'].unique()"
   ]
  },
  {
   "cell_type": "code",
   "execution_count": 18,
   "id": "b67c4335",
   "metadata": {},
   "outputs": [
    {
     "data": {
      "text/html": [
       "<div>\n",
       "<style scoped>\n",
       "    .dataframe tbody tr th:only-of-type {\n",
       "        vertical-align: middle;\n",
       "    }\n",
       "\n",
       "    .dataframe tbody tr th {\n",
       "        vertical-align: top;\n",
       "    }\n",
       "\n",
       "    .dataframe thead th {\n",
       "        text-align: right;\n",
       "    }\n",
       "</style>\n",
       "<table border=\"1\" class=\"dataframe\">\n",
       "  <thead>\n",
       "    <tr style=\"text-align: right;\">\n",
       "      <th></th>\n",
       "      <th>reward</th>\n",
       "      <th>difficulty</th>\n",
       "      <th>duration</th>\n",
       "      <th>offer_id</th>\n",
       "      <th>email</th>\n",
       "      <th>mobile</th>\n",
       "      <th>web</th>\n",
       "      <th>social</th>\n",
       "      <th>bogo</th>\n",
       "      <th>discount</th>\n",
       "      <th>informational</th>\n",
       "    </tr>\n",
       "  </thead>\n",
       "  <tbody>\n",
       "    <tr>\n",
       "      <th>0</th>\n",
       "      <td>10</td>\n",
       "      <td>10</td>\n",
       "      <td>7</td>\n",
       "      <td>1</td>\n",
       "      <td>1</td>\n",
       "      <td>1</td>\n",
       "      <td>0</td>\n",
       "      <td>1</td>\n",
       "      <td>1</td>\n",
       "      <td>0</td>\n",
       "      <td>0</td>\n",
       "    </tr>\n",
       "    <tr>\n",
       "      <th>1</th>\n",
       "      <td>10</td>\n",
       "      <td>10</td>\n",
       "      <td>5</td>\n",
       "      <td>2</td>\n",
       "      <td>1</td>\n",
       "      <td>1</td>\n",
       "      <td>1</td>\n",
       "      <td>1</td>\n",
       "      <td>1</td>\n",
       "      <td>0</td>\n",
       "      <td>0</td>\n",
       "    </tr>\n",
       "    <tr>\n",
       "      <th>2</th>\n",
       "      <td>0</td>\n",
       "      <td>0</td>\n",
       "      <td>4</td>\n",
       "      <td>3</td>\n",
       "      <td>1</td>\n",
       "      <td>1</td>\n",
       "      <td>1</td>\n",
       "      <td>0</td>\n",
       "      <td>0</td>\n",
       "      <td>0</td>\n",
       "      <td>1</td>\n",
       "    </tr>\n",
       "    <tr>\n",
       "      <th>3</th>\n",
       "      <td>5</td>\n",
       "      <td>5</td>\n",
       "      <td>7</td>\n",
       "      <td>4</td>\n",
       "      <td>1</td>\n",
       "      <td>1</td>\n",
       "      <td>1</td>\n",
       "      <td>0</td>\n",
       "      <td>1</td>\n",
       "      <td>0</td>\n",
       "      <td>0</td>\n",
       "    </tr>\n",
       "    <tr>\n",
       "      <th>4</th>\n",
       "      <td>5</td>\n",
       "      <td>20</td>\n",
       "      <td>10</td>\n",
       "      <td>5</td>\n",
       "      <td>1</td>\n",
       "      <td>0</td>\n",
       "      <td>1</td>\n",
       "      <td>0</td>\n",
       "      <td>0</td>\n",
       "      <td>1</td>\n",
       "      <td>0</td>\n",
       "    </tr>\n",
       "  </tbody>\n",
       "</table>\n",
       "</div>"
      ],
      "text/plain": [
       "   reward  difficulty  duration  offer_id  email  mobile  web  social  bogo  \\\n",
       "0      10          10         7         1      1       1    0       1     1   \n",
       "1      10          10         5         2      1       1    1       1     1   \n",
       "2       0           0         4         3      1       1    1       0     0   \n",
       "3       5           5         7         4      1       1    1       0     1   \n",
       "4       5          20        10         5      1       0    1       0     0   \n",
       "\n",
       "   discount  informational  \n",
       "0         0              0  \n",
       "1         0              0  \n",
       "2         0              1  \n",
       "3         0              0  \n",
       "4         1              0  "
      ]
     },
     "execution_count": 18,
     "metadata": {},
     "output_type": "execute_result"
    }
   ],
   "source": [
    "final_portfolio = portfolio.drop(columns = ['channels'\n",
    "                                           ])\n",
    "\n",
    "final_portfolio.head()"
   ]
  },
  {
   "cell_type": "code",
   "execution_count": 19,
   "id": "46fb2b9b",
   "metadata": {},
   "outputs": [
    {
     "name": "stdout",
     "output_type": "stream",
     "text": [
      "<class 'pandas.core.frame.DataFrame'>\n",
      "RangeIndex: 10 entries, 0 to 9\n",
      "Data columns (total 11 columns):\n",
      " #   Column         Non-Null Count  Dtype\n",
      "---  ------         --------------  -----\n",
      " 0   reward         10 non-null     int64\n",
      " 1   difficulty     10 non-null     int64\n",
      " 2   duration       10 non-null     int64\n",
      " 3   offer_id       10 non-null     int64\n",
      " 4   email          10 non-null     int64\n",
      " 5   mobile         10 non-null     int64\n",
      " 6   web            10 non-null     int64\n",
      " 7   social         10 non-null     int64\n",
      " 8   bogo           10 non-null     uint8\n",
      " 9   discount       10 non-null     uint8\n",
      " 10  informational  10 non-null     uint8\n",
      "dtypes: int64(8), uint8(3)\n",
      "memory usage: 798.0 bytes\n"
     ]
    }
   ],
   "source": [
    "final_portfolio.info()"
   ]
  },
  {
   "cell_type": "markdown",
   "id": "fc1a0206",
   "metadata": {},
   "source": [
    "**Observations:**\n",
    "- channels and offer_type need to be one hot encoded\n",
    "- portfolio['id'] == 'offer_id' in transcript['value'] so I renamed 'id' to 'offer_id'\n",
    "- instead of the string of characters for offer_id I created a column that has a more interpretable offer name like offer_1, offer_2 etc\n",
    "- unnested the list in channels"
   ]
  },
  {
   "cell_type": "markdown",
   "id": "589745b5",
   "metadata": {},
   "source": [
    "# Profile Dataset\n",
    "\n",
    "17,000 records where each row represents a customer, their gender, age, income, and when they became member of the rewards program."
   ]
  },
  {
   "cell_type": "code",
   "execution_count": 20,
   "id": "e9f5c49e",
   "metadata": {},
   "outputs": [
    {
     "name": "stdout",
     "output_type": "stream",
     "text": [
      "<class 'pandas.core.frame.DataFrame'>\n",
      "RangeIndex: 17000 entries, 0 to 16999\n",
      "Data columns (total 5 columns):\n",
      " #   Column            Non-Null Count  Dtype  \n",
      "---  ------            --------------  -----  \n",
      " 0   gender            14825 non-null  object \n",
      " 1   age               17000 non-null  int64  \n",
      " 2   id                17000 non-null  object \n",
      " 3   became_member_on  17000 non-null  int64  \n",
      " 4   income            14825 non-null  float64\n",
      "dtypes: float64(1), int64(2), object(2)\n",
      "memory usage: 664.2+ KB\n"
     ]
    }
   ],
   "source": [
    "profile.info()"
   ]
  },
  {
   "cell_type": "code",
   "execution_count": 21,
   "id": "ccd4e7dc",
   "metadata": {},
   "outputs": [
    {
     "data": {
      "text/plain": [
       "gender                      object\n",
       "age                          int64\n",
       "id                          object\n",
       "became_member_on    datetime64[ns]\n",
       "income                     float64\n",
       "dtype: object"
      ]
     },
     "execution_count": 21,
     "metadata": {},
     "output_type": "execute_result"
    }
   ],
   "source": [
    "# Convert dates from int to datetime\n",
    "profile['became_member_on'] = pd.to_datetime(profile['became_member_on'], format='%Y%m%d')\n",
    "\n",
    "profile.dtypes"
   ]
  },
  {
   "cell_type": "code",
   "execution_count": 22,
   "id": "38745e88",
   "metadata": {},
   "outputs": [
    {
     "data": {
      "image/png": "[encoded data removed]",
      "text/plain": [
       "<Figure size 720x504 with 1 Axes>"
      ]
     },
     "metadata": {
      "needs_background": "light"
     },
     "output_type": "display_data"
    }
   ],
   "source": [
    "# Number of sign ups each day\n",
    "profile['became_member_on'].value_counts().plot(kind = 'line', figsize = (10,7))\n",
    "plt.xlabel('Date', size = 16)\n",
    "plt.ylabel('Number of New Members', size = 16)\n",
    "plt.title('Number of New Members Over Time', size =18)\n",
    "plt.savefig('../images/membership_timeseries.png');"
   ]
  },
  {
   "cell_type": "markdown",
   "id": "9e5a68ec",
   "metadata": {},
   "source": [
    "Two big jumps in membership signups, a little over halfway through 2015 and 2017 respectivly. "
   ]
  },
  {
   "cell_type": "code",
   "execution_count": 23,
   "id": "bc33994a",
   "metadata": {},
   "outputs": [
    {
     "data": {
      "text/plain": [
       "Timestamp('2013-07-29 00:00:00')"
      ]
     },
     "execution_count": 23,
     "metadata": {},
     "output_type": "execute_result"
    }
   ],
   "source": [
    "# First date membership sign up in the dataset\n",
    "profile['became_member_on'].min()"
   ]
  },
  {
   "cell_type": "code",
   "execution_count": 24,
   "id": "62adf6f1",
   "metadata": {},
   "outputs": [
    {
     "data": {
      "text/plain": [
       "Timestamp('2018-07-26 00:00:00')"
      ]
     },
     "execution_count": 24,
     "metadata": {},
     "output_type": "execute_result"
    }
   ],
   "source": [
    "# Last date membership sign up in the dataset\n",
    "profile['became_member_on'].max()"
   ]
  },
  {
   "cell_type": "code",
   "execution_count": 25,
   "id": "0d0c530a",
   "metadata": {},
   "outputs": [
    {
     "data": {
      "text/html": [
       "<div>\n",
       "<style scoped>\n",
       "    .dataframe tbody tr th:only-of-type {\n",
       "        vertical-align: middle;\n",
       "    }\n",
       "\n",
       "    .dataframe tbody tr th {\n",
       "        vertical-align: top;\n",
       "    }\n",
       "\n",
       "    .dataframe thead th {\n",
       "        text-align: right;\n",
       "    }\n",
       "</style>\n",
       "<table border=\"1\" class=\"dataframe\">\n",
       "  <thead>\n",
       "    <tr style=\"text-align: right;\">\n",
       "      <th></th>\n",
       "      <th>gender</th>\n",
       "      <th>age</th>\n",
       "      <th>id</th>\n",
       "      <th>income</th>\n",
       "      <th>year</th>\n",
       "      <th>month</th>\n",
       "      <th>day</th>\n",
       "      <th>membership_days</th>\n",
       "    </tr>\n",
       "  </thead>\n",
       "  <tbody>\n",
       "    <tr>\n",
       "      <th>0</th>\n",
       "      <td>NaN</td>\n",
       "      <td>118</td>\n",
       "      <td>68be06ca386d4c31939f3a4f0e3dd783</td>\n",
       "      <td>NaN</td>\n",
       "      <td>2017</td>\n",
       "      <td>2</td>\n",
       "      <td>Sunday</td>\n",
       "      <td>530</td>\n",
       "    </tr>\n",
       "    <tr>\n",
       "      <th>1</th>\n",
       "      <td>F</td>\n",
       "      <td>55</td>\n",
       "      <td>0610b486422d4921ae7d2bf64640c50b</td>\n",
       "      <td>112000.0</td>\n",
       "      <td>2017</td>\n",
       "      <td>7</td>\n",
       "      <td>Saturday</td>\n",
       "      <td>377</td>\n",
       "    </tr>\n",
       "    <tr>\n",
       "      <th>2</th>\n",
       "      <td>NaN</td>\n",
       "      <td>118</td>\n",
       "      <td>38fe809add3b4fcf9315a9694bb96ff5</td>\n",
       "      <td>NaN</td>\n",
       "      <td>2018</td>\n",
       "      <td>7</td>\n",
       "      <td>Thursday</td>\n",
       "      <td>15</td>\n",
       "    </tr>\n",
       "  </tbody>\n",
       "</table>\n",
       "</div>"
      ],
      "text/plain": [
       "  gender  age                                id    income  year  month  \\\n",
       "0    NaN  118  68be06ca386d4c31939f3a4f0e3dd783       NaN  2017      2   \n",
       "1      F   55  0610b486422d4921ae7d2bf64640c50b  112000.0  2017      7   \n",
       "2    NaN  118  38fe809add3b4fcf9315a9694bb96ff5       NaN  2018      7   \n",
       "\n",
       "        day  membership_days  \n",
       "0    Sunday              530  \n",
       "1  Saturday              377  \n",
       "2  Thursday               15  "
      ]
     },
     "execution_count": 25,
     "metadata": {},
     "output_type": "execute_result"
    }
   ],
   "source": [
    "# Breaking up the date from became_member_on to be able to use for EDA & clustering\n",
    "# Split out into year, month and day, and calculate total membership_days using today\n",
    "profile['year'] = profile['became_member_on'].dt.year\n",
    "profile['month'] = profile['became_member_on'].dt.month\n",
    "profile['day']=profile['became_member_on'].dt.day_name()\n",
    "\n",
    "#Use last date of dataset to calculate membership_days and added 1 day so that signup date starts from 1 day\n",
    "profile['membership_days'] = (profile['became_member_on'].max() - profile['became_member_on']).astype('timedelta64[D]').astype(int) + 1\n",
    "\n",
    "# Drop 'became_member_on'\n",
    "profile.drop(columns='became_member_on', inplace=True)\n",
    "\n",
    "profile.head(3)"
   ]
  },
  {
   "cell_type": "code",
   "execution_count": 26,
   "id": "29678c01",
   "metadata": {},
   "outputs": [
    {
     "data": {
      "image/png": "[encoded data removed]",
      "text/plain": [
       "<Figure size 720x504 with 1 Axes>"
      ]
     },
     "metadata": {
      "needs_background": "light"
     },
     "output_type": "display_data"
    }
   ],
   "source": [
    "plt.figure(figsize=(10,7))\n",
    "ax = sns.countplot(y=\"year\", data=profile)\n",
    "plt.title('New Membership by Year', size = 18)\n",
    "plt.xlabel('Count', size = 16)\n",
    "plt.yticks(size = 14)\n",
    "plt.ylabel('Year', size = 16)\n",
    "plt.savefig('../images/membership_freq.png');"
   ]
  },
  {
   "cell_type": "markdown",
   "id": "1304f848",
   "metadata": {},
   "source": [
    "2017 at first glance had more membership sign ups for the rewards program than in 2018."
   ]
  },
  {
   "cell_type": "code",
   "execution_count": 27,
   "id": "09e90c43",
   "metadata": {},
   "outputs": [
    {
     "data": {
      "image/png": "[encoded data removed]",
      "text/plain": [
       "<Figure size 720x504 with 1 Axes>"
      ]
     },
     "metadata": {
      "needs_background": "light"
     },
     "output_type": "display_data"
    }
   ],
   "source": [
    "membership_subs = profile[profile['year']>= 2013].groupby(['year','month'], as_index=False).agg({'id':'count'})\n",
    "plt.figure(figsize=(10,7))\n",
    "sns.pointplot(x=\"month\", y=\"id\", hue=\"year\", data = membership_subs, palette = 'Set2')\n",
    "plt.ylabel('Number of New Members', size = 16)\n",
    "plt.xlabel('Month', size = 16)\n",
    "plt.xticks(size = 14)\n",
    "plt.yticks(size = 14)\n",
    "plt.title('New Memberships by Month and Year', size = 18)\n",
    "plt.savefig('../images/membership_month_year.png');"
   ]
  },
  {
   "cell_type": "markdown",
   "id": "2adb4c57",
   "metadata": {},
   "source": [
    "Data for 2018 & 2013 aren't a full year which is why 2018 might be lower than total new memberships for 2017."
   ]
  },
  {
   "cell_type": "code",
   "execution_count": 28,
   "id": "5c227af7",
   "metadata": {},
   "outputs": [
    {
     "data": {
      "image/png": "[encoded data removed]",
      "text/plain": [
       "<Figure size 720x504 with 1 Axes>"
      ]
     },
     "metadata": {
      "needs_background": "light"
     },
     "output_type": "display_data"
    }
   ],
   "source": [
    "plt.figure(figsize=(10,7))\n",
    "ax = sns.countplot(y = profile['month'])\n",
    "plt.title('New Membership by Month', size = 18)\n",
    "plt.xlabel('Count', size = 16)\n",
    "plt.yticks(size = 14)\n",
    "plt.ylabel('Month', size = 16)\n",
    "plt.savefig('../images/membership_month.png');"
   ]
  },
  {
   "cell_type": "markdown",
   "id": "6d7915ce",
   "metadata": {},
   "source": [
    "August had the most new membership sign ups."
   ]
  },
  {
   "cell_type": "code",
   "execution_count": 29,
   "id": "b23fccad",
   "metadata": {},
   "outputs": [
    {
     "data": {
      "text/plain": [
       "M        0.499059\n",
       "F        0.360529\n",
       "Blank    0.127941\n",
       "O        0.012471\n",
       "Name: gender_modified, dtype: float64"
      ]
     },
     "execution_count": 29,
     "metadata": {},
     "output_type": "execute_result"
    }
   ],
   "source": [
    "# Impute NaN genders with 'Blank' \n",
    "# Not filling with 'O' (other) group as it could represent gender nonbinary \n",
    "# which is not the same as customers just leaving that field blank\n",
    "profile['gender_modified'] = profile['gender'].fillna('Blank')\n",
    "\n",
    "profile['gender_modified'].value_counts(normalize = True)"
   ]
  },
  {
   "cell_type": "markdown",
   "id": "fe84c93d",
   "metadata": {},
   "source": [
    "Almost 50% of memberships identify as male, 36% female, 12.7% left gender blank, and 1.2% marked other"
   ]
  },
  {
   "cell_type": "code",
   "execution_count": 30,
   "id": "6d9d7b05",
   "metadata": {},
   "outputs": [
    {
     "data": {
      "image/png": "[encoded data removed]",
      "text/plain": [
       "<Figure size 576x432 with 1 Axes>"
      ]
     },
     "metadata": {
      "needs_background": "light"
     },
     "output_type": "display_data"
    }
   ],
   "source": [
    "plt.figure(figsize = (8,6))\n",
    "sns.countplot(data=profile,x='gender_modified')\n",
    "plt.title('Distribution of Genders', size = 18)\n",
    "plt.ylabel('Count', size = 16)\n",
    "plt.xlabel('Gender', size = 16)\n",
    "plt.yticks(size = 12)\n",
    "plt.savefig('../images/gender_dist.png');"
   ]
  },
  {
   "cell_type": "code",
   "execution_count": 31,
   "id": "143eff4d",
   "metadata": {},
   "outputs": [
    {
     "data": {
      "image/png": "[encoded data removed]",
      "text/plain": [
       "<Figure size 576x432 with 1 Axes>"
      ]
     },
     "metadata": {
      "needs_background": "light"
     },
     "output_type": "display_data"
    }
   ],
   "source": [
    "plt.figure(figsize = (8,6))\n",
    "sns.histplot(data=profile,x='age')\n",
    "plt.title('Distribution of Ages', size = 18)\n",
    "plt.ylabel('Count', size = 16)\n",
    "plt.xlabel('Age', size = 16)\n",
    "plt.yticks(size = 12);"
   ]
  },
  {
   "cell_type": "markdown",
   "id": "be587e25",
   "metadata": {},
   "source": [
    "Pretty significant outlier at 118 years old - these all correspond with the NaNs we saw in the gender column and income."
   ]
  },
  {
   "cell_type": "code",
   "execution_count": 33,
   "id": "bedb64cc",
   "metadata": {},
   "outputs": [],
   "source": [
    "age_outlier = profile[profile['age']==118]"
   ]
  },
  {
   "cell_type": "code",
   "execution_count": 36,
   "id": "f1eabec3",
   "metadata": {},
   "outputs": [
    {
     "data": {
      "text/plain": [
       "Text(0, 0.5, 'Year')"
      ]
     },
     "execution_count": 36,
     "metadata": {},
     "output_type": "execute_result"
    },
    {
     "data": {
      "image/png": "[encoded data removed]",
      "text/plain": [
       "<Figure size 720x504 with 1 Axes>"
      ]
     },
     "metadata": {
      "needs_background": "light"
     },
     "output_type": "display_data"
    }
   ],
   "source": [
    "# Checking diistribution of blank demographic info - most members from last 3 years but some in all bins\n",
    "plt.figure(figsize=(10,7))\n",
    "ax = sns.countplot(y=\"year\", data=age_outlier)\n",
    "plt.title('Blank Members by Year', size = 18)\n",
    "plt.xlabel('Count', size = 16)\n",
    "plt.yticks(size = 14)\n",
    "plt.ylabel('Year', size = 16)"
   ]
  },
  {
   "cell_type": "code",
   "execution_count": 32,
   "id": "ba9c3467",
   "metadata": {},
   "outputs": [
    {
     "data": {
      "text/plain": [
       "Series([], Name: gender, dtype: int64)"
      ]
     },
     "execution_count": 32,
     "metadata": {},
     "output_type": "execute_result"
    }
   ],
   "source": [
    "# Fix outlier in Age\n",
    "profile[profile['age']==118]['gender'].value_counts()"
   ]
  },
  {
   "cell_type": "code",
   "execution_count": 33,
   "id": "3e95ab4f",
   "metadata": {},
   "outputs": [],
   "source": [
    "# Imputing with random sampling of age to maintain distribution\n",
    "profile['age_modified'] = profile['age'].apply(lambda x: np.random.choice(profile[profile['age'] != 118]['age']) \n",
    "                                               if x == 118 else x)"
   ]
  },
  {
   "cell_type": "code",
   "execution_count": 102,
   "id": "1e1576a4",
   "metadata": {},
   "outputs": [
    {
     "data": {
      "image/png": "[encoded data removed]",
      "text/plain": [
       "<Figure size 576x432 with 1 Axes>"
      ]
     },
     "metadata": {
      "needs_background": "light"
     },
     "output_type": "display_data"
    }
   ],
   "source": [
    "plt.figure(figsize = (8,6))\n",
    "sns.histplot(data=profile,x='age_modified', hue='gender_modified', palette ='rainbow', multiple = 'stack',\n",
    "        hue_order = ['O', 'Blank','F', 'M'])\n",
    "plt.title('Distribution of Ages After Imputing', size = 18)\n",
    "plt.ylabel('Count', size = 16)\n",
    "plt.xlabel('Age', size = 16)\n",
    "plt.yticks(size = 12)\n",
    "plt.savefig('../images/age_gender_dist.png');"
   ]
  },
  {
   "cell_type": "code",
   "execution_count": 35,
   "id": "438117e6",
   "metadata": {},
   "outputs": [
    {
     "data": {
      "image/png": "[encoded data removed]",
      "text/plain": [
       "<Figure size 576x432 with 1 Axes>"
      ]
     },
     "metadata": {
      "needs_background": "light"
     },
     "output_type": "display_data"
    }
   ],
   "source": [
    "plt.figure(figsize = (8,6))\n",
    "sns.histplot(data=profile,x='income')\n",
    "plt.title('Distribution of Incomes', size = 18)\n",
    "plt.ylabel('Count', size = 16)\n",
    "plt.xlabel('Income', size = 16)\n",
    "plt.yticks(size = 12);"
   ]
  },
  {
   "cell_type": "code",
   "execution_count": 36,
   "id": "f348209f",
   "metadata": {},
   "outputs": [
    {
     "data": {
      "text/plain": [
       "Series([], Name: income, dtype: int64)"
      ]
     },
     "execution_count": 36,
     "metadata": {},
     "output_type": "execute_result"
    }
   ],
   "source": [
    "# Income nulls also correspond with the age outlier and gender NaNs\n",
    "profile[profile['income'].isnull()].groupby('gender').count()['income']"
   ]
  },
  {
   "cell_type": "code",
   "execution_count": 37,
   "id": "d2e9b287",
   "metadata": {},
   "outputs": [],
   "source": [
    "# Impute empty incomes with random sampling of non null values\n",
    "profile['income_modified']= profile['income'].apply(\n",
    "    lambda x: np.random.choice(profile['income'].dropna().values) if np.isnan(x) else x).astype(int)"
   ]
  },
  {
   "cell_type": "code",
   "execution_count": 95,
   "id": "6512a090",
   "metadata": {},
   "outputs": [
    {
     "data": {
      "image/png": "[encoded data removed]",
      "text/plain": [
       "<Figure size 576x432 with 1 Axes>"
      ]
     },
     "metadata": {
      "needs_background": "light"
     },
     "output_type": "display_data"
    }
   ],
   "source": [
    "plt.figure(figsize = (8,6))\n",
    "sns.histplot(data=profile,x='income_modified', hue='gender_modified', palette ='rainbow', multiple = 'stack',\n",
    "        hue_order = ['O','Blank', 'F', 'M'])\n",
    "plt.title('Distribution of Incomes After Imputing', size = 18)\n",
    "plt.ylabel('Count', size = 16)\n",
    "plt.xlabel('Income', size = 16)\n",
    "plt.yticks(size = 12)\n",
    "plt.savefig('../images/income_gender_dist.png');"
   ]
  },
  {
   "cell_type": "code",
   "execution_count": 39,
   "id": "01b38856",
   "metadata": {},
   "outputs": [],
   "source": [
    "final_profile = profile.drop(columns = ['gender', 'age', 'income', 'year', 'month', 'day'])"
   ]
  },
  {
   "cell_type": "code",
   "execution_count": 40,
   "id": "975dc026",
   "metadata": {},
   "outputs": [
    {
     "data": {
      "text/html": [
       "<div>\n",
       "<style scoped>\n",
       "    .dataframe tbody tr th:only-of-type {\n",
       "        vertical-align: middle;\n",
       "    }\n",
       "\n",
       "    .dataframe tbody tr th {\n",
       "        vertical-align: top;\n",
       "    }\n",
       "\n",
       "    .dataframe thead th {\n",
       "        text-align: right;\n",
       "    }\n",
       "</style>\n",
       "<table border=\"1\" class=\"dataframe\">\n",
       "  <thead>\n",
       "    <tr style=\"text-align: right;\">\n",
       "      <th></th>\n",
       "      <th>age</th>\n",
       "      <th>income</th>\n",
       "      <th>year</th>\n",
       "      <th>month</th>\n",
       "      <th>membership_days</th>\n",
       "      <th>age_modified</th>\n",
       "      <th>income_modified</th>\n",
       "    </tr>\n",
       "  </thead>\n",
       "  <tbody>\n",
       "    <tr>\n",
       "      <th>count</th>\n",
       "      <td>17000.000000</td>\n",
       "      <td>14825.000000</td>\n",
       "      <td>17000.000000</td>\n",
       "      <td>17000.000000</td>\n",
       "      <td>17000.000000</td>\n",
       "      <td>17000.000000</td>\n",
       "      <td>17000.000000</td>\n",
       "    </tr>\n",
       "    <tr>\n",
       "      <th>mean</th>\n",
       "      <td>62.531412</td>\n",
       "      <td>65404.991568</td>\n",
       "      <td>2016.635000</td>\n",
       "      <td>6.683529</td>\n",
       "      <td>518.449882</td>\n",
       "      <td>54.398529</td>\n",
       "      <td>65493.294118</td>\n",
       "    </tr>\n",
       "    <tr>\n",
       "      <th>std</th>\n",
       "      <td>26.738580</td>\n",
       "      <td>21598.299410</td>\n",
       "      <td>1.177624</td>\n",
       "      <td>3.487098</td>\n",
       "      <td>411.223904</td>\n",
       "      <td>17.383642</td>\n",
       "      <td>21642.093538</td>\n",
       "    </tr>\n",
       "    <tr>\n",
       "      <th>min</th>\n",
       "      <td>18.000000</td>\n",
       "      <td>30000.000000</td>\n",
       "      <td>2013.000000</td>\n",
       "      <td>1.000000</td>\n",
       "      <td>1.000000</td>\n",
       "      <td>18.000000</td>\n",
       "      <td>30000.000000</td>\n",
       "    </tr>\n",
       "    <tr>\n",
       "      <th>25%</th>\n",
       "      <td>45.000000</td>\n",
       "      <td>49000.000000</td>\n",
       "      <td>2016.000000</td>\n",
       "      <td>4.000000</td>\n",
       "      <td>209.000000</td>\n",
       "      <td>42.000000</td>\n",
       "      <td>49000.000000</td>\n",
       "    </tr>\n",
       "    <tr>\n",
       "      <th>50%</th>\n",
       "      <td>58.000000</td>\n",
       "      <td>64000.000000</td>\n",
       "      <td>2017.000000</td>\n",
       "      <td>7.000000</td>\n",
       "      <td>359.000000</td>\n",
       "      <td>55.000000</td>\n",
       "      <td>64000.000000</td>\n",
       "    </tr>\n",
       "    <tr>\n",
       "      <th>75%</th>\n",
       "      <td>73.000000</td>\n",
       "      <td>80000.000000</td>\n",
       "      <td>2017.000000</td>\n",
       "      <td>10.000000</td>\n",
       "      <td>792.000000</td>\n",
       "      <td>66.000000</td>\n",
       "      <td>80000.000000</td>\n",
       "    </tr>\n",
       "    <tr>\n",
       "      <th>max</th>\n",
       "      <td>118.000000</td>\n",
       "      <td>120000.000000</td>\n",
       "      <td>2018.000000</td>\n",
       "      <td>12.000000</td>\n",
       "      <td>1824.000000</td>\n",
       "      <td>101.000000</td>\n",
       "      <td>120000.000000</td>\n",
       "    </tr>\n",
       "  </tbody>\n",
       "</table>\n",
       "</div>"
      ],
      "text/plain": [
       "                age         income          year         month  \\\n",
       "count  17000.000000   14825.000000  17000.000000  17000.000000   \n",
       "mean      62.531412   65404.991568   2016.635000      6.683529   \n",
       "std       26.738580   21598.299410      1.177624      3.487098   \n",
       "min       18.000000   30000.000000   2013.000000      1.000000   \n",
       "25%       45.000000   49000.000000   2016.000000      4.000000   \n",
       "50%       58.000000   64000.000000   2017.000000      7.000000   \n",
       "75%       73.000000   80000.000000   2017.000000     10.000000   \n",
       "max      118.000000  120000.000000   2018.000000     12.000000   \n",
       "\n",
       "       membership_days  age_modified  income_modified  \n",
       "count     17000.000000  17000.000000     17000.000000  \n",
       "mean        518.449882     54.398529     65493.294118  \n",
       "std         411.223904     17.383642     21642.093538  \n",
       "min           1.000000     18.000000     30000.000000  \n",
       "25%         209.000000     42.000000     49000.000000  \n",
       "50%         359.000000     55.000000     64000.000000  \n",
       "75%         792.000000     66.000000     80000.000000  \n",
       "max        1824.000000    101.000000    120000.000000  "
      ]
     },
     "execution_count": 40,
     "metadata": {},
     "output_type": "execute_result"
    }
   ],
   "source": [
    "profile.describe()"
   ]
  },
  {
   "cell_type": "markdown",
   "id": "68589688",
   "metadata": {},
   "source": [
    "Max age is now 101, min age is 18."
   ]
  },
  {
   "cell_type": "code",
   "execution_count": 41,
   "id": "c6951119",
   "metadata": {},
   "outputs": [
    {
     "data": {
      "text/plain": [
       "0    0\n",
       "1    1\n",
       "2    2\n",
       "3    3\n",
       "4    4\n",
       "Name: id, dtype: int64"
      ]
     },
     "execution_count": 41,
     "metadata": {},
     "output_type": "execute_result"
    }
   ],
   "source": [
    "# Loop over labels and encode with numeric values\n",
    "labels_dict = dict()\n",
    "start=0\n",
    "\n",
    "for label in final_profile['id']:\n",
    "    if label not in labels_dict:\n",
    "        labels_dict[label] = start\n",
    "        start += 1\n",
    "\n",
    "# Map label keys in 'id' with their values in 'labels_dict'\n",
    "final_profile['id'] = final_profile['id'].apply(lambda x: labels_dict[x])\n",
    "\n",
    "final_profile['id'].head()"
   ]
  },
  {
   "cell_type": "code",
   "execution_count": 42,
   "id": "f8675bce",
   "metadata": {},
   "outputs": [
    {
     "data": {
      "text/html": [
       "<div>\n",
       "<style scoped>\n",
       "    .dataframe tbody tr th:only-of-type {\n",
       "        vertical-align: middle;\n",
       "    }\n",
       "\n",
       "    .dataframe tbody tr th {\n",
       "        vertical-align: top;\n",
       "    }\n",
       "\n",
       "    .dataframe thead th {\n",
       "        text-align: right;\n",
       "    }\n",
       "</style>\n",
       "<table border=\"1\" class=\"dataframe\">\n",
       "  <thead>\n",
       "    <tr style=\"text-align: right;\">\n",
       "      <th></th>\n",
       "      <th>customer_id</th>\n",
       "      <th>membership_days</th>\n",
       "      <th>gender</th>\n",
       "      <th>age</th>\n",
       "      <th>income</th>\n",
       "    </tr>\n",
       "  </thead>\n",
       "  <tbody>\n",
       "    <tr>\n",
       "      <th>0</th>\n",
       "      <td>0</td>\n",
       "      <td>530</td>\n",
       "      <td>Blank</td>\n",
       "      <td>61</td>\n",
       "      <td>99000</td>\n",
       "    </tr>\n",
       "    <tr>\n",
       "      <th>1</th>\n",
       "      <td>1</td>\n",
       "      <td>377</td>\n",
       "      <td>F</td>\n",
       "      <td>55</td>\n",
       "      <td>112000</td>\n",
       "    </tr>\n",
       "    <tr>\n",
       "      <th>2</th>\n",
       "      <td>2</td>\n",
       "      <td>15</td>\n",
       "      <td>Blank</td>\n",
       "      <td>56</td>\n",
       "      <td>39000</td>\n",
       "    </tr>\n",
       "    <tr>\n",
       "      <th>3</th>\n",
       "      <td>3</td>\n",
       "      <td>444</td>\n",
       "      <td>F</td>\n",
       "      <td>75</td>\n",
       "      <td>100000</td>\n",
       "    </tr>\n",
       "    <tr>\n",
       "      <th>4</th>\n",
       "      <td>4</td>\n",
       "      <td>357</td>\n",
       "      <td>Blank</td>\n",
       "      <td>40</td>\n",
       "      <td>34000</td>\n",
       "    </tr>\n",
       "  </tbody>\n",
       "</table>\n",
       "</div>"
      ],
      "text/plain": [
       "   customer_id  membership_days gender  age  income\n",
       "0            0              530  Blank   61   99000\n",
       "1            1              377      F   55  112000\n",
       "2            2               15  Blank   56   39000\n",
       "3            3              444      F   75  100000\n",
       "4            4              357  Blank   40   34000"
      ]
     },
     "execution_count": 42,
     "metadata": {},
     "output_type": "execute_result"
    }
   ],
   "source": [
    "# Rename 'id' to 'customer_id' and other modified columns just for more clarity\n",
    "final_profile.rename(columns={'id': 'customer_id', \n",
    "                        'gender_modified': 'gender',\n",
    "                        'age_modified': 'age',\n",
    "                        'income_modified': 'income'}, inplace=True)\n",
    "final_profile.head()"
   ]
  },
  {
   "cell_type": "code",
   "execution_count": 43,
   "id": "8b71085a",
   "metadata": {},
   "outputs": [
    {
     "data": {
      "text/plain": [
       "True"
      ]
     },
     "execution_count": 43,
     "metadata": {},
     "output_type": "execute_result"
    }
   ],
   "source": [
    "# Make sure there aren't any duplicate customer profiles(rows)\n",
    "len(np.unique(final_profile['customer_id'])) == len(final_profile)"
   ]
  },
  {
   "cell_type": "code",
   "execution_count": 44,
   "id": "3c4a56ac",
   "metadata": {},
   "outputs": [
    {
     "data": {
      "image/png": "[encoded data removed]",
      "text/plain": [
       "<Figure size 720x504 with 1 Axes>"
      ]
     },
     "metadata": {
      "needs_background": "light"
     },
     "output_type": "display_data"
    }
   ],
   "source": [
    "mean_income = final_profile['income'].mean()\n",
    "gender_income = final_profile.groupby('gender', as_index=False).agg({'income':'mean'})\n",
    "gender_income.plot(kind = 'bar', x = 'gender', y = 'income', legend=False, figsize=(10,7))\n",
    "plt.hlines(mean_income, -100 , 1000)\n",
    "plt.ylabel('Income', size = 16)\n",
    "plt.xlabel('Gender', size = 16)\n",
    "plt.title('Average Income vs. Gender', size = 18)\n",
    "plt.xticks(rotation = 0, size = 14)\n",
    "plt.yticks(size = 14)\n",
    "plt.text(1, mean_income + 1000, 'Overall Average Income')\n",
    "plt.savefig('../images/income_gender.png');"
   ]
  },
  {
   "cell_type": "code",
   "execution_count": 45,
   "id": "f37a7f95",
   "metadata": {},
   "outputs": [
    {
     "data": {
      "image/png": "[encoded data removed]",
      "text/plain": [
       "<Figure size 720x504 with 1 Axes>"
      ]
     },
     "metadata": {
      "needs_background": "light"
     },
     "output_type": "display_data"
    }
   ],
   "source": [
    "# profile.groupby('gender_modified').sum()['income_modified'].plot(kind='bar')\n",
    "# plt.title('Total Income per Gender')\n",
    "# plt.ylabel('Income')\n",
    "# plt.xlabel('Gender');\n",
    "\n",
    "\n",
    "tot_income = final_profile['income'].sum()\n",
    "gender_income = final_profile.groupby('gender', as_index=False).agg({'income':'sum'})\n",
    "gender_income.plot(kind = 'bar', x = 'gender', y = 'income', legend=False, figsize=(10,7))\n",
    "plt.ylabel('Income (Total)', size = 16)\n",
    "plt.xlabel('Gender', size = 16)\n",
    "plt.title('Total Income vs. Gender', size = 18)\n",
    "plt.xticks(rotation = 0, size = 14)\n",
    "plt.yticks(size = 14);"
   ]
  },
  {
   "cell_type": "markdown",
   "id": "9c4e2d51",
   "metadata": {},
   "source": [
    "While average incomes seem relatively even, there is definitely a discrepancy in total income for each gender type due to the count of each of those classes. Total income for Males is higher most likely due to the higher amount of males present in this dataset. In comparison Females have a higher average income compared to the other classes. Since there are far fewer customers who identified as Other, their total income is signifcantly smaller than the other classes. "
   ]
  },
  {
   "cell_type": "code",
   "execution_count": 46,
   "id": "57660bc3",
   "metadata": {},
   "outputs": [],
   "source": [
    "# Dummify gender - keep all gender types for clustering\n",
    "final_profile = pd.get_dummies(final_profile, columns=['gender'])"
   ]
  },
  {
   "cell_type": "markdown",
   "id": "7ecdc17d",
   "metadata": {},
   "source": [
    "**Observations:**\n",
    "- 'became_member_on' changed to a datetime data type\n",
    "- 'age' had 2175 outliers of age 118. These were all from the NaN gender group and NaN incomes- imputed using the avg age of the 'O' gender group\n",
    "- 'gender' had 2175 NaNs I imputed with the 'O' group\n",
    "- 'income' also had 2175 NaNs so I imputed using the avg income of the 'O' gender group\n",
    "- profile['id'] == transcript['person']\n",
    "- Need to one hot encode 'gender', 'year', 'month', 'day'\n",
    "- The majority of customers in the dataset are male.\n",
    "- Data for 2018 isn't a full year which is why it's lower than total new memberships for 2017."
   ]
  },
  {
   "cell_type": "markdown",
   "id": "e7d76c78",
   "metadata": {},
   "source": [
    "# Transcript Dataset\n",
    "Records show the different statuses of the promotional offers that a customer received, for example offer_received, offer_viewed, offer_completed in addition to the transactions for each customer. "
   ]
  },
  {
   "cell_type": "code",
   "execution_count": 47,
   "id": "d3ca7d43",
   "metadata": {},
   "outputs": [
    {
     "name": "stdout",
     "output_type": "stream",
     "text": [
      "<class 'pandas.core.frame.DataFrame'>\n",
      "RangeIndex: 306534 entries, 0 to 306533\n",
      "Data columns (total 4 columns):\n",
      " #   Column  Non-Null Count   Dtype \n",
      "---  ------  --------------   ----- \n",
      " 0   person  306534 non-null  object\n",
      " 1   event   306534 non-null  object\n",
      " 2   value   306534 non-null  object\n",
      " 3   time    306534 non-null  int64 \n",
      "dtypes: int64(1), object(3)\n",
      "memory usage: 9.4+ MB\n"
     ]
    }
   ],
   "source": [
    "transcript.info()"
   ]
  },
  {
   "cell_type": "code",
   "execution_count": 48,
   "id": "d326e778",
   "metadata": {},
   "outputs": [
    {
     "data": {
      "text/html": [
       "<div>\n",
       "<style scoped>\n",
       "    .dataframe tbody tr th:only-of-type {\n",
       "        vertical-align: middle;\n",
       "    }\n",
       "\n",
       "    .dataframe tbody tr th {\n",
       "        vertical-align: top;\n",
       "    }\n",
       "\n",
       "    .dataframe thead th {\n",
       "        text-align: right;\n",
       "    }\n",
       "</style>\n",
       "<table border=\"1\" class=\"dataframe\">\n",
       "  <thead>\n",
       "    <tr style=\"text-align: right;\">\n",
       "      <th></th>\n",
       "      <th>person</th>\n",
       "      <th>event</th>\n",
       "      <th>value</th>\n",
       "      <th>time</th>\n",
       "    </tr>\n",
       "  </thead>\n",
       "  <tbody>\n",
       "    <tr>\n",
       "      <th>0</th>\n",
       "      <td>78afa995795e4d85b5d9ceeca43f5fef</td>\n",
       "      <td>offer received</td>\n",
       "      <td>{'offer id': '9b98b8c7a33c4b65b9aebfe6a799e6d9'}</td>\n",
       "      <td>0</td>\n",
       "    </tr>\n",
       "    <tr>\n",
       "      <th>1</th>\n",
       "      <td>a03223e636434f42ac4c3df47e8bac43</td>\n",
       "      <td>offer received</td>\n",
       "      <td>{'offer id': '0b1e1539f2cc45b7b9fa7c272da2e1d7'}</td>\n",
       "      <td>0</td>\n",
       "    </tr>\n",
       "    <tr>\n",
       "      <th>2</th>\n",
       "      <td>e2127556f4f64592b11af22de27a7932</td>\n",
       "      <td>offer received</td>\n",
       "      <td>{'offer id': '2906b810c7d4411798c6938adc9daaa5'}</td>\n",
       "      <td>0</td>\n",
       "    </tr>\n",
       "    <tr>\n",
       "      <th>3</th>\n",
       "      <td>8ec6ce2a7e7949b1bf142def7d0e0586</td>\n",
       "      <td>offer received</td>\n",
       "      <td>{'offer id': 'fafdcd668e3743c1bb461111dcafc2a4'}</td>\n",
       "      <td>0</td>\n",
       "    </tr>\n",
       "    <tr>\n",
       "      <th>4</th>\n",
       "      <td>68617ca6246f4fbc85e91a2a49552598</td>\n",
       "      <td>offer received</td>\n",
       "      <td>{'offer id': '4d5c57ea9a6940dd891ad53e9dbe8da0'}</td>\n",
       "      <td>0</td>\n",
       "    </tr>\n",
       "  </tbody>\n",
       "</table>\n",
       "</div>"
      ],
      "text/plain": [
       "                             person           event  \\\n",
       "0  78afa995795e4d85b5d9ceeca43f5fef  offer received   \n",
       "1  a03223e636434f42ac4c3df47e8bac43  offer received   \n",
       "2  e2127556f4f64592b11af22de27a7932  offer received   \n",
       "3  8ec6ce2a7e7949b1bf142def7d0e0586  offer received   \n",
       "4  68617ca6246f4fbc85e91a2a49552598  offer received   \n",
       "\n",
       "                                              value  time  \n",
       "0  {'offer id': '9b98b8c7a33c4b65b9aebfe6a799e6d9'}     0  \n",
       "1  {'offer id': '0b1e1539f2cc45b7b9fa7c272da2e1d7'}     0  \n",
       "2  {'offer id': '2906b810c7d4411798c6938adc9daaa5'}     0  \n",
       "3  {'offer id': 'fafdcd668e3743c1bb461111dcafc2a4'}     0  \n",
       "4  {'offer id': '4d5c57ea9a6940dd891ad53e9dbe8da0'}     0  "
      ]
     },
     "execution_count": 48,
     "metadata": {},
     "output_type": "execute_result"
    }
   ],
   "source": [
    "transcript.head()"
   ]
  },
  {
   "cell_type": "code",
   "execution_count": 49,
   "id": "ef0b2f8d",
   "metadata": {},
   "outputs": [
    {
     "data": {
      "text/html": [
       "<div>\n",
       "<style scoped>\n",
       "    .dataframe tbody tr th:only-of-type {\n",
       "        vertical-align: middle;\n",
       "    }\n",
       "\n",
       "    .dataframe tbody tr th {\n",
       "        vertical-align: top;\n",
       "    }\n",
       "\n",
       "    .dataframe thead th {\n",
       "        text-align: right;\n",
       "    }\n",
       "</style>\n",
       "<table border=\"1\" class=\"dataframe\">\n",
       "  <thead>\n",
       "    <tr style=\"text-align: right;\">\n",
       "      <th></th>\n",
       "      <th>person</th>\n",
       "      <th>event</th>\n",
       "      <th>value</th>\n",
       "      <th>time</th>\n",
       "    </tr>\n",
       "  </thead>\n",
       "  <tbody>\n",
       "    <tr>\n",
       "      <th>306529</th>\n",
       "      <td>b3a1272bc9904337b331bf348c3e8c17</td>\n",
       "      <td>transaction</td>\n",
       "      <td>{'amount': 1.5899999999999999}</td>\n",
       "      <td>714</td>\n",
       "    </tr>\n",
       "    <tr>\n",
       "      <th>306530</th>\n",
       "      <td>68213b08d99a4ae1b0dcb72aebd9aa35</td>\n",
       "      <td>transaction</td>\n",
       "      <td>{'amount': 9.53}</td>\n",
       "      <td>714</td>\n",
       "    </tr>\n",
       "    <tr>\n",
       "      <th>306531</th>\n",
       "      <td>a00058cf10334a308c68e7631c529907</td>\n",
       "      <td>transaction</td>\n",
       "      <td>{'amount': 3.61}</td>\n",
       "      <td>714</td>\n",
       "    </tr>\n",
       "    <tr>\n",
       "      <th>306532</th>\n",
       "      <td>76ddbd6576844afe811f1a3c0fbb5bec</td>\n",
       "      <td>transaction</td>\n",
       "      <td>{'amount': 3.5300000000000002}</td>\n",
       "      <td>714</td>\n",
       "    </tr>\n",
       "    <tr>\n",
       "      <th>306533</th>\n",
       "      <td>c02b10e8752c4d8e9b73f918558531f7</td>\n",
       "      <td>transaction</td>\n",
       "      <td>{'amount': 4.05}</td>\n",
       "      <td>714</td>\n",
       "    </tr>\n",
       "  </tbody>\n",
       "</table>\n",
       "</div>"
      ],
      "text/plain": [
       "                                  person        event  \\\n",
       "306529  b3a1272bc9904337b331bf348c3e8c17  transaction   \n",
       "306530  68213b08d99a4ae1b0dcb72aebd9aa35  transaction   \n",
       "306531  a00058cf10334a308c68e7631c529907  transaction   \n",
       "306532  76ddbd6576844afe811f1a3c0fbb5bec  transaction   \n",
       "306533  c02b10e8752c4d8e9b73f918558531f7  transaction   \n",
       "\n",
       "                                 value  time  \n",
       "306529  {'amount': 1.5899999999999999}   714  \n",
       "306530                {'amount': 9.53}   714  \n",
       "306531                {'amount': 3.61}   714  \n",
       "306532  {'amount': 3.5300000000000002}   714  \n",
       "306533                {'amount': 4.05}   714  "
      ]
     },
     "execution_count": 49,
     "metadata": {},
     "output_type": "execute_result"
    }
   ],
   "source": [
    "transcript.tail()"
   ]
  },
  {
   "cell_type": "markdown",
   "id": "7292bddc",
   "metadata": {},
   "source": [
    "Transactions and offers in this datatset."
   ]
  },
  {
   "cell_type": "code",
   "execution_count": 50,
   "id": "c2b24815",
   "metadata": {},
   "outputs": [
    {
     "data": {
      "text/plain": [
       "transaction        0.453304\n",
       "offer received     0.248837\n",
       "offer viewed       0.188315\n",
       "offer completed    0.109544\n",
       "Name: event, dtype: float64"
      ]
     },
     "execution_count": 50,
     "metadata": {},
     "output_type": "execute_result"
    }
   ],
   "source": [
    "transcript['event'].value_counts(normalize=True)"
   ]
  },
  {
   "cell_type": "code",
   "execution_count": 51,
   "id": "30230404",
   "metadata": {},
   "outputs": [],
   "source": [
    "# transcript['person'] == profile['id']\n",
    "# Change column name from 'person' to 'id' in order to merge the dataframes later\n",
    "transcript.rename(columns={'person':'customer_id'}, inplace=True)"
   ]
  },
  {
   "cell_type": "code",
   "execution_count": 52,
   "id": "6ef056b5",
   "metadata": {},
   "outputs": [],
   "source": [
    "# Map 'customer_id' with previously created labels_dict from profile dataset above\n",
    "transcript['customer_id'] = transcript['customer_id'].apply(lambda x: labels_dict[x])"
   ]
  },
  {
   "cell_type": "code",
   "execution_count": 53,
   "id": "f13783a8",
   "metadata": {},
   "outputs": [
    {
     "data": {
      "text/plain": [
       "True"
      ]
     },
     "execution_count": 53,
     "metadata": {},
     "output_type": "execute_result"
    }
   ],
   "source": [
    "# Checking we still have the same number of customers for profile and transcript\n",
    "len(np.unique(transcript['customer_id'])) == len(np.unique(final_profile['customer_id']))"
   ]
  },
  {
   "cell_type": "code",
   "execution_count": 54,
   "id": "c3be13a2",
   "metadata": {},
   "outputs": [
    {
     "data": {
      "text/plain": [
       "0    <class 'str'>\n",
       "1    <class 'str'>\n",
       "2    <class 'str'>\n",
       "3    <class 'str'>\n",
       "4    <class 'str'>\n",
       "Name: value, dtype: object"
      ]
     },
     "execution_count": 54,
     "metadata": {},
     "output_type": "execute_result"
    }
   ],
   "source": [
    "# Kept getting error below because 'value' is being read as a string not dictionary\n",
    "transcript['value'].apply(type).head()"
   ]
  },
  {
   "cell_type": "code",
   "execution_count": 55,
   "id": "fdcceab3",
   "metadata": {},
   "outputs": [
    {
     "data": {
      "text/html": [
       "<div>\n",
       "<style scoped>\n",
       "    .dataframe tbody tr th:only-of-type {\n",
       "        vertical-align: middle;\n",
       "    }\n",
       "\n",
       "    .dataframe tbody tr th {\n",
       "        vertical-align: top;\n",
       "    }\n",
       "\n",
       "    .dataframe thead th {\n",
       "        text-align: right;\n",
       "    }\n",
       "</style>\n",
       "<table border=\"1\" class=\"dataframe\">\n",
       "  <thead>\n",
       "    <tr style=\"text-align: right;\">\n",
       "      <th></th>\n",
       "      <th>customer_id</th>\n",
       "      <th>event</th>\n",
       "      <th>value</th>\n",
       "      <th>time</th>\n",
       "      <th>value_type</th>\n",
       "    </tr>\n",
       "  </thead>\n",
       "  <tbody>\n",
       "    <tr>\n",
       "      <th>306529</th>\n",
       "      <td>16959</td>\n",
       "      <td>transaction</td>\n",
       "      <td>1.59</td>\n",
       "      <td>714</td>\n",
       "      <td>amount</td>\n",
       "    </tr>\n",
       "    <tr>\n",
       "      <th>306530</th>\n",
       "      <td>16964</td>\n",
       "      <td>transaction</td>\n",
       "      <td>9.53</td>\n",
       "      <td>714</td>\n",
       "      <td>amount</td>\n",
       "    </tr>\n",
       "    <tr>\n",
       "      <th>306531</th>\n",
       "      <td>16979</td>\n",
       "      <td>transaction</td>\n",
       "      <td>3.61</td>\n",
       "      <td>714</td>\n",
       "      <td>amount</td>\n",
       "    </tr>\n",
       "    <tr>\n",
       "      <th>306532</th>\n",
       "      <td>16987</td>\n",
       "      <td>transaction</td>\n",
       "      <td>3.53</td>\n",
       "      <td>714</td>\n",
       "      <td>amount</td>\n",
       "    </tr>\n",
       "    <tr>\n",
       "      <th>306533</th>\n",
       "      <td>16994</td>\n",
       "      <td>transaction</td>\n",
       "      <td>4.05</td>\n",
       "      <td>714</td>\n",
       "      <td>amount</td>\n",
       "    </tr>\n",
       "  </tbody>\n",
       "</table>\n",
       "</div>"
      ],
      "text/plain": [
       "        customer_id        event value  time value_type\n",
       "306529        16959  transaction  1.59   714     amount\n",
       "306530        16964  transaction  9.53   714     amount\n",
       "306531        16979  transaction  3.61   714     amount\n",
       "306532        16987  transaction  3.53   714     amount\n",
       "306533        16994  transaction  4.05   714     amount"
      ]
     },
     "execution_count": 55,
     "metadata": {},
     "output_type": "execute_result"
    }
   ],
   "source": [
    "# Reference: https://stackoverflow.com/questions/39169718/convert-string-to-dict-then-access-keyvalues-how-to-access-data-in-a-class\n",
    "transcript['value'] = transcript['value'].astype('str')\n",
    "transcript['value'] = transcript['value'].apply(lambda x: ast.literal_eval(x))\n",
    "transcript = transcript.apply(pd.Series)\n",
    "\n",
    "# Extract out just the actual 'offer_id' and 'amount' from 'value' column\n",
    "transcript['value_type'] = transcript['value'].map(lambda x: list(x.keys())[0])\n",
    "transcript['value'] = transcript['value'].map(lambda x: list(x.values())[0])\n",
    "transcript.tail()"
   ]
  },
  {
   "cell_type": "code",
   "execution_count": 56,
   "id": "3e1aad27",
   "metadata": {},
   "outputs": [
    {
     "data": {
      "text/html": [
       "<div>\n",
       "<style scoped>\n",
       "    .dataframe tbody tr th:only-of-type {\n",
       "        vertical-align: middle;\n",
       "    }\n",
       "\n",
       "    .dataframe tbody tr th {\n",
       "        vertical-align: top;\n",
       "    }\n",
       "\n",
       "    .dataframe thead th {\n",
       "        text-align: right;\n",
       "    }\n",
       "</style>\n",
       "<table border=\"1\" class=\"dataframe\">\n",
       "  <thead>\n",
       "    <tr style=\"text-align: right;\">\n",
       "      <th></th>\n",
       "      <th>customer_id</th>\n",
       "      <th>event</th>\n",
       "      <th>value</th>\n",
       "      <th>time</th>\n",
       "      <th>value_type</th>\n",
       "    </tr>\n",
       "  </thead>\n",
       "  <tbody>\n",
       "    <tr>\n",
       "      <th>0</th>\n",
       "      <td>3</td>\n",
       "      <td>offer received</td>\n",
       "      <td>9b98b8c7a33c4b65b9aebfe6a799e6d9</td>\n",
       "      <td>0</td>\n",
       "      <td>offer id</td>\n",
       "    </tr>\n",
       "    <tr>\n",
       "      <th>1</th>\n",
       "      <td>4</td>\n",
       "      <td>offer received</td>\n",
       "      <td>0b1e1539f2cc45b7b9fa7c272da2e1d7</td>\n",
       "      <td>0</td>\n",
       "      <td>offer id</td>\n",
       "    </tr>\n",
       "    <tr>\n",
       "      <th>2</th>\n",
       "      <td>5</td>\n",
       "      <td>offer received</td>\n",
       "      <td>2906b810c7d4411798c6938adc9daaa5</td>\n",
       "      <td>0</td>\n",
       "      <td>offer id</td>\n",
       "    </tr>\n",
       "    <tr>\n",
       "      <th>3</th>\n",
       "      <td>6</td>\n",
       "      <td>offer received</td>\n",
       "      <td>fafdcd668e3743c1bb461111dcafc2a4</td>\n",
       "      <td>0</td>\n",
       "      <td>offer id</td>\n",
       "    </tr>\n",
       "    <tr>\n",
       "      <th>4</th>\n",
       "      <td>7</td>\n",
       "      <td>offer received</td>\n",
       "      <td>4d5c57ea9a6940dd891ad53e9dbe8da0</td>\n",
       "      <td>0</td>\n",
       "      <td>offer id</td>\n",
       "    </tr>\n",
       "  </tbody>\n",
       "</table>\n",
       "</div>"
      ],
      "text/plain": [
       "   customer_id           event                             value  time  \\\n",
       "0            3  offer received  9b98b8c7a33c4b65b9aebfe6a799e6d9     0   \n",
       "1            4  offer received  0b1e1539f2cc45b7b9fa7c272da2e1d7     0   \n",
       "2            5  offer received  2906b810c7d4411798c6938adc9daaa5     0   \n",
       "3            6  offer received  fafdcd668e3743c1bb461111dcafc2a4     0   \n",
       "4            7  offer received  4d5c57ea9a6940dd891ad53e9dbe8da0     0   \n",
       "\n",
       "  value_type  \n",
       "0   offer id  \n",
       "1   offer id  \n",
       "2   offer id  \n",
       "3   offer id  \n",
       "4   offer id  "
      ]
     },
     "execution_count": 56,
     "metadata": {},
     "output_type": "execute_result"
    }
   ],
   "source": [
    "transcript.head()"
   ]
  },
  {
   "cell_type": "markdown",
   "id": "cbab072e",
   "metadata": {},
   "source": [
    "### Split out transactions from offers\n",
    "'value' now either has the transaction amount or the offer_id"
   ]
  },
  {
   "cell_type": "code",
   "execution_count": 57,
   "id": "79b15f18",
   "metadata": {},
   "outputs": [
    {
     "name": "stderr",
     "output_type": "stream",
     "text": [
      "/Users/emilysiegel/opt/anaconda3/lib/python3.8/site-packages/pandas/core/frame.py:4441: SettingWithCopyWarning: \n",
      "A value is trying to be set on a copy of a slice from a DataFrame\n",
      "\n",
      "See the caveats in the documentation: https://pandas.pydata.org/pandas-docs/stable/user_guide/indexing.html#returning-a-view-versus-a-copy\n",
      "  return super().rename(\n",
      "/Users/emilysiegel/opt/anaconda3/lib/python3.8/site-packages/pandas/core/frame.py:4308: SettingWithCopyWarning: \n",
      "A value is trying to be set on a copy of a slice from a DataFrame\n",
      "\n",
      "See the caveats in the documentation: https://pandas.pydata.org/pandas-docs/stable/user_guide/indexing.html#returning-a-view-versus-a-copy\n",
      "  return super().drop(\n"
     ]
    }
   ],
   "source": [
    "# Split transcript into separate offers and transactions\n",
    "offers = transcript[transcript['event'] != 'transaction']\n",
    "transactions = transcript[transcript['event'] == 'transaction']\n",
    "\n",
    "# Rename columns\n",
    "offers.rename(columns={'value': 'offer_id'}, inplace=True)\n",
    "transactions.rename(columns={'value': 'amount'}, inplace=True)\n",
    "\n",
    "# Drop unnecessary columns\n",
    "offers.drop(columns='value_type', inplace=True)\n",
    "transactions.drop(columns=['value_type', 'event'], inplace=True)"
   ]
  },
  {
   "cell_type": "code",
   "execution_count": 58,
   "id": "4ebea9f2",
   "metadata": {},
   "outputs": [
    {
     "data": {
      "text/html": [
       "<div>\n",
       "<style scoped>\n",
       "    .dataframe tbody tr th:only-of-type {\n",
       "        vertical-align: middle;\n",
       "    }\n",
       "\n",
       "    .dataframe tbody tr th {\n",
       "        vertical-align: top;\n",
       "    }\n",
       "\n",
       "    .dataframe thead th {\n",
       "        text-align: right;\n",
       "    }\n",
       "</style>\n",
       "<table border=\"1\" class=\"dataframe\">\n",
       "  <thead>\n",
       "    <tr style=\"text-align: right;\">\n",
       "      <th></th>\n",
       "      <th>customer_id</th>\n",
       "      <th>amount</th>\n",
       "      <th>time</th>\n",
       "    </tr>\n",
       "  </thead>\n",
       "  <tbody>\n",
       "    <tr>\n",
       "      <th>12654</th>\n",
       "      <td>41</td>\n",
       "      <td>0.83</td>\n",
       "      <td>0</td>\n",
       "    </tr>\n",
       "    <tr>\n",
       "      <th>12657</th>\n",
       "      <td>55</td>\n",
       "      <td>34.56</td>\n",
       "      <td>0</td>\n",
       "    </tr>\n",
       "    <tr>\n",
       "      <th>12659</th>\n",
       "      <td>63</td>\n",
       "      <td>13.23</td>\n",
       "      <td>0</td>\n",
       "    </tr>\n",
       "    <tr>\n",
       "      <th>12670</th>\n",
       "      <td>134</td>\n",
       "      <td>19.51</td>\n",
       "      <td>0</td>\n",
       "    </tr>\n",
       "    <tr>\n",
       "      <th>12671</th>\n",
       "      <td>151</td>\n",
       "      <td>18.97</td>\n",
       "      <td>0</td>\n",
       "    </tr>\n",
       "  </tbody>\n",
       "</table>\n",
       "</div>"
      ],
      "text/plain": [
       "       customer_id amount  time\n",
       "12654           41   0.83     0\n",
       "12657           55  34.56     0\n",
       "12659           63  13.23     0\n",
       "12670          134  19.51     0\n",
       "12671          151  18.97     0"
      ]
     },
     "execution_count": 58,
     "metadata": {},
     "output_type": "execute_result"
    }
   ],
   "source": [
    "transactions.head()"
   ]
  },
  {
   "cell_type": "code",
   "execution_count": 59,
   "id": "46cb9352",
   "metadata": {},
   "outputs": [
    {
     "name": "stderr",
     "output_type": "stream",
     "text": [
      "<ipython-input-59-1c78f1e41792>:2: SettingWithCopyWarning: \n",
      "A value is trying to be set on a copy of a slice from a DataFrame.\n",
      "Try using .loc[row_indexer,col_indexer] = value instead\n",
      "\n",
      "See the caveats in the documentation: https://pandas.pydata.org/pandas-docs/stable/user_guide/indexing.html#returning-a-view-versus-a-copy\n",
      "  transactions['amount'] = transactions['amount'].astype(float)\n"
     ]
    },
    {
     "data": {
      "text/plain": [
       "customer_id      int64\n",
       "amount         float64\n",
       "time             int64\n",
       "dtype: object"
      ]
     },
     "execution_count": 59,
     "metadata": {},
     "output_type": "execute_result"
    }
   ],
   "source": [
    "# amount should be a float not object now\n",
    "transactions['amount'] = transactions['amount'].astype(float)\n",
    "transactions.dtypes"
   ]
  },
  {
   "cell_type": "code",
   "execution_count": 60,
   "id": "aa397a24",
   "metadata": {},
   "outputs": [
    {
     "data": {
      "text/html": [
       "<div>\n",
       "<style scoped>\n",
       "    .dataframe tbody tr th:only-of-type {\n",
       "        vertical-align: middle;\n",
       "    }\n",
       "\n",
       "    .dataframe tbody tr th {\n",
       "        vertical-align: top;\n",
       "    }\n",
       "\n",
       "    .dataframe thead th {\n",
       "        text-align: right;\n",
       "    }\n",
       "</style>\n",
       "<table border=\"1\" class=\"dataframe\">\n",
       "  <thead>\n",
       "    <tr style=\"text-align: right;\">\n",
       "      <th></th>\n",
       "      <th>customer_id</th>\n",
       "      <th>event</th>\n",
       "      <th>offer_id</th>\n",
       "      <th>time</th>\n",
       "    </tr>\n",
       "  </thead>\n",
       "  <tbody>\n",
       "    <tr>\n",
       "      <th>0</th>\n",
       "      <td>3</td>\n",
       "      <td>offer received</td>\n",
       "      <td>9b98b8c7a33c4b65b9aebfe6a799e6d9</td>\n",
       "      <td>0</td>\n",
       "    </tr>\n",
       "    <tr>\n",
       "      <th>1</th>\n",
       "      <td>4</td>\n",
       "      <td>offer received</td>\n",
       "      <td>0b1e1539f2cc45b7b9fa7c272da2e1d7</td>\n",
       "      <td>0</td>\n",
       "    </tr>\n",
       "    <tr>\n",
       "      <th>2</th>\n",
       "      <td>5</td>\n",
       "      <td>offer received</td>\n",
       "      <td>2906b810c7d4411798c6938adc9daaa5</td>\n",
       "      <td>0</td>\n",
       "    </tr>\n",
       "    <tr>\n",
       "      <th>3</th>\n",
       "      <td>6</td>\n",
       "      <td>offer received</td>\n",
       "      <td>fafdcd668e3743c1bb461111dcafc2a4</td>\n",
       "      <td>0</td>\n",
       "    </tr>\n",
       "    <tr>\n",
       "      <th>4</th>\n",
       "      <td>7</td>\n",
       "      <td>offer received</td>\n",
       "      <td>4d5c57ea9a6940dd891ad53e9dbe8da0</td>\n",
       "      <td>0</td>\n",
       "    </tr>\n",
       "  </tbody>\n",
       "</table>\n",
       "</div>"
      ],
      "text/plain": [
       "   customer_id           event                          offer_id  time\n",
       "0            3  offer received  9b98b8c7a33c4b65b9aebfe6a799e6d9     0\n",
       "1            4  offer received  0b1e1539f2cc45b7b9fa7c272da2e1d7     0\n",
       "2            5  offer received  2906b810c7d4411798c6938adc9daaa5     0\n",
       "3            6  offer received  fafdcd668e3743c1bb461111dcafc2a4     0\n",
       "4            7  offer received  4d5c57ea9a6940dd891ad53e9dbe8da0     0"
      ]
     },
     "execution_count": 60,
     "metadata": {},
     "output_type": "execute_result"
    }
   ],
   "source": [
    "offers.head()"
   ]
  },
  {
   "cell_type": "code",
   "execution_count": 61,
   "id": "ec0fe91c",
   "metadata": {},
   "outputs": [
    {
     "name": "stderr",
     "output_type": "stream",
     "text": [
      "<ipython-input-61-d904ab8f3fa3>:2: SettingWithCopyWarning: \n",
      "A value is trying to be set on a copy of a slice from a DataFrame.\n",
      "Try using .loc[row_indexer,col_indexer] = value instead\n",
      "\n",
      "See the caveats in the documentation: https://pandas.pydata.org/pandas-docs/stable/user_guide/indexing.html#returning-a-view-versus-a-copy\n",
      "  offers['offer_id'] = offers['offer_id'].replace({'ae264e3637204a6fb9bb56bc8210ddfd': 1,\n"
     ]
    },
    {
     "data": {
      "text/html": [
       "<div>\n",
       "<style scoped>\n",
       "    .dataframe tbody tr th:only-of-type {\n",
       "        vertical-align: middle;\n",
       "    }\n",
       "\n",
       "    .dataframe tbody tr th {\n",
       "        vertical-align: top;\n",
       "    }\n",
       "\n",
       "    .dataframe thead th {\n",
       "        text-align: right;\n",
       "    }\n",
       "</style>\n",
       "<table border=\"1\" class=\"dataframe\">\n",
       "  <thead>\n",
       "    <tr style=\"text-align: right;\">\n",
       "      <th></th>\n",
       "      <th>customer_id</th>\n",
       "      <th>event</th>\n",
       "      <th>offer_id</th>\n",
       "      <th>time</th>\n",
       "    </tr>\n",
       "  </thead>\n",
       "  <tbody>\n",
       "    <tr>\n",
       "      <th>0</th>\n",
       "      <td>3</td>\n",
       "      <td>offer received</td>\n",
       "      <td>4</td>\n",
       "      <td>0</td>\n",
       "    </tr>\n",
       "    <tr>\n",
       "      <th>1</th>\n",
       "      <td>4</td>\n",
       "      <td>offer received</td>\n",
       "      <td>5</td>\n",
       "      <td>0</td>\n",
       "    </tr>\n",
       "    <tr>\n",
       "      <th>2</th>\n",
       "      <td>5</td>\n",
       "      <td>offer received</td>\n",
       "      <td>10</td>\n",
       "      <td>0</td>\n",
       "    </tr>\n",
       "    <tr>\n",
       "      <th>3</th>\n",
       "      <td>6</td>\n",
       "      <td>offer received</td>\n",
       "      <td>7</td>\n",
       "      <td>0</td>\n",
       "    </tr>\n",
       "    <tr>\n",
       "      <th>4</th>\n",
       "      <td>7</td>\n",
       "      <td>offer received</td>\n",
       "      <td>2</td>\n",
       "      <td>0</td>\n",
       "    </tr>\n",
       "  </tbody>\n",
       "</table>\n",
       "</div>"
      ],
      "text/plain": [
       "   customer_id           event  offer_id  time\n",
       "0            3  offer received         4     0\n",
       "1            4  offer received         5     0\n",
       "2            5  offer received        10     0\n",
       "3            6  offer received         7     0\n",
       "4            7  offer received         2     0"
      ]
     },
     "execution_count": 61,
     "metadata": {},
     "output_type": "execute_result"
    }
   ],
   "source": [
    "# Simplify offer_id to match the portfolio['offer_id']\n",
    "offers['offer_id'] = offers['offer_id'].replace({'ae264e3637204a6fb9bb56bc8210ddfd': 1, \n",
    "                                                 '4d5c57ea9a6940dd891ad53e9dbe8da0': 2,\n",
    "                                                 '3f207df678b143eea3cee63160fa8bed': 3,\n",
    "                                                 '9b98b8c7a33c4b65b9aebfe6a799e6d9': 4,\n",
    "                                                 '0b1e1539f2cc45b7b9fa7c272da2e1d7': 5,\n",
    "                                                 '2298d6c36e964ae4a3e7e9706d1fb8c2': 6,\n",
    "                                                 'fafdcd668e3743c1bb461111dcafc2a4': 7,\n",
    "                                                 '5a8bc65990b245e5a138643cd4eb9837': 8,\n",
    "                                                 'f19421c1d4aa40978ebb69ca19b0e20d': 9,\n",
    "                                                 '2906b810c7d4411798c6938adc9daaa5': 10})\n",
    "\n",
    "offers.head()"
   ]
  },
  {
   "cell_type": "code",
   "execution_count": 62,
   "id": "1b0843e8",
   "metadata": {},
   "outputs": [
    {
     "name": "stdout",
     "output_type": "stream",
     "text": [
      "<class 'pandas.core.frame.DataFrame'>\n",
      "Int64Index: 167581 entries, 0 to 306527\n",
      "Data columns (total 4 columns):\n",
      " #   Column       Non-Null Count   Dtype \n",
      "---  ------       --------------   ----- \n",
      " 0   customer_id  167581 non-null  int64 \n",
      " 1   event        167581 non-null  object\n",
      " 2   offer_id     167581 non-null  int64 \n",
      " 3   time         167581 non-null  int64 \n",
      "dtypes: int64(3), object(1)\n",
      "memory usage: 6.4+ MB\n"
     ]
    }
   ],
   "source": [
    "# Final check to make sure no nulls and data types are correct\n",
    "offers.info()"
   ]
  },
  {
   "cell_type": "code",
   "execution_count": 63,
   "id": "00112b2e",
   "metadata": {},
   "outputs": [
    {
     "name": "stdout",
     "output_type": "stream",
     "text": [
      "<class 'pandas.core.frame.DataFrame'>\n",
      "Int64Index: 138953 entries, 12654 to 306533\n",
      "Data columns (total 3 columns):\n",
      " #   Column       Non-Null Count   Dtype  \n",
      "---  ------       --------------   -----  \n",
      " 0   customer_id  138953 non-null  int64  \n",
      " 1   amount       138953 non-null  float64\n",
      " 2   time         138953 non-null  int64  \n",
      "dtypes: float64(1), int64(2)\n",
      "memory usage: 4.2 MB\n"
     ]
    }
   ],
   "source": [
    "# Final check to make sure no nulls and data types are correct\n",
    "transactions.info()"
   ]
  },
  {
   "cell_type": "markdown",
   "id": "b16f6da1",
   "metadata": {},
   "source": [
    "**Observations:**\n",
    "- 'time' convert to days possibly?\n",
    "- transcript['person'] == profile['customer_id']\n",
    "- 'offer_id' in transcript['value'] == portfolio['offer_id']\n",
    "- 'value' is a dict of strings - either an offer id or transaction amount depending on the record. From 'value' extracted out just the actual 'offer_id' and 'amount'\n",
    "- Need to one hot encode 'event', 'offer_id_modified'\n",
    "- The offer_id can have the offer_recieved, offer_reviewed, and the offer_compelted."
   ]
  },
  {
   "cell_type": "markdown",
   "id": "17df8b66",
   "metadata": {},
   "source": [
    "# Save Cleaned Files"
   ]
  },
  {
   "cell_type": "code",
   "execution_count": 64,
   "id": "4f51c52e",
   "metadata": {},
   "outputs": [],
   "source": [
    "final_portfolio.to_csv('../data/portfolio_clean.csv', index = False)\n",
    "final_profile.to_csv('../data/profile_clean.csv', index = False)\n",
    "transactions.to_csv('../data/transactions_clean.csv', index = False)\n",
    "offers.to_csv('../data/offers_clean.csv', index = False)"
   ]
  },
  {
   "cell_type": "markdown",
   "id": "f65ca5a3",
   "metadata": {},
   "source": [
    "# More EDA"
   ]
  },
  {
   "cell_type": "code",
   "execution_count": 65,
   "id": "b0e0820d",
   "metadata": {},
   "outputs": [
    {
     "data": {
      "text/html": [
       "<div>\n",
       "<style scoped>\n",
       "    .dataframe tbody tr th:only-of-type {\n",
       "        vertical-align: middle;\n",
       "    }\n",
       "\n",
       "    .dataframe tbody tr th {\n",
       "        vertical-align: top;\n",
       "    }\n",
       "\n",
       "    .dataframe thead th {\n",
       "        text-align: right;\n",
       "    }\n",
       "</style>\n",
       "<table border=\"1\" class=\"dataframe\">\n",
       "  <thead>\n",
       "    <tr style=\"text-align: right;\">\n",
       "      <th></th>\n",
       "      <th>customer_id</th>\n",
       "      <th>event</th>\n",
       "      <th>offer_id</th>\n",
       "      <th>time</th>\n",
       "    </tr>\n",
       "  </thead>\n",
       "  <tbody>\n",
       "    <tr>\n",
       "      <th>130147</th>\n",
       "      <td>0</td>\n",
       "      <td>offer viewed</td>\n",
       "      <td>5</td>\n",
       "      <td>348</td>\n",
       "    </tr>\n",
       "    <tr>\n",
       "      <th>245122</th>\n",
       "      <td>0</td>\n",
       "      <td>offer received</td>\n",
       "      <td>7</td>\n",
       "      <td>576</td>\n",
       "    </tr>\n",
       "    <tr>\n",
       "      <th>110828</th>\n",
       "      <td>0</td>\n",
       "      <td>offer received</td>\n",
       "      <td>5</td>\n",
       "      <td>336</td>\n",
       "    </tr>\n",
       "    <tr>\n",
       "      <th>237365</th>\n",
       "      <td>0</td>\n",
       "      <td>offer completed</td>\n",
       "      <td>7</td>\n",
       "      <td>552</td>\n",
       "    </tr>\n",
       "    <tr>\n",
       "      <th>85290</th>\n",
       "      <td>0</td>\n",
       "      <td>offer viewed</td>\n",
       "      <td>10</td>\n",
       "      <td>216</td>\n",
       "    </tr>\n",
       "    <tr>\n",
       "      <th>262137</th>\n",
       "      <td>0</td>\n",
       "      <td>offer viewed</td>\n",
       "      <td>7</td>\n",
       "      <td>582</td>\n",
       "    </tr>\n",
       "    <tr>\n",
       "      <th>214274</th>\n",
       "      <td>0</td>\n",
       "      <td>offer viewed</td>\n",
       "      <td>6</td>\n",
       "      <td>504</td>\n",
       "    </tr>\n",
       "    <tr>\n",
       "      <th>201570</th>\n",
       "      <td>0</td>\n",
       "      <td>offer received</td>\n",
       "      <td>6</td>\n",
       "      <td>504</td>\n",
       "    </tr>\n",
       "    <tr>\n",
       "      <th>150596</th>\n",
       "      <td>0</td>\n",
       "      <td>offer received</td>\n",
       "      <td>7</td>\n",
       "      <td>408</td>\n",
       "    </tr>\n",
       "    <tr>\n",
       "      <th>237366</th>\n",
       "      <td>0</td>\n",
       "      <td>offer completed</td>\n",
       "      <td>6</td>\n",
       "      <td>552</td>\n",
       "    </tr>\n",
       "    <tr>\n",
       "      <th>53174</th>\n",
       "      <td>0</td>\n",
       "      <td>offer received</td>\n",
       "      <td>10</td>\n",
       "      <td>168</td>\n",
       "    </tr>\n",
       "    <tr>\n",
       "      <th>163374</th>\n",
       "      <td>0</td>\n",
       "      <td>offer viewed</td>\n",
       "      <td>7</td>\n",
       "      <td>408</td>\n",
       "    </tr>\n",
       "    <tr>\n",
       "      <th>150597</th>\n",
       "      <td>1</td>\n",
       "      <td>offer received</td>\n",
       "      <td>4</td>\n",
       "      <td>408</td>\n",
       "    </tr>\n",
       "    <tr>\n",
       "      <th>227843</th>\n",
       "      <td>1</td>\n",
       "      <td>offer completed</td>\n",
       "      <td>4</td>\n",
       "      <td>528</td>\n",
       "    </tr>\n",
       "    <tr>\n",
       "      <th>65843</th>\n",
       "      <td>2</td>\n",
       "      <td>offer viewed</td>\n",
       "      <td>4</td>\n",
       "      <td>168</td>\n",
       "    </tr>\n",
       "  </tbody>\n",
       "</table>\n",
       "</div>"
      ],
      "text/plain": [
       "        customer_id            event  offer_id  time\n",
       "130147            0     offer viewed         5   348\n",
       "245122            0   offer received         7   576\n",
       "110828            0   offer received         5   336\n",
       "237365            0  offer completed         7   552\n",
       "85290             0     offer viewed        10   216\n",
       "262137            0     offer viewed         7   582\n",
       "214274            0     offer viewed         6   504\n",
       "201570            0   offer received         6   504\n",
       "150596            0   offer received         7   408\n",
       "237366            0  offer completed         6   552\n",
       "53174             0   offer received        10   168\n",
       "163374            0     offer viewed         7   408\n",
       "150597            1   offer received         4   408\n",
       "227843            1  offer completed         4   528\n",
       "65843             2     offer viewed         4   168"
      ]
     },
     "execution_count": 65,
     "metadata": {},
     "output_type": "execute_result"
    }
   ],
   "source": [
    "# Check repeat offers for the same customer\n",
    "offers[offers.duplicated(subset=['offer_id', 'customer_id'], keep=False)].sort_values(by = 'customer_id').head(15)"
   ]
  },
  {
   "cell_type": "markdown",
   "id": "b509cea9",
   "metadata": {},
   "source": [
    "There can be duplicate offer instances for the different events for the same customer_id - offer received, offer viewed and offer_completed events"
   ]
  },
  {
   "cell_type": "code",
   "execution_count": 66,
   "id": "ff4e99e7",
   "metadata": {},
   "outputs": [
    {
     "name": "stderr",
     "output_type": "stream",
     "text": [
      "<ipython-input-66-64d549172952>:2: SettingWithCopyWarning: \n",
      "A value is trying to be set on a copy of a slice from a DataFrame.\n",
      "Try using .loc[row_indexer,col_indexer] = value instead\n",
      "\n",
      "See the caveats in the documentation: https://pandas.pydata.org/pandas-docs/stable/user_guide/indexing.html#returning-a-view-versus-a-copy\n",
      "  offers['time_group'] = pd.cut(x=offers['time'], bins=[0, 100, 200, 300, 400, 500,600,700,800], include_lowest=True,\n",
      "<ipython-input-66-64d549172952>:6: SettingWithCopyWarning: \n",
      "A value is trying to be set on a copy of a slice from a DataFrame.\n",
      "Try using .loc[row_indexer,col_indexer] = value instead\n",
      "\n",
      "See the caveats in the documentation: https://pandas.pydata.org/pandas-docs/stable/user_guide/indexing.html#returning-a-view-versus-a-copy\n",
      "  transactions['time_group'] = pd.cut(x=transactions['time'], bins=[0, 100, 200, 300, 400, 500,600,700,800], include_lowest=True,\n"
     ]
    }
   ],
   "source": [
    "# Create a time group column and bin by certain ranges of days\n",
    "offers['time_group'] = pd.cut(x=offers['time'], bins=[0, 100, 200, 300, 400, 500,600,700,800], include_lowest=True,\n",
    "                    labels=['0-100 days', '100-200 days', '200-300 days', '300-400 days', '400-500 days', \n",
    "                            '500-600 days', '600-700 days', '700-800 days'])\n",
    "\n",
    "transactions['time_group'] = pd.cut(x=transactions['time'], bins=[0, 100, 200, 300, 400, 500,600,700,800], include_lowest=True,\n",
    "                    labels=['0-100 days', '100-200 days', '200-300 days', '300-400 days', '400-500 days', \n",
    "                            '500-600 days', '600-700 days', '700-800 days'])"
   ]
  },
  {
   "cell_type": "code",
   "execution_count": 67,
   "id": "bf300b16",
   "metadata": {},
   "outputs": [
    {
     "data": {
      "image/png": "[encoded data removed]",
      "text/plain": [
       "<Figure size 720x504 with 1 Axes>"
      ]
     },
     "metadata": {
      "needs_background": "light"
     },
     "output_type": "display_data"
    }
   ],
   "source": [
    "fig = plt.figure(figsize = (10,7))\n",
    "sns.countplot(x='time_group',data=offers)\n",
    "plt.xticks(rotation=30)\n",
    "plt.title('Number of Offers in a Timespan', size = 18)\n",
    "plt.xlabel('Timespan Group', size = 16)\n",
    "plt.ylabel('Count', size = 16)\n",
    "plt.savefig('../images/offers_timespan.png');"
   ]
  },
  {
   "cell_type": "code",
   "execution_count": 68,
   "id": "5bc6b2a2",
   "metadata": {},
   "outputs": [
    {
     "data": {
      "image/png": "[encoded data removed]",
      "text/plain": [
       "<Figure size 720x504 with 1 Axes>"
      ]
     },
     "metadata": {
      "needs_background": "light"
     },
     "output_type": "display_data"
    }
   ],
   "source": [
    "fig = plt.figure(figsize = (10,7))\n",
    "sns.countplot(x='time_group',data=transactions)\n",
    "plt.xticks(rotation=30)\n",
    "plt.title('Number of Transactions in a Timespan', size = 18)\n",
    "plt.xlabel('Timespan Group', size = 16)\n",
    "plt.ylabel('Count', size = 16);\n",
    "plt.savefig('../images/transactions_timespan.png');"
   ]
  },
  {
   "cell_type": "code",
   "execution_count": 69,
   "id": "2f0e938d",
   "metadata": {},
   "outputs": [
    {
     "data": {
      "text/plain": [
       "Middle-Age(40-59)     0.403647\n",
       "Senior(60-79)         0.306765\n",
       "Young_Adult(20-39)    0.199941\n",
       "Geriatric(80-100)     0.066647\n",
       "Youth(0-19)           0.023000\n",
       "Name: age_group, dtype: float64"
      ]
     },
     "execution_count": 69,
     "metadata": {},
     "output_type": "execute_result"
    }
   ],
   "source": [
    "# Create new age_group column by binning Age into different groups\n",
    "profile['age_group'] = pd.cut(x=final_profile['age'], bins=[18, 20, 40, 60, 80, 101],\n",
    "                    labels=['Youth(0-19)', 'Young_Adult(20-39)', 'Middle-Age(40-59)',\n",
    "                            'Senior(60-79)', 'Geriatric(80-100)'], include_lowest=True)\n",
    "\n",
    "profile['age_group'].value_counts(normalize=True)"
   ]
  },
  {
   "cell_type": "code",
   "execution_count": 70,
   "id": "2efa14dc",
   "metadata": {},
   "outputs": [
    {
     "data": {
      "image/png": "[encoded data removed]",
      "text/plain": [
       "<Figure size 720x504 with 1 Axes>"
      ]
     },
     "metadata": {
      "needs_background": "light"
     },
     "output_type": "display_data"
    }
   ],
   "source": [
    "fig = plt.figure(figsize = (10,7))\n",
    "sns.countplot(x='age_group',data=profile)\n",
    "plt.xticks(rotation=30)\n",
    "plt.title('Age Groups of Rewards Members', size = 18)\n",
    "plt.xlabel('Age Group', size = 16)\n",
    "plt.ylabel('Count', size = 16)\n",
    "plt.savefig('../images/age_groups.png');"
   ]
  },
  {
   "cell_type": "code",
   "execution_count": 71,
   "id": "6dd712c4",
   "metadata": {},
   "outputs": [
    {
     "data": {
      "image/png": "[encoded data removed]",
      "text/plain": [
       "<Figure size 792x504 with 1 Axes>"
      ]
     },
     "metadata": {
      "needs_background": "light"
     },
     "output_type": "display_data"
    }
   ],
   "source": [
    "plt.figure(figsize=(11,6))\n",
    "sns.boxplot(x=\"income\", y= \"age_group\", data = profile)\n",
    "plt.title('Distribution of Income by Age Group', size = 18) \n",
    "plt.xlabel('Income', size = 14)\n",
    "plt.ylabel('Age Group', size = 14)\n",
    "plt.savefig('../images/income_dist_age_group.png');"
   ]
  },
  {
   "cell_type": "markdown",
   "id": "6171c523",
   "metadata": {},
   "source": [
    "# Data Dictionary\n",
    "\n",
    "## Profile\n",
    "|Feature|Type|Description|\n",
    "|---|---|---|\n",
    "|**customer_id**|*int*|Identification for each unique customer|\n",
    "|**membership_days**|*int*|Number of days customer has been a member|\n",
    "|**age**|*int*|Age of customer (Imputed NaNs with random sampling of non-null values)|\n",
    "|**income**|*int*|Income of customer(Imputed NaNs with random sampling of non-null values)|\n",
    "|**gender_Blank**|*int*|Gender of customer (left blank)|\n",
    "|**gender_F**|*int*|Gender of customer (female)|\n",
    "|**gender_M**|*int*|Gender of customer (male)|\n",
    "|**gender_O**|*int*|Gender of customer (other)|\n",
    "\n",
    "## Portfolio\n",
    "|Feature|Type|Description|\n",
    "|---|---|---|\n",
    "|**reward**|*int*|Reward for offer completion incr. in value|\n",
    "|**difficulty**|*int*|Difficulty rating of the offer|\n",
    "|**duration**|*int*|Duration of the offer|\n",
    "|**offer_id**|*int*|Identification for each unique offer|\n",
    "|**email**|*int*|Email communication channel used|\n",
    "|**mobile**|*int*|Mobile communication channel used|\n",
    "|**web**|*int*|Web communication channel used|\n",
    "|**social**|*int*|Social Media communication channel used|\n",
    "|**bogo**|*int*|BOGO offer type|\n",
    "|**discount**|*int*|Discount offer type|\n",
    "|**informational**|*int*|Informational offer type|\n",
    "\n",
    "## Offers\n",
    "|Feature|Type|Description|\n",
    "|---|---|---|\n",
    "|**customer_id**|*string*|Identification for each unique customer|\n",
    "|**event**|*int*|Event of offer (received, viewed, or completed)|\n",
    "|**offer_id**|*int*|Identification for each unique offer|\n",
    "|**time**|*int*|Time (days)|\n",
    "\n",
    "## Transactions\n",
    "|Feature|Type|Description|\n",
    "|---|---|---|\n",
    "|**customer_id**|*int*|Identification for each unique customer|\n",
    "|**amount**|*float*|Amount of the transaction|\n",
    "|**time**|*int*|Time (days)|"
   ]
  }
 ],
 "metadata": {
  "kernelspec": {
   "display_name": "Python 3",
   "language": "python",
   "name": "python3"
  },
  "language_info": {
   "codemirror_mode": {
    "name": "ipython",
    "version": 3
   },
   "file_extension": ".py",
   "mimetype": "text/x-python",
   "name": "python",
   "nbconvert_exporter": "python",
   "pygments_lexer": "ipython3",
   "version": "3.8.8"
  }
 },
 "nbformat": 4,
 "nbformat_minor": 5
}

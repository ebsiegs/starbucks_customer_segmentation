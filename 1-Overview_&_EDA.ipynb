{
 "cells": [
  {
   "cell_type": "markdown",
   "id": "39f978c3",
   "metadata": {},
   "source": [
    "--- \n",
    "# Part 1: Overview & EDA\n",
    "\n",
    "--- "
   ]
  },
  {
   "cell_type": "markdown",
   "id": "56a66083",
   "metadata": {},
   "source": [
    "# Problem Statement\n",
    "\n",
    "Conducting analysis on your customer base and sending personalized campaigns to high value targets has massive benefits in any industry. Using unsupervised learning, I will seek to implement cluster analysis for customer segmentation and targeted marketing outreach."
   ]
  },
  {
   "cell_type": "markdown",
   "id": "47156140",
   "metadata": {},
   "source": [
    "# Contents\n",
    "\n",
    "- [Overview](#Overview)\n",
    "- [References](#References)\n",
    "- [Data Import & Cleaning](#Part-2-:-Data-Import-&-Cleaning)\n",
    "- [Exploratory Data Analysis](#Part-3:-Exploratory-Data-Analysis)\n",
    "- [Feature Engineering](#Feature-Engineering)\n",
    "- [Data Dictionary](#Data-Dictionary)"
   ]
  },
  {
   "cell_type": "markdown",
   "id": "a457515b",
   "metadata": {},
   "source": [
    "# Overview\n",
    "\n",
    "Customer segmentation is the process of dividing customers into groups based on common characteristics so companies can market to each group effectively and appropriately. The goal is to maximize the value of each customer to the business. In business-to-consumer marketing, companies like Starbucks often segment customers according to demographics that include:\n",
    "\n",
    "- Age\n",
    "- Gender\n",
    "- Location (urban, suburban, rural)\n",
    "- Products previously purchased from the company\n",
    "- Other demographics like life stage (single, married, divorced, empty-nester, retired, etc.)\n",
    "\n",
    "Why segment customers?\n",
    "- Create and communicate targeted marketing messages that will resonate with specific groups of customers, but not with others (who will receive messages tailored to their needs and interests, instead).\n",
    "- Select the best communication channel for the segment, which might be email, social media posts, radio advertising, or another approach, depending on the segment. \n",
    "- Identify ways to improve products or new product or service opportunities.\n",
    "- Establish better customer relationships.\n",
    "- Test pricing options.\n",
    "- Focus on the most profitable customers.\n",
    "- Improve customer service.\n",
    "- Upsell and cross-sell other products and services.\n",
    "\n",
    "There is simulated Starbucks customer data that includes transactions, demographics and offer data like BOGO offers.\n",
    "This data was provided by Starbucks to simulate their customers and transactions to see if there are better approaches to sending customers specific promotional deals. The dataset includes 306,534 events related to 17,000 customers and 10 event types over the course of a 30-day experiment. One of the main tasks of this project is to synthesize these three different datasets for customer segmentation analysis and a deep dive into each cluster.\n",
    "\n",
    "So what are the different types of customers that Starbucks has? Do people react to different discount promotions? Can Starbucks make more money on promotions if they cluster their customers appropriately? My analysis of Starbucks customers will answer what type of people make purchases at their stores and what promotional offers are most appropriate for the cluster they belong to.\n",
    "\n",
    "**Workflow:**\n",
    "\n",
    "1. EDA\n",
    "2. Data Wrangling\n",
    "3. Merge and Synthesize Cleaned Datasets\n",
    "4. Calculate RMF Metrics and Conversion Rates from Offer to Transaction\n",
    "5. Feature Scaling\n",
    "6. Dimensionality Reduction: PCA\n",
    "7. DBSCAN and K-Means\n",
    "8. Transfer Learning - Build regression model using customer segments\n",
    "9. More EDA\n",
    "10. Business Insights & Recommendations\n"
   ]
  },
  {
   "cell_type": "markdown",
   "id": "2bd6f847",
   "metadata": {},
   "source": [
    "# References\n",
    "\n",
    "1. Data Source: https://www.kaggle.com/ihormuliar/starbucks-customer-data\n",
    "2. https://seifip.medium.com/starbucks-offers-advanced-customer-segmentation-with-python-737f22e245a4\n",
    "3. https://www.barilliance.com/rfm-analysis/\n",
    "4. https://formation.ai/blog/how-starbucks-became-1-in-customer-loyalty/\n",
    "5. https://lifetimes.readthedocs.io/en/latest/\n",
    "6. https://www.natasshaselvaraj.com/customer-segmentation-with-python/\n",
    "7. https://towardsdatascience.com/find-your-best-customers-with-customer-segmentation-in-python-61d602f9eee6"
   ]
  },
  {
   "cell_type": "markdown",
   "id": "3af06092",
   "metadata": {},
   "source": [
    "# Importing Libraries"
   ]
  },
  {
   "cell_type": "code",
   "execution_count": 1,
   "id": "6fad94c7",
   "metadata": {},
   "outputs": [],
   "source": [
    "import pandas as pd\n",
    "import seaborn as sns\n",
    "import matplotlib.pyplot as plt\n",
    "import numpy as np\n",
    "import re\n",
    "import calendar\n",
    "import ast\n",
    "from sklearn.preprocessing import LabelEncoder\n",
    "    \n",
    "pd.set_option('display.max_rows', None)\n",
    "sns.set_palette('Greens_r')"
   ]
  },
  {
   "cell_type": "markdown",
   "id": "7fa5e40f",
   "metadata": {},
   "source": [
    "# Data Import "
   ]
  },
  {
   "cell_type": "code",
   "execution_count": 2,
   "id": "df5ba385",
   "metadata": {},
   "outputs": [
    {
     "data": {
      "text/html": [
       "<div>\n",
       "<style scoped>\n",
       "    .dataframe tbody tr th:only-of-type {\n",
       "        vertical-align: middle;\n",
       "    }\n",
       "\n",
       "    .dataframe tbody tr th {\n",
       "        vertical-align: top;\n",
       "    }\n",
       "\n",
       "    .dataframe thead th {\n",
       "        text-align: right;\n",
       "    }\n",
       "</style>\n",
       "<table border=\"1\" class=\"dataframe\">\n",
       "  <thead>\n",
       "    <tr style=\"text-align: right;\">\n",
       "      <th></th>\n",
       "      <th>Unnamed: 0</th>\n",
       "      <th>person</th>\n",
       "      <th>event</th>\n",
       "      <th>value</th>\n",
       "      <th>time</th>\n",
       "    </tr>\n",
       "  </thead>\n",
       "  <tbody>\n",
       "    <tr>\n",
       "      <th>0</th>\n",
       "      <td>0</td>\n",
       "      <td>78afa995795e4d85b5d9ceeca43f5fef</td>\n",
       "      <td>offer received</td>\n",
       "      <td>{'offer id': '9b98b8c7a33c4b65b9aebfe6a799e6d9'}</td>\n",
       "      <td>0</td>\n",
       "    </tr>\n",
       "    <tr>\n",
       "      <th>1</th>\n",
       "      <td>1</td>\n",
       "      <td>a03223e636434f42ac4c3df47e8bac43</td>\n",
       "      <td>offer received</td>\n",
       "      <td>{'offer id': '0b1e1539f2cc45b7b9fa7c272da2e1d7'}</td>\n",
       "      <td>0</td>\n",
       "    </tr>\n",
       "    <tr>\n",
       "      <th>2</th>\n",
       "      <td>2</td>\n",
       "      <td>e2127556f4f64592b11af22de27a7932</td>\n",
       "      <td>offer received</td>\n",
       "      <td>{'offer id': '2906b810c7d4411798c6938adc9daaa5'}</td>\n",
       "      <td>0</td>\n",
       "    </tr>\n",
       "    <tr>\n",
       "      <th>3</th>\n",
       "      <td>3</td>\n",
       "      <td>8ec6ce2a7e7949b1bf142def7d0e0586</td>\n",
       "      <td>offer received</td>\n",
       "      <td>{'offer id': 'fafdcd668e3743c1bb461111dcafc2a4'}</td>\n",
       "      <td>0</td>\n",
       "    </tr>\n",
       "    <tr>\n",
       "      <th>4</th>\n",
       "      <td>4</td>\n",
       "      <td>68617ca6246f4fbc85e91a2a49552598</td>\n",
       "      <td>offer received</td>\n",
       "      <td>{'offer id': '4d5c57ea9a6940dd891ad53e9dbe8da0'}</td>\n",
       "      <td>0</td>\n",
       "    </tr>\n",
       "  </tbody>\n",
       "</table>\n",
       "</div>"
      ],
      "text/plain": [
       "   Unnamed: 0                            person           event  \\\n",
       "0           0  78afa995795e4d85b5d9ceeca43f5fef  offer received   \n",
       "1           1  a03223e636434f42ac4c3df47e8bac43  offer received   \n",
       "2           2  e2127556f4f64592b11af22de27a7932  offer received   \n",
       "3           3  8ec6ce2a7e7949b1bf142def7d0e0586  offer received   \n",
       "4           4  68617ca6246f4fbc85e91a2a49552598  offer received   \n",
       "\n",
       "                                              value  time  \n",
       "0  {'offer id': '9b98b8c7a33c4b65b9aebfe6a799e6d9'}     0  \n",
       "1  {'offer id': '0b1e1539f2cc45b7b9fa7c272da2e1d7'}     0  \n",
       "2  {'offer id': '2906b810c7d4411798c6938adc9daaa5'}     0  \n",
       "3  {'offer id': 'fafdcd668e3743c1bb461111dcafc2a4'}     0  \n",
       "4  {'offer id': '4d5c57ea9a6940dd891ad53e9dbe8da0'}     0  "
      ]
     },
     "execution_count": 2,
     "metadata": {},
     "output_type": "execute_result"
    }
   ],
   "source": [
    "transcript = pd.read_csv('./data/transcript.csv')\n",
    "portfolio = pd.read_csv('./data/portfolio.csv')\n",
    "profile = pd.read_csv('./data/profile.csv')\n",
    "\n",
    "transcript.head()"
   ]
  },
  {
   "cell_type": "code",
   "execution_count": 3,
   "id": "5cc7b571",
   "metadata": {},
   "outputs": [
    {
     "data": {
      "text/html": [
       "<div>\n",
       "<style scoped>\n",
       "    .dataframe tbody tr th:only-of-type {\n",
       "        vertical-align: middle;\n",
       "    }\n",
       "\n",
       "    .dataframe tbody tr th {\n",
       "        vertical-align: top;\n",
       "    }\n",
       "\n",
       "    .dataframe thead th {\n",
       "        text-align: right;\n",
       "    }\n",
       "</style>\n",
       "<table border=\"1\" class=\"dataframe\">\n",
       "  <thead>\n",
       "    <tr style=\"text-align: right;\">\n",
       "      <th></th>\n",
       "      <th>Unnamed: 0</th>\n",
       "      <th>reward</th>\n",
       "      <th>channels</th>\n",
       "      <th>difficulty</th>\n",
       "      <th>duration</th>\n",
       "      <th>offer_type</th>\n",
       "      <th>id</th>\n",
       "    </tr>\n",
       "  </thead>\n",
       "  <tbody>\n",
       "    <tr>\n",
       "      <th>0</th>\n",
       "      <td>0</td>\n",
       "      <td>10</td>\n",
       "      <td>['email', 'mobile', 'social']</td>\n",
       "      <td>10</td>\n",
       "      <td>7</td>\n",
       "      <td>bogo</td>\n",
       "      <td>ae264e3637204a6fb9bb56bc8210ddfd</td>\n",
       "    </tr>\n",
       "    <tr>\n",
       "      <th>1</th>\n",
       "      <td>1</td>\n",
       "      <td>10</td>\n",
       "      <td>['web', 'email', 'mobile', 'social']</td>\n",
       "      <td>10</td>\n",
       "      <td>5</td>\n",
       "      <td>bogo</td>\n",
       "      <td>4d5c57ea9a6940dd891ad53e9dbe8da0</td>\n",
       "    </tr>\n",
       "    <tr>\n",
       "      <th>2</th>\n",
       "      <td>2</td>\n",
       "      <td>0</td>\n",
       "      <td>['web', 'email', 'mobile']</td>\n",
       "      <td>0</td>\n",
       "      <td>4</td>\n",
       "      <td>informational</td>\n",
       "      <td>3f207df678b143eea3cee63160fa8bed</td>\n",
       "    </tr>\n",
       "    <tr>\n",
       "      <th>3</th>\n",
       "      <td>3</td>\n",
       "      <td>5</td>\n",
       "      <td>['web', 'email', 'mobile']</td>\n",
       "      <td>5</td>\n",
       "      <td>7</td>\n",
       "      <td>bogo</td>\n",
       "      <td>9b98b8c7a33c4b65b9aebfe6a799e6d9</td>\n",
       "    </tr>\n",
       "    <tr>\n",
       "      <th>4</th>\n",
       "      <td>4</td>\n",
       "      <td>5</td>\n",
       "      <td>['web', 'email']</td>\n",
       "      <td>20</td>\n",
       "      <td>10</td>\n",
       "      <td>discount</td>\n",
       "      <td>0b1e1539f2cc45b7b9fa7c272da2e1d7</td>\n",
       "    </tr>\n",
       "  </tbody>\n",
       "</table>\n",
       "</div>"
      ],
      "text/plain": [
       "   Unnamed: 0  reward                              channels  difficulty  \\\n",
       "0           0      10         ['email', 'mobile', 'social']          10   \n",
       "1           1      10  ['web', 'email', 'mobile', 'social']          10   \n",
       "2           2       0            ['web', 'email', 'mobile']           0   \n",
       "3           3       5            ['web', 'email', 'mobile']           5   \n",
       "4           4       5                      ['web', 'email']          20   \n",
       "\n",
       "   duration     offer_type                                id  \n",
       "0         7           bogo  ae264e3637204a6fb9bb56bc8210ddfd  \n",
       "1         5           bogo  4d5c57ea9a6940dd891ad53e9dbe8da0  \n",
       "2         4  informational  3f207df678b143eea3cee63160fa8bed  \n",
       "3         7           bogo  9b98b8c7a33c4b65b9aebfe6a799e6d9  \n",
       "4        10       discount  0b1e1539f2cc45b7b9fa7c272da2e1d7  "
      ]
     },
     "execution_count": 3,
     "metadata": {},
     "output_type": "execute_result"
    }
   ],
   "source": [
    "portfolio.head()"
   ]
  },
  {
   "cell_type": "code",
   "execution_count": 4,
   "id": "0153cb75",
   "metadata": {},
   "outputs": [
    {
     "data": {
      "text/html": [
       "<div>\n",
       "<style scoped>\n",
       "    .dataframe tbody tr th:only-of-type {\n",
       "        vertical-align: middle;\n",
       "    }\n",
       "\n",
       "    .dataframe tbody tr th {\n",
       "        vertical-align: top;\n",
       "    }\n",
       "\n",
       "    .dataframe thead th {\n",
       "        text-align: right;\n",
       "    }\n",
       "</style>\n",
       "<table border=\"1\" class=\"dataframe\">\n",
       "  <thead>\n",
       "    <tr style=\"text-align: right;\">\n",
       "      <th></th>\n",
       "      <th>Unnamed: 0</th>\n",
       "      <th>gender</th>\n",
       "      <th>age</th>\n",
       "      <th>id</th>\n",
       "      <th>became_member_on</th>\n",
       "      <th>income</th>\n",
       "    </tr>\n",
       "  </thead>\n",
       "  <tbody>\n",
       "    <tr>\n",
       "      <th>0</th>\n",
       "      <td>0</td>\n",
       "      <td>NaN</td>\n",
       "      <td>118</td>\n",
       "      <td>68be06ca386d4c31939f3a4f0e3dd783</td>\n",
       "      <td>20170212</td>\n",
       "      <td>NaN</td>\n",
       "    </tr>\n",
       "    <tr>\n",
       "      <th>1</th>\n",
       "      <td>1</td>\n",
       "      <td>F</td>\n",
       "      <td>55</td>\n",
       "      <td>0610b486422d4921ae7d2bf64640c50b</td>\n",
       "      <td>20170715</td>\n",
       "      <td>112000.0</td>\n",
       "    </tr>\n",
       "    <tr>\n",
       "      <th>2</th>\n",
       "      <td>2</td>\n",
       "      <td>NaN</td>\n",
       "      <td>118</td>\n",
       "      <td>38fe809add3b4fcf9315a9694bb96ff5</td>\n",
       "      <td>20180712</td>\n",
       "      <td>NaN</td>\n",
       "    </tr>\n",
       "    <tr>\n",
       "      <th>3</th>\n",
       "      <td>3</td>\n",
       "      <td>F</td>\n",
       "      <td>75</td>\n",
       "      <td>78afa995795e4d85b5d9ceeca43f5fef</td>\n",
       "      <td>20170509</td>\n",
       "      <td>100000.0</td>\n",
       "    </tr>\n",
       "    <tr>\n",
       "      <th>4</th>\n",
       "      <td>4</td>\n",
       "      <td>NaN</td>\n",
       "      <td>118</td>\n",
       "      <td>a03223e636434f42ac4c3df47e8bac43</td>\n",
       "      <td>20170804</td>\n",
       "      <td>NaN</td>\n",
       "    </tr>\n",
       "  </tbody>\n",
       "</table>\n",
       "</div>"
      ],
      "text/plain": [
       "   Unnamed: 0 gender  age                                id  became_member_on  \\\n",
       "0           0    NaN  118  68be06ca386d4c31939f3a4f0e3dd783          20170212   \n",
       "1           1      F   55  0610b486422d4921ae7d2bf64640c50b          20170715   \n",
       "2           2    NaN  118  38fe809add3b4fcf9315a9694bb96ff5          20180712   \n",
       "3           3      F   75  78afa995795e4d85b5d9ceeca43f5fef          20170509   \n",
       "4           4    NaN  118  a03223e636434f42ac4c3df47e8bac43          20170804   \n",
       "\n",
       "     income  \n",
       "0       NaN  \n",
       "1  112000.0  \n",
       "2       NaN  \n",
       "3  100000.0  \n",
       "4       NaN  "
      ]
     },
     "execution_count": 4,
     "metadata": {},
     "output_type": "execute_result"
    }
   ],
   "source": [
    "profile.head()"
   ]
  },
  {
   "cell_type": "code",
   "execution_count": 5,
   "id": "ae87a35a",
   "metadata": {},
   "outputs": [
    {
     "data": {
      "text/html": [
       "<div>\n",
       "<style scoped>\n",
       "    .dataframe tbody tr th:only-of-type {\n",
       "        vertical-align: middle;\n",
       "    }\n",
       "\n",
       "    .dataframe tbody tr th {\n",
       "        vertical-align: top;\n",
       "    }\n",
       "\n",
       "    .dataframe thead th {\n",
       "        text-align: right;\n",
       "    }\n",
       "</style>\n",
       "<table border=\"1\" class=\"dataframe\">\n",
       "  <thead>\n",
       "    <tr style=\"text-align: right;\">\n",
       "      <th></th>\n",
       "      <th>gender</th>\n",
       "      <th>age</th>\n",
       "      <th>id</th>\n",
       "      <th>became_member_on</th>\n",
       "      <th>income</th>\n",
       "    </tr>\n",
       "  </thead>\n",
       "  <tbody>\n",
       "    <tr>\n",
       "      <th>0</th>\n",
       "      <td>NaN</td>\n",
       "      <td>118</td>\n",
       "      <td>68be06ca386d4c31939f3a4f0e3dd783</td>\n",
       "      <td>20170212</td>\n",
       "      <td>NaN</td>\n",
       "    </tr>\n",
       "    <tr>\n",
       "      <th>1</th>\n",
       "      <td>F</td>\n",
       "      <td>55</td>\n",
       "      <td>0610b486422d4921ae7d2bf64640c50b</td>\n",
       "      <td>20170715</td>\n",
       "      <td>112000.0</td>\n",
       "    </tr>\n",
       "    <tr>\n",
       "      <th>2</th>\n",
       "      <td>NaN</td>\n",
       "      <td>118</td>\n",
       "      <td>38fe809add3b4fcf9315a9694bb96ff5</td>\n",
       "      <td>20180712</td>\n",
       "      <td>NaN</td>\n",
       "    </tr>\n",
       "    <tr>\n",
       "      <th>3</th>\n",
       "      <td>F</td>\n",
       "      <td>75</td>\n",
       "      <td>78afa995795e4d85b5d9ceeca43f5fef</td>\n",
       "      <td>20170509</td>\n",
       "      <td>100000.0</td>\n",
       "    </tr>\n",
       "    <tr>\n",
       "      <th>4</th>\n",
       "      <td>NaN</td>\n",
       "      <td>118</td>\n",
       "      <td>a03223e636434f42ac4c3df47e8bac43</td>\n",
       "      <td>20170804</td>\n",
       "      <td>NaN</td>\n",
       "    </tr>\n",
       "  </tbody>\n",
       "</table>\n",
       "</div>"
      ],
      "text/plain": [
       "  gender  age                                id  became_member_on    income\n",
       "0    NaN  118  68be06ca386d4c31939f3a4f0e3dd783          20170212       NaN\n",
       "1      F   55  0610b486422d4921ae7d2bf64640c50b          20170715  112000.0\n",
       "2    NaN  118  38fe809add3b4fcf9315a9694bb96ff5          20180712       NaN\n",
       "3      F   75  78afa995795e4d85b5d9ceeca43f5fef          20170509  100000.0\n",
       "4    NaN  118  a03223e636434f42ac4c3df47e8bac43          20170804       NaN"
      ]
     },
     "execution_count": 5,
     "metadata": {},
     "output_type": "execute_result"
    }
   ],
   "source": [
    "# Drop Unnamed index column\n",
    "transcript.drop(columns = ['Unnamed: 0'], inplace = True)\n",
    "portfolio.drop(columns = ['Unnamed: 0'], inplace = True)\n",
    "profile.drop(columns = ['Unnamed: 0'], inplace = True)\n",
    "profile.head()"
   ]
  },
  {
   "cell_type": "code",
   "execution_count": 6,
   "id": "a69a6f0c",
   "metadata": {},
   "outputs": [
    {
     "data": {
      "text/plain": [
       "((306534, 4), (10, 6), (17000, 5))"
      ]
     },
     "execution_count": 6,
     "metadata": {},
     "output_type": "execute_result"
    }
   ],
   "source": [
    "transcript.shape, portfolio.shape, profile.shape"
   ]
  },
  {
   "cell_type": "markdown",
   "id": "34a45e0f",
   "metadata": {},
   "source": [
    "# Portfolio Data\n",
    "\n",
    "Contains 10 different promotional offers and information about each one including the promotional offer type, difficulty rating to achieve the promotion, duration of the offer, reward, and how the promotion was distributed to customers (channels)."
   ]
  },
  {
   "cell_type": "code",
   "execution_count": 7,
   "id": "2e06a6f9",
   "metadata": {},
   "outputs": [
    {
     "name": "stdout",
     "output_type": "stream",
     "text": [
      "<class 'pandas.core.frame.DataFrame'>\n",
      "RangeIndex: 10 entries, 0 to 9\n",
      "Data columns (total 6 columns):\n",
      " #   Column      Non-Null Count  Dtype \n",
      "---  ------      --------------  ----- \n",
      " 0   reward      10 non-null     int64 \n",
      " 1   channels    10 non-null     object\n",
      " 2   difficulty  10 non-null     int64 \n",
      " 3   duration    10 non-null     int64 \n",
      " 4   offer_type  10 non-null     object\n",
      " 5   id          10 non-null     object\n",
      "dtypes: int64(3), object(3)\n",
      "memory usage: 608.0+ bytes\n"
     ]
    }
   ],
   "source": [
    "portfolio.info()"
   ]
  },
  {
   "cell_type": "code",
   "execution_count": 8,
   "id": "5e5668c0",
   "metadata": {},
   "outputs": [
    {
     "data": {
      "text/html": [
       "<div>\n",
       "<style scoped>\n",
       "    .dataframe tbody tr th:only-of-type {\n",
       "        vertical-align: middle;\n",
       "    }\n",
       "\n",
       "    .dataframe tbody tr th {\n",
       "        vertical-align: top;\n",
       "    }\n",
       "\n",
       "    .dataframe thead th {\n",
       "        text-align: right;\n",
       "    }\n",
       "</style>\n",
       "<table border=\"1\" class=\"dataframe\">\n",
       "  <thead>\n",
       "    <tr style=\"text-align: right;\">\n",
       "      <th></th>\n",
       "      <th>reward</th>\n",
       "      <th>difficulty</th>\n",
       "      <th>duration</th>\n",
       "    </tr>\n",
       "  </thead>\n",
       "  <tbody>\n",
       "    <tr>\n",
       "      <th>count</th>\n",
       "      <td>10.000000</td>\n",
       "      <td>10.000000</td>\n",
       "      <td>10.000000</td>\n",
       "    </tr>\n",
       "    <tr>\n",
       "      <th>mean</th>\n",
       "      <td>4.200000</td>\n",
       "      <td>7.700000</td>\n",
       "      <td>6.500000</td>\n",
       "    </tr>\n",
       "    <tr>\n",
       "      <th>std</th>\n",
       "      <td>3.583915</td>\n",
       "      <td>5.831905</td>\n",
       "      <td>2.321398</td>\n",
       "    </tr>\n",
       "    <tr>\n",
       "      <th>min</th>\n",
       "      <td>0.000000</td>\n",
       "      <td>0.000000</td>\n",
       "      <td>3.000000</td>\n",
       "    </tr>\n",
       "    <tr>\n",
       "      <th>25%</th>\n",
       "      <td>2.000000</td>\n",
       "      <td>5.000000</td>\n",
       "      <td>5.000000</td>\n",
       "    </tr>\n",
       "    <tr>\n",
       "      <th>50%</th>\n",
       "      <td>4.000000</td>\n",
       "      <td>8.500000</td>\n",
       "      <td>7.000000</td>\n",
       "    </tr>\n",
       "    <tr>\n",
       "      <th>75%</th>\n",
       "      <td>5.000000</td>\n",
       "      <td>10.000000</td>\n",
       "      <td>7.000000</td>\n",
       "    </tr>\n",
       "    <tr>\n",
       "      <th>max</th>\n",
       "      <td>10.000000</td>\n",
       "      <td>20.000000</td>\n",
       "      <td>10.000000</td>\n",
       "    </tr>\n",
       "  </tbody>\n",
       "</table>\n",
       "</div>"
      ],
      "text/plain": [
       "          reward  difficulty   duration\n",
       "count  10.000000   10.000000  10.000000\n",
       "mean    4.200000    7.700000   6.500000\n",
       "std     3.583915    5.831905   2.321398\n",
       "min     0.000000    0.000000   3.000000\n",
       "25%     2.000000    5.000000   5.000000\n",
       "50%     4.000000    8.500000   7.000000\n",
       "75%     5.000000   10.000000   7.000000\n",
       "max    10.000000   20.000000  10.000000"
      ]
     },
     "execution_count": 8,
     "metadata": {},
     "output_type": "execute_result"
    }
   ],
   "source": [
    "portfolio.describe()"
   ]
  },
  {
   "cell_type": "code",
   "execution_count": 9,
   "id": "0c150aef",
   "metadata": {},
   "outputs": [
    {
     "data": {
      "image/png": "[encoded data removed]",
      "text/plain": [
       "<Figure size 576x432 with 1 Axes>"
      ]
     },
     "metadata": {
      "needs_background": "light"
     },
     "output_type": "display_data"
    }
   ],
   "source": [
    "plt.figure(figsize = (8,6))\n",
    "sns.countplot(data = portfolio, x = 'offer_type', edgecolor=\".3\", linewidth=2)\n",
    "plt.title('Distribution of Offers', size = 18)\n",
    "plt.ylabel('Count', size = 16)\n",
    "plt.xlabel('Offers', size = 16)\n",
    "plt.xticks(size = 12)\n",
    "plt.yticks(size = 12);"
   ]
  },
  {
   "cell_type": "markdown",
   "id": "095937fc",
   "metadata": {},
   "source": [
    "Majority discount and bogo offers."
   ]
  },
  {
   "cell_type": "code",
   "execution_count": 10,
   "id": "4446f87d",
   "metadata": {},
   "outputs": [
    {
     "data": {
      "image/png": "[encoded data removed]",
      "text/plain": [
       "<Figure size 540x540 with 12 Axes>"
      ]
     },
     "metadata": {
      "needs_background": "light"
     },
     "output_type": "display_data"
    }
   ],
   "source": [
    "sns.pairplot(portfolio);"
   ]
  },
  {
   "cell_type": "code",
   "execution_count": 11,
   "id": "b05a6254",
   "metadata": {},
   "outputs": [
    {
     "data": {
      "text/html": [
       "<div>\n",
       "<style scoped>\n",
       "    .dataframe tbody tr th:only-of-type {\n",
       "        vertical-align: middle;\n",
       "    }\n",
       "\n",
       "    .dataframe tbody tr th {\n",
       "        vertical-align: top;\n",
       "    }\n",
       "\n",
       "    .dataframe thead th {\n",
       "        text-align: right;\n",
       "    }\n",
       "</style>\n",
       "<table border=\"1\" class=\"dataframe\">\n",
       "  <thead>\n",
       "    <tr style=\"text-align: right;\">\n",
       "      <th></th>\n",
       "      <th>reward</th>\n",
       "      <th>channels</th>\n",
       "      <th>difficulty</th>\n",
       "      <th>duration</th>\n",
       "      <th>offer_type</th>\n",
       "      <th>offer_id</th>\n",
       "    </tr>\n",
       "  </thead>\n",
       "  <tbody>\n",
       "    <tr>\n",
       "      <th>0</th>\n",
       "      <td>10</td>\n",
       "      <td>['email', 'mobile', 'social']</td>\n",
       "      <td>10</td>\n",
       "      <td>7</td>\n",
       "      <td>bogo</td>\n",
       "      <td>ae264e3637204a6fb9bb56bc8210ddfd</td>\n",
       "    </tr>\n",
       "    <tr>\n",
       "      <th>1</th>\n",
       "      <td>10</td>\n",
       "      <td>['web', 'email', 'mobile', 'social']</td>\n",
       "      <td>10</td>\n",
       "      <td>5</td>\n",
       "      <td>bogo</td>\n",
       "      <td>4d5c57ea9a6940dd891ad53e9dbe8da0</td>\n",
       "    </tr>\n",
       "    <tr>\n",
       "      <th>2</th>\n",
       "      <td>0</td>\n",
       "      <td>['web', 'email', 'mobile']</td>\n",
       "      <td>0</td>\n",
       "      <td>4</td>\n",
       "      <td>informational</td>\n",
       "      <td>3f207df678b143eea3cee63160fa8bed</td>\n",
       "    </tr>\n",
       "    <tr>\n",
       "      <th>3</th>\n",
       "      <td>5</td>\n",
       "      <td>['web', 'email', 'mobile']</td>\n",
       "      <td>5</td>\n",
       "      <td>7</td>\n",
       "      <td>bogo</td>\n",
       "      <td>9b98b8c7a33c4b65b9aebfe6a799e6d9</td>\n",
       "    </tr>\n",
       "    <tr>\n",
       "      <th>4</th>\n",
       "      <td>5</td>\n",
       "      <td>['web', 'email']</td>\n",
       "      <td>20</td>\n",
       "      <td>10</td>\n",
       "      <td>discount</td>\n",
       "      <td>0b1e1539f2cc45b7b9fa7c272da2e1d7</td>\n",
       "    </tr>\n",
       "  </tbody>\n",
       "</table>\n",
       "</div>"
      ],
      "text/plain": [
       "   reward                              channels  difficulty  duration  \\\n",
       "0      10         ['email', 'mobile', 'social']          10         7   \n",
       "1      10  ['web', 'email', 'mobile', 'social']          10         5   \n",
       "2       0            ['web', 'email', 'mobile']           0         4   \n",
       "3       5            ['web', 'email', 'mobile']           5         7   \n",
       "4       5                      ['web', 'email']          20        10   \n",
       "\n",
       "      offer_type                          offer_id  \n",
       "0           bogo  ae264e3637204a6fb9bb56bc8210ddfd  \n",
       "1           bogo  4d5c57ea9a6940dd891ad53e9dbe8da0  \n",
       "2  informational  3f207df678b143eea3cee63160fa8bed  \n",
       "3           bogo  9b98b8c7a33c4b65b9aebfe6a799e6d9  \n",
       "4       discount  0b1e1539f2cc45b7b9fa7c272da2e1d7  "
      ]
     },
     "execution_count": 11,
     "metadata": {},
     "output_type": "execute_result"
    }
   ],
   "source": [
    "# Clarifying 'id' since we have customer_id and offer_id \n",
    "portfolio.rename(columns={'id': 'offer_id'}, inplace=True)\n",
    "portfolio.head()"
   ]
  },
  {
   "cell_type": "code",
   "execution_count": 12,
   "id": "d2ded4d7",
   "metadata": {},
   "outputs": [
    {
     "data": {
      "text/plain": [
       "['web', 'email', 'mobile', 'social']    4\n",
       "['web', 'email', 'mobile']              3\n",
       "['email', 'mobile', 'social']           2\n",
       "['web', 'email']                        1\n",
       "Name: channels, dtype: int64"
      ]
     },
     "execution_count": 12,
     "metadata": {},
     "output_type": "execute_result"
    }
   ],
   "source": [
    "portfolio['channels'].value_counts()"
   ]
  },
  {
   "cell_type": "code",
   "execution_count": 13,
   "id": "c93363bd",
   "metadata": {},
   "outputs": [
    {
     "data": {
      "image/png": "[encoded data removed]",
      "text/plain": [
       "<Figure size 576x432 with 1 Axes>"
      ]
     },
     "metadata": {
      "needs_background": "light"
     },
     "output_type": "display_data"
    }
   ],
   "source": [
    "plt.figure(figsize = (8,6))\n",
    "sns.histplot(portfolio, y = 'channels', edgecolor=\".3\", linewidth=2)\n",
    "plt.title('Distribution of Promotional Channels', size = 18)\n",
    "plt.ylabel('Channels', size = 16)\n",
    "plt.xlabel('Count', size = 16)\n",
    "plt.yticks(size = 12);"
   ]
  },
  {
   "cell_type": "markdown",
   "id": "6d9cef7b",
   "metadata": {},
   "source": [
    "Most offers use all 4 channel types for promotion."
   ]
  },
  {
   "cell_type": "code",
   "execution_count": 14,
   "id": "621ced5e",
   "metadata": {},
   "outputs": [
    {
     "data": {
      "text/html": [
       "<div>\n",
       "<style scoped>\n",
       "    .dataframe tbody tr th:only-of-type {\n",
       "        vertical-align: middle;\n",
       "    }\n",
       "\n",
       "    .dataframe tbody tr th {\n",
       "        vertical-align: top;\n",
       "    }\n",
       "\n",
       "    .dataframe thead th {\n",
       "        text-align: right;\n",
       "    }\n",
       "</style>\n",
       "<table border=\"1\" class=\"dataframe\">\n",
       "  <thead>\n",
       "    <tr style=\"text-align: right;\">\n",
       "      <th></th>\n",
       "      <th>reward</th>\n",
       "      <th>channels</th>\n",
       "      <th>difficulty</th>\n",
       "      <th>duration</th>\n",
       "      <th>offer_type</th>\n",
       "      <th>offer_id</th>\n",
       "      <th>email</th>\n",
       "      <th>mobile</th>\n",
       "      <th>web</th>\n",
       "      <th>social</th>\n",
       "    </tr>\n",
       "  </thead>\n",
       "  <tbody>\n",
       "    <tr>\n",
       "      <th>0</th>\n",
       "      <td>10</td>\n",
       "      <td>['email', 'mobile', 'social']</td>\n",
       "      <td>10</td>\n",
       "      <td>7</td>\n",
       "      <td>bogo</td>\n",
       "      <td>ae264e3637204a6fb9bb56bc8210ddfd</td>\n",
       "      <td>1</td>\n",
       "      <td>1</td>\n",
       "      <td>0</td>\n",
       "      <td>1</td>\n",
       "    </tr>\n",
       "    <tr>\n",
       "      <th>1</th>\n",
       "      <td>10</td>\n",
       "      <td>['web', 'email', 'mobile', 'social']</td>\n",
       "      <td>10</td>\n",
       "      <td>5</td>\n",
       "      <td>bogo</td>\n",
       "      <td>4d5c57ea9a6940dd891ad53e9dbe8da0</td>\n",
       "      <td>1</td>\n",
       "      <td>1</td>\n",
       "      <td>1</td>\n",
       "      <td>1</td>\n",
       "    </tr>\n",
       "    <tr>\n",
       "      <th>2</th>\n",
       "      <td>0</td>\n",
       "      <td>['web', 'email', 'mobile']</td>\n",
       "      <td>0</td>\n",
       "      <td>4</td>\n",
       "      <td>informational</td>\n",
       "      <td>3f207df678b143eea3cee63160fa8bed</td>\n",
       "      <td>1</td>\n",
       "      <td>1</td>\n",
       "      <td>1</td>\n",
       "      <td>0</td>\n",
       "    </tr>\n",
       "    <tr>\n",
       "      <th>3</th>\n",
       "      <td>5</td>\n",
       "      <td>['web', 'email', 'mobile']</td>\n",
       "      <td>5</td>\n",
       "      <td>7</td>\n",
       "      <td>bogo</td>\n",
       "      <td>9b98b8c7a33c4b65b9aebfe6a799e6d9</td>\n",
       "      <td>1</td>\n",
       "      <td>1</td>\n",
       "      <td>1</td>\n",
       "      <td>0</td>\n",
       "    </tr>\n",
       "    <tr>\n",
       "      <th>4</th>\n",
       "      <td>5</td>\n",
       "      <td>['web', 'email']</td>\n",
       "      <td>20</td>\n",
       "      <td>10</td>\n",
       "      <td>discount</td>\n",
       "      <td>0b1e1539f2cc45b7b9fa7c272da2e1d7</td>\n",
       "      <td>1</td>\n",
       "      <td>0</td>\n",
       "      <td>1</td>\n",
       "      <td>0</td>\n",
       "    </tr>\n",
       "    <tr>\n",
       "      <th>5</th>\n",
       "      <td>3</td>\n",
       "      <td>['web', 'email', 'mobile', 'social']</td>\n",
       "      <td>7</td>\n",
       "      <td>7</td>\n",
       "      <td>discount</td>\n",
       "      <td>2298d6c36e964ae4a3e7e9706d1fb8c2</td>\n",
       "      <td>1</td>\n",
       "      <td>1</td>\n",
       "      <td>1</td>\n",
       "      <td>1</td>\n",
       "    </tr>\n",
       "    <tr>\n",
       "      <th>6</th>\n",
       "      <td>2</td>\n",
       "      <td>['web', 'email', 'mobile', 'social']</td>\n",
       "      <td>10</td>\n",
       "      <td>10</td>\n",
       "      <td>discount</td>\n",
       "      <td>fafdcd668e3743c1bb461111dcafc2a4</td>\n",
       "      <td>1</td>\n",
       "      <td>1</td>\n",
       "      <td>1</td>\n",
       "      <td>1</td>\n",
       "    </tr>\n",
       "    <tr>\n",
       "      <th>7</th>\n",
       "      <td>0</td>\n",
       "      <td>['email', 'mobile', 'social']</td>\n",
       "      <td>0</td>\n",
       "      <td>3</td>\n",
       "      <td>informational</td>\n",
       "      <td>5a8bc65990b245e5a138643cd4eb9837</td>\n",
       "      <td>1</td>\n",
       "      <td>1</td>\n",
       "      <td>0</td>\n",
       "      <td>1</td>\n",
       "    </tr>\n",
       "    <tr>\n",
       "      <th>8</th>\n",
       "      <td>5</td>\n",
       "      <td>['web', 'email', 'mobile', 'social']</td>\n",
       "      <td>5</td>\n",
       "      <td>5</td>\n",
       "      <td>bogo</td>\n",
       "      <td>f19421c1d4aa40978ebb69ca19b0e20d</td>\n",
       "      <td>1</td>\n",
       "      <td>1</td>\n",
       "      <td>1</td>\n",
       "      <td>1</td>\n",
       "    </tr>\n",
       "    <tr>\n",
       "      <th>9</th>\n",
       "      <td>2</td>\n",
       "      <td>['web', 'email', 'mobile']</td>\n",
       "      <td>10</td>\n",
       "      <td>7</td>\n",
       "      <td>discount</td>\n",
       "      <td>2906b810c7d4411798c6938adc9daaa5</td>\n",
       "      <td>1</td>\n",
       "      <td>1</td>\n",
       "      <td>1</td>\n",
       "      <td>0</td>\n",
       "    </tr>\n",
       "  </tbody>\n",
       "</table>\n",
       "</div>"
      ],
      "text/plain": [
       "   reward                              channels  difficulty  duration  \\\n",
       "0      10         ['email', 'mobile', 'social']          10         7   \n",
       "1      10  ['web', 'email', 'mobile', 'social']          10         5   \n",
       "2       0            ['web', 'email', 'mobile']           0         4   \n",
       "3       5            ['web', 'email', 'mobile']           5         7   \n",
       "4       5                      ['web', 'email']          20        10   \n",
       "5       3  ['web', 'email', 'mobile', 'social']           7         7   \n",
       "6       2  ['web', 'email', 'mobile', 'social']          10        10   \n",
       "7       0         ['email', 'mobile', 'social']           0         3   \n",
       "8       5  ['web', 'email', 'mobile', 'social']           5         5   \n",
       "9       2            ['web', 'email', 'mobile']          10         7   \n",
       "\n",
       "      offer_type                          offer_id  email  mobile  web  social  \n",
       "0           bogo  ae264e3637204a6fb9bb56bc8210ddfd      1       1    0       1  \n",
       "1           bogo  4d5c57ea9a6940dd891ad53e9dbe8da0      1       1    1       1  \n",
       "2  informational  3f207df678b143eea3cee63160fa8bed      1       1    1       0  \n",
       "3           bogo  9b98b8c7a33c4b65b9aebfe6a799e6d9      1       1    1       0  \n",
       "4       discount  0b1e1539f2cc45b7b9fa7c272da2e1d7      1       0    1       0  \n",
       "5       discount  2298d6c36e964ae4a3e7e9706d1fb8c2      1       1    1       1  \n",
       "6       discount  fafdcd668e3743c1bb461111dcafc2a4      1       1    1       1  \n",
       "7  informational  5a8bc65990b245e5a138643cd4eb9837      1       1    0       1  \n",
       "8           bogo  f19421c1d4aa40978ebb69ca19b0e20d      1       1    1       1  \n",
       "9       discount  2906b810c7d4411798c6938adc9daaa5      1       1    1       0  "
      ]
     },
     "execution_count": 14,
     "metadata": {},
     "output_type": "execute_result"
    }
   ],
   "source": [
    "# Unnesting the channels column and giving it a binary value if the offer contains that channel\n",
    "def email(portfolio):\n",
    "    if 'email' in portfolio['channels']:\n",
    "        val = 1\n",
    "    else:\n",
    "        val = 0\n",
    "    return val\n",
    "\n",
    "def mobile(portfolio):\n",
    "    if 'mobile' in portfolio['channels']:\n",
    "        val = 1\n",
    "    else:\n",
    "        val = 0\n",
    "    return val\n",
    "\n",
    "def web(portfolio):\n",
    "    if 'web' in portfolio['channels']:\n",
    "        val = 1\n",
    "    else:\n",
    "        val = 0\n",
    "    return val\n",
    "\n",
    "def social(portfolio):\n",
    "    if 'social' in portfolio['channels']:\n",
    "        val = 1\n",
    "    else:\n",
    "        val = 0\n",
    "    return val\n",
    "\n",
    "portfolio['email'] = portfolio.apply(email, axis=1)\n",
    "portfolio['mobile'] = portfolio.apply(mobile, axis=1)\n",
    "portfolio['web'] = portfolio.apply(web, axis=1)\n",
    "portfolio['social'] = portfolio.apply(social, axis=1)\n",
    "portfolio.head(10)"
   ]
  },
  {
   "cell_type": "code",
   "execution_count": 15,
   "id": "acf41979",
   "metadata": {},
   "outputs": [
    {
     "data": {
      "text/plain": [
       "array(['ae264e3637204a6fb9bb56bc8210ddfd',\n",
       "       '4d5c57ea9a6940dd891ad53e9dbe8da0',\n",
       "       '3f207df678b143eea3cee63160fa8bed',\n",
       "       '9b98b8c7a33c4b65b9aebfe6a799e6d9',\n",
       "       '0b1e1539f2cc45b7b9fa7c272da2e1d7',\n",
       "       '2298d6c36e964ae4a3e7e9706d1fb8c2',\n",
       "       'fafdcd668e3743c1bb461111dcafc2a4',\n",
       "       '5a8bc65990b245e5a138643cd4eb9837',\n",
       "       'f19421c1d4aa40978ebb69ca19b0e20d',\n",
       "       '2906b810c7d4411798c6938adc9daaa5'], dtype=object)"
      ]
     },
     "execution_count": 15,
     "metadata": {},
     "output_type": "execute_result"
    }
   ],
   "source": [
    "portfolio['offer_id'].unique()"
   ]
  },
  {
   "cell_type": "code",
   "execution_count": 16,
   "id": "05c51e2c",
   "metadata": {},
   "outputs": [
    {
     "data": {
      "text/plain": [
       "array(['offer_1', 'offer_2', 'offer_3', 'offer_4', 'offer_5', 'offer_6',\n",
       "       'offer_7', 'offer_8', 'offer_9', 'offer_10'], dtype=object)"
      ]
     },
     "execution_count": 16,
     "metadata": {},
     "output_type": "execute_result"
    }
   ],
   "source": [
    "portfolio['offer_id_modified'] = portfolio['offer_id'].replace({'ae264e3637204a6fb9bb56bc8210ddfd': 'offer_1', \n",
    "                                                               '4d5c57ea9a6940dd891ad53e9dbe8da0': 'offer_2',\n",
    "                                                               '3f207df678b143eea3cee63160fa8bed': 'offer_3',\n",
    "                                                               '9b98b8c7a33c4b65b9aebfe6a799e6d9': 'offer_4',\n",
    "                                                               '0b1e1539f2cc45b7b9fa7c272da2e1d7': 'offer_5',\n",
    "                                                               '2298d6c36e964ae4a3e7e9706d1fb8c2': 'offer_6',\n",
    "                                                               'fafdcd668e3743c1bb461111dcafc2a4': 'offer_7',\n",
    "                                                               '5a8bc65990b245e5a138643cd4eb9837': 'offer_8',\n",
    "                                                               'f19421c1d4aa40978ebb69ca19b0e20d': 'offer_9',\n",
    "                                                               '2906b810c7d4411798c6938adc9daaa5': 'offer_10'})\n",
    "portfolio['offer_id_modified'].unique()"
   ]
  },
  {
   "cell_type": "code",
   "execution_count": 18,
   "id": "b67c4335",
   "metadata": {},
   "outputs": [
    {
     "data": {
      "text/html": [
       "<div>\n",
       "<style scoped>\n",
       "    .dataframe tbody tr th:only-of-type {\n",
       "        vertical-align: middle;\n",
       "    }\n",
       "\n",
       "    .dataframe tbody tr th {\n",
       "        vertical-align: top;\n",
       "    }\n",
       "\n",
       "    .dataframe thead th {\n",
       "        text-align: right;\n",
       "    }\n",
       "</style>\n",
       "<table border=\"1\" class=\"dataframe\">\n",
       "  <thead>\n",
       "    <tr style=\"text-align: right;\">\n",
       "      <th></th>\n",
       "      <th>reward</th>\n",
       "      <th>difficulty</th>\n",
       "      <th>duration</th>\n",
       "      <th>offer_type</th>\n",
       "      <th>offer_id</th>\n",
       "      <th>email</th>\n",
       "      <th>mobile</th>\n",
       "      <th>web</th>\n",
       "      <th>social</th>\n",
       "    </tr>\n",
       "  </thead>\n",
       "  <tbody>\n",
       "    <tr>\n",
       "      <th>0</th>\n",
       "      <td>10</td>\n",
       "      <td>10</td>\n",
       "      <td>7</td>\n",
       "      <td>bogo</td>\n",
       "      <td>ae264e3637204a6fb9bb56bc8210ddfd</td>\n",
       "      <td>1</td>\n",
       "      <td>1</td>\n",
       "      <td>0</td>\n",
       "      <td>1</td>\n",
       "    </tr>\n",
       "    <tr>\n",
       "      <th>1</th>\n",
       "      <td>10</td>\n",
       "      <td>10</td>\n",
       "      <td>5</td>\n",
       "      <td>bogo</td>\n",
       "      <td>4d5c57ea9a6940dd891ad53e9dbe8da0</td>\n",
       "      <td>1</td>\n",
       "      <td>1</td>\n",
       "      <td>1</td>\n",
       "      <td>1</td>\n",
       "    </tr>\n",
       "    <tr>\n",
       "      <th>2</th>\n",
       "      <td>0</td>\n",
       "      <td>0</td>\n",
       "      <td>4</td>\n",
       "      <td>informational</td>\n",
       "      <td>3f207df678b143eea3cee63160fa8bed</td>\n",
       "      <td>1</td>\n",
       "      <td>1</td>\n",
       "      <td>1</td>\n",
       "      <td>0</td>\n",
       "    </tr>\n",
       "    <tr>\n",
       "      <th>3</th>\n",
       "      <td>5</td>\n",
       "      <td>5</td>\n",
       "      <td>7</td>\n",
       "      <td>bogo</td>\n",
       "      <td>9b98b8c7a33c4b65b9aebfe6a799e6d9</td>\n",
       "      <td>1</td>\n",
       "      <td>1</td>\n",
       "      <td>1</td>\n",
       "      <td>0</td>\n",
       "    </tr>\n",
       "    <tr>\n",
       "      <th>4</th>\n",
       "      <td>5</td>\n",
       "      <td>20</td>\n",
       "      <td>10</td>\n",
       "      <td>discount</td>\n",
       "      <td>0b1e1539f2cc45b7b9fa7c272da2e1d7</td>\n",
       "      <td>1</td>\n",
       "      <td>0</td>\n",
       "      <td>1</td>\n",
       "      <td>0</td>\n",
       "    </tr>\n",
       "  </tbody>\n",
       "</table>\n",
       "</div>"
      ],
      "text/plain": [
       "   reward  difficulty  duration     offer_type  \\\n",
       "0      10          10         7           bogo   \n",
       "1      10          10         5           bogo   \n",
       "2       0           0         4  informational   \n",
       "3       5           5         7           bogo   \n",
       "4       5          20        10       discount   \n",
       "\n",
       "                           offer_id  email  mobile  web  social  \n",
       "0  ae264e3637204a6fb9bb56bc8210ddfd      1       1    0       1  \n",
       "1  4d5c57ea9a6940dd891ad53e9dbe8da0      1       1    1       1  \n",
       "2  3f207df678b143eea3cee63160fa8bed      1       1    1       0  \n",
       "3  9b98b8c7a33c4b65b9aebfe6a799e6d9      1       1    1       0  \n",
       "4  0b1e1539f2cc45b7b9fa7c272da2e1d7      1       0    1       0  "
      ]
     },
     "execution_count": 18,
     "metadata": {},
     "output_type": "execute_result"
    }
   ],
   "source": [
    "final_portfolio = portfolio.drop(columns = ['channels',\n",
    "                                            'offer_id_modified'\n",
    "                                           ])\n",
    "\n",
    "final_portfolio.head()"
   ]
  },
  {
   "cell_type": "code",
   "execution_count": 19,
   "id": "46fb2b9b",
   "metadata": {},
   "outputs": [
    {
     "name": "stdout",
     "output_type": "stream",
     "text": [
      "<class 'pandas.core.frame.DataFrame'>\n",
      "RangeIndex: 10 entries, 0 to 9\n",
      "Data columns (total 9 columns):\n",
      " #   Column      Non-Null Count  Dtype \n",
      "---  ------      --------------  ----- \n",
      " 0   reward      10 non-null     int64 \n",
      " 1   difficulty  10 non-null     int64 \n",
      " 2   duration    10 non-null     int64 \n",
      " 3   offer_type  10 non-null     object\n",
      " 4   offer_id    10 non-null     object\n",
      " 5   email       10 non-null     int64 \n",
      " 6   mobile      10 non-null     int64 \n",
      " 7   web         10 non-null     int64 \n",
      " 8   social      10 non-null     int64 \n",
      "dtypes: int64(7), object(2)\n",
      "memory usage: 848.0+ bytes\n"
     ]
    }
   ],
   "source": [
    "final_portfolio.info()"
   ]
  },
  {
   "cell_type": "markdown",
   "id": "fc1a0206",
   "metadata": {},
   "source": [
    "**Observations:**\n",
    "- channels and offer_type need to be one hot encoded\n",
    "- portfolio['id'] == 'offer_id' in transcript['value'] so I renamed 'id' to 'offer_id'\n",
    "- instead of the string of characters for offer_id I created a column that has a more interpretable offer name like offer_1, offer_2 etc\n",
    "- unnested the list in channels"
   ]
  },
  {
   "cell_type": "markdown",
   "id": "589745b5",
   "metadata": {},
   "source": [
    "# Profile Data\n",
    "\n",
    "17,000 records where each row represents a customer, their gender, age, income, and when they became member of the rewards program."
   ]
  },
  {
   "cell_type": "code",
   "execution_count": 20,
   "id": "e9f5c49e",
   "metadata": {},
   "outputs": [
    {
     "name": "stdout",
     "output_type": "stream",
     "text": [
      "<class 'pandas.core.frame.DataFrame'>\n",
      "RangeIndex: 17000 entries, 0 to 16999\n",
      "Data columns (total 5 columns):\n",
      " #   Column            Non-Null Count  Dtype  \n",
      "---  ------            --------------  -----  \n",
      " 0   gender            14825 non-null  object \n",
      " 1   age               17000 non-null  int64  \n",
      " 2   id                17000 non-null  object \n",
      " 3   became_member_on  17000 non-null  int64  \n",
      " 4   income            14825 non-null  float64\n",
      "dtypes: float64(1), int64(2), object(2)\n",
      "memory usage: 664.2+ KB\n"
     ]
    }
   ],
   "source": [
    "profile.info()"
   ]
  },
  {
   "cell_type": "code",
   "execution_count": 21,
   "id": "ccd4e7dc",
   "metadata": {},
   "outputs": [
    {
     "data": {
      "text/plain": [
       "gender                      object\n",
       "age                          int64\n",
       "id                          object\n",
       "became_member_on    datetime64[ns]\n",
       "income                     float64\n",
       "dtype: object"
      ]
     },
     "execution_count": 21,
     "metadata": {},
     "output_type": "execute_result"
    }
   ],
   "source": [
    "# Convert dates from int to datetime\n",
    "profile['became_member_on'] = pd.to_datetime(profile['became_member_on'], format='%Y%m%d')\n",
    "\n",
    "profile.dtypes"
   ]
  },
  {
   "cell_type": "code",
   "execution_count": 22,
   "id": "0d0c530a",
   "metadata": {},
   "outputs": [
    {
     "data": {
      "text/html": [
       "<div>\n",
       "<style scoped>\n",
       "    .dataframe tbody tr th:only-of-type {\n",
       "        vertical-align: middle;\n",
       "    }\n",
       "\n",
       "    .dataframe tbody tr th {\n",
       "        vertical-align: top;\n",
       "    }\n",
       "\n",
       "    .dataframe thead th {\n",
       "        text-align: right;\n",
       "    }\n",
       "</style>\n",
       "<table border=\"1\" class=\"dataframe\">\n",
       "  <thead>\n",
       "    <tr style=\"text-align: right;\">\n",
       "      <th></th>\n",
       "      <th>gender</th>\n",
       "      <th>age</th>\n",
       "      <th>id</th>\n",
       "      <th>became_member_on</th>\n",
       "      <th>income</th>\n",
       "      <th>year</th>\n",
       "      <th>month</th>\n",
       "      <th>day</th>\n",
       "      <th>membership_days</th>\n",
       "    </tr>\n",
       "  </thead>\n",
       "  <tbody>\n",
       "    <tr>\n",
       "      <th>0</th>\n",
       "      <td>NaN</td>\n",
       "      <td>118</td>\n",
       "      <td>68be06ca386d4c31939f3a4f0e3dd783</td>\n",
       "      <td>2017-02-12</td>\n",
       "      <td>NaN</td>\n",
       "      <td>2017</td>\n",
       "      <td>2</td>\n",
       "      <td>Sunday</td>\n",
       "      <td>1677</td>\n",
       "    </tr>\n",
       "    <tr>\n",
       "      <th>1</th>\n",
       "      <td>F</td>\n",
       "      <td>55</td>\n",
       "      <td>0610b486422d4921ae7d2bf64640c50b</td>\n",
       "      <td>2017-07-15</td>\n",
       "      <td>112000.0</td>\n",
       "      <td>2017</td>\n",
       "      <td>7</td>\n",
       "      <td>Saturday</td>\n",
       "      <td>1524</td>\n",
       "    </tr>\n",
       "    <tr>\n",
       "      <th>2</th>\n",
       "      <td>NaN</td>\n",
       "      <td>118</td>\n",
       "      <td>38fe809add3b4fcf9315a9694bb96ff5</td>\n",
       "      <td>2018-07-12</td>\n",
       "      <td>NaN</td>\n",
       "      <td>2018</td>\n",
       "      <td>7</td>\n",
       "      <td>Thursday</td>\n",
       "      <td>1162</td>\n",
       "    </tr>\n",
       "  </tbody>\n",
       "</table>\n",
       "</div>"
      ],
      "text/plain": [
       "  gender  age                                id became_member_on    income  \\\n",
       "0    NaN  118  68be06ca386d4c31939f3a4f0e3dd783       2017-02-12       NaN   \n",
       "1      F   55  0610b486422d4921ae7d2bf64640c50b       2017-07-15  112000.0   \n",
       "2    NaN  118  38fe809add3b4fcf9315a9694bb96ff5       2018-07-12       NaN   \n",
       "\n",
       "   year  month       day  membership_days  \n",
       "0  2017      2    Sunday             1677  \n",
       "1  2017      7  Saturday             1524  \n",
       "2  2018      7  Thursday             1162  "
      ]
     },
     "execution_count": 22,
     "metadata": {},
     "output_type": "execute_result"
    }
   ],
   "source": [
    "# Breaking up the date from became_member_on to be able to use for EDA\n",
    "# Split out into year, month and day, and calculate total membership_days using today\n",
    "profile['year'] = profile['became_member_on'].dt.year\n",
    "profile['month'] = profile['became_member_on'].dt.month\n",
    "profile['day']=profile['became_member_on'].dt.day_name()\n",
    "profile['membership_days'] = (pd.to_datetime('today') - profile['became_member_on']).astype('timedelta64[D]').astype(int)\n",
    "profile.head(3)"
   ]
  },
  {
   "cell_type": "code",
   "execution_count": 24,
   "id": "29678c01",
   "metadata": {},
   "outputs": [
    {
     "data": {
      "image/png": "[encoded data removed]",
      "text/plain": [
       "<Figure size 720x504 with 1 Axes>"
      ]
     },
     "metadata": {
      "needs_background": "light"
     },
     "output_type": "display_data"
    }
   ],
   "source": [
    "plt.figure(figsize=(10,7))\n",
    "ax = sns.countplot(y=\"year\", data=profile)\n",
    "plt.title('New Membership by Year', size = 18)\n",
    "plt.xlabel('Count', size = 16)\n",
    "plt.yticks(size = 14)\n",
    "plt.ylabel('Year', size = 16)\n",
    "plt.savefig('./images/membership_freq.png');"
   ]
  },
  {
   "cell_type": "markdown",
   "id": "1304f848",
   "metadata": {},
   "source": [
    "2017 at first glance had more membership sign ups for the rewards program than in 2018."
   ]
  },
  {
   "cell_type": "code",
   "execution_count": 25,
   "id": "09e90c43",
   "metadata": {},
   "outputs": [
    {
     "data": {
      "image/png": "[encoded data removed]",
      "text/plain": [
       "<Figure size 720x504 with 1 Axes>"
      ]
     },
     "metadata": {
      "needs_background": "light"
     },
     "output_type": "display_data"
    }
   ],
   "source": [
    "membership_subs = profile[profile['year']>= 2013].groupby(['year','month'], as_index=False).agg({'id':'count'})\n",
    "plt.figure(figsize=(10,7))\n",
    "sns.pointplot(x=\"month\", y=\"id\", hue=\"year\", data = membership_subs, palette = 'rainbow')\n",
    "plt.ylabel('Number of New Members', size = 16)\n",
    "plt.xlabel('Month', size = 16)\n",
    "plt.xticks(size = 14)\n",
    "plt.yticks(size = 14)\n",
    "plt.title('New Memberships by Month and Year', size = 18)\n",
    "plt.savefig('./images/membership_month_year.png');"
   ]
  },
  {
   "cell_type": "markdown",
   "id": "2adb4c57",
   "metadata": {},
   "source": [
    "Data for 2018 & 2013 aren't a full year which is why 2018 might be lower than total new memberships for 2017."
   ]
  },
  {
   "cell_type": "code",
   "execution_count": 25,
   "id": "38dd8f79",
   "metadata": {},
   "outputs": [],
   "source": [
    "# Change month number to name\n",
    "# profile['month'] = profile['month'].apply(lambda x: calendar.month_abbr[x])"
   ]
  },
  {
   "cell_type": "code",
   "execution_count": 28,
   "id": "5c227af7",
   "metadata": {},
   "outputs": [
    {
     "data": {
      "image/png": "[encoded data removed]",
      "text/plain": [
       "<Figure size 720x504 with 1 Axes>"
      ]
     },
     "metadata": {
      "needs_background": "light"
     },
     "output_type": "display_data"
    }
   ],
   "source": [
    "plt.figure(figsize=(10,7))\n",
    "ax = sns.countplot(y = profile['month'])\n",
    "plt.title('New Membership by Month', size = 18)\n",
    "plt.xlabel('Count', size = 16)\n",
    "plt.yticks(size = 14)\n",
    "plt.ylabel('Month', size = 16)\n",
    "plt.savefig('./images/membership_month.png');"
   ]
  },
  {
   "cell_type": "markdown",
   "id": "6d7915ce",
   "metadata": {},
   "source": [
    "August had the most new membership sign ups."
   ]
  },
  {
   "cell_type": "code",
   "execution_count": 33,
   "id": "b00ded49",
   "metadata": {},
   "outputs": [
    {
     "data": {
      "image/png": "[encoded data removed]",
      "text/plain": [
       "<Figure size 720x504 with 1 Axes>"
      ]
     },
     "metadata": {
      "needs_background": "light"
     },
     "output_type": "display_data"
    }
   ],
   "source": [
    "# Number of sign ups each day\n",
    "profile['became_member_on'].value_counts().plot(kind = 'line', figsize = (10,7))\n",
    "plt.xlabel('Date', size = 16)\n",
    "plt.ylabel('Number of New Members', size = 16)\n",
    "plt.title('Number of New Members Over Time', size =18)\n",
    "plt.savefig('./images/membership_timeseries.png');"
   ]
  },
  {
   "cell_type": "markdown",
   "id": "af39f76d",
   "metadata": {},
   "source": [
    "Two big jumps in membership signups, a little over halfway through 2015 and 2017 respectivly. "
   ]
  },
  {
   "cell_type": "code",
   "execution_count": 31,
   "id": "b23fccad",
   "metadata": {},
   "outputs": [
    {
     "data": {
      "text/plain": [
       "M        0.499059\n",
       "F        0.360529\n",
       "Blank    0.127941\n",
       "O        0.012471\n",
       "Name: gender_modified, dtype: float64"
      ]
     },
     "execution_count": 31,
     "metadata": {},
     "output_type": "execute_result"
    }
   ],
   "source": [
    "# Impute NaN genders with 'Blank' \n",
    "# Not filling with 'O' (other) group as it could represent gender nonbinary \n",
    "# which is not the same as customers just leaving that field blank\n",
    "profile['gender_modified'] = profile['gender'].fillna('Blank')\n",
    "\n",
    "profile['gender_modified'].value_counts(normalize = True)"
   ]
  },
  {
   "cell_type": "markdown",
   "id": "fe84c93d",
   "metadata": {},
   "source": [
    "Almost 50% of memberships identify as male, 36% female, 12.7% left gender blank, and 1.2% marked other"
   ]
  },
  {
   "cell_type": "code",
   "execution_count": 34,
   "id": "6d9d7b05",
   "metadata": {},
   "outputs": [
    {
     "data": {
      "image/png": "[encoded data removed]",
      "text/plain": [
       "<Figure size 576x432 with 1 Axes>"
      ]
     },
     "metadata": {
      "needs_background": "light"
     },
     "output_type": "display_data"
    }
   ],
   "source": [
    "plt.figure(figsize = (8,6))\n",
    "sns.countplot(data=profile,x='gender_modified')\n",
    "plt.title('Distribution of Genders', size = 18)\n",
    "plt.ylabel('Count', size = 16)\n",
    "plt.xlabel('Gender', size = 16)\n",
    "plt.yticks(size = 12)\n",
    "plt.savefig('./images/gender_dist.png');"
   ]
  },
  {
   "cell_type": "code",
   "execution_count": 35,
   "id": "143eff4d",
   "metadata": {},
   "outputs": [
    {
     "data": {
      "image/png": "[encoded data removed]",
      "text/plain": [
       "<Figure size 576x432 with 1 Axes>"
      ]
     },
     "metadata": {
      "needs_background": "light"
     },
     "output_type": "display_data"
    }
   ],
   "source": [
    "plt.figure(figsize = (8,6))\n",
    "sns.histplot(data=profile,x='age')\n",
    "plt.title('Distribution of Ages', size = 18)\n",
    "plt.ylabel('Count', size = 16)\n",
    "plt.xlabel('Age', size = 16)\n",
    "plt.yticks(size = 12);"
   ]
  },
  {
   "cell_type": "markdown",
   "id": "be587e25",
   "metadata": {},
   "source": [
    "Pretty significant outlier at 118 years old - these all correspond with the NaNs we saw in the gender column."
   ]
  },
  {
   "cell_type": "code",
   "execution_count": 36,
   "id": "ba9c3467",
   "metadata": {},
   "outputs": [
    {
     "data": {
      "text/plain": [
       "Series([], Name: gender, dtype: int64)"
      ]
     },
     "execution_count": 36,
     "metadata": {},
     "output_type": "execute_result"
    }
   ],
   "source": [
    "# Fix outlier in Age\n",
    "profile[profile['age']==118]['gender'].value_counts()"
   ]
  },
  {
   "cell_type": "code",
   "execution_count": 37,
   "id": "3e95ab4f",
   "metadata": {},
   "outputs": [],
   "source": [
    "# Imputing with random sampling of age to maintain distribution\n",
    "profile['age_modified'] = profile['age'].apply(lambda x: np.random.choice(profile[profile['age'] != 118]['age']) \n",
    "                                               if x == 118 else x)"
   ]
  },
  {
   "cell_type": "code",
   "execution_count": 38,
   "id": "1e1576a4",
   "metadata": {},
   "outputs": [
    {
     "data": {
      "image/png": "[encoded data removed]",
      "text/plain": [
       "<Figure size 576x432 with 1 Axes>"
      ]
     },
     "metadata": {
      "needs_background": "light"
     },
     "output_type": "display_data"
    }
   ],
   "source": [
    "plt.figure(figsize = (8,6))\n",
    "sns.histplot(data=profile,x='age_modified', hue='gender_modified')\n",
    "plt.title('Distribution of Ages After Imputing', size = 18)\n",
    "plt.ylabel('Count', size = 16)\n",
    "plt.xlabel('Age', size = 16)\n",
    "plt.yticks(size = 12)\n",
    "plt.savefig('./images/age_gender_dist.png');"
   ]
  },
  {
   "cell_type": "code",
   "execution_count": 39,
   "id": "438117e6",
   "metadata": {},
   "outputs": [
    {
     "data": {
      "image/png": "[encoded data removed]",
      "text/plain": [
       "<Figure size 576x432 with 1 Axes>"
      ]
     },
     "metadata": {
      "needs_background": "light"
     },
     "output_type": "display_data"
    }
   ],
   "source": [
    "plt.figure(figsize = (8,6))\n",
    "sns.histplot(data=profile,x='income')\n",
    "plt.title('Distribution of Incomes', size = 18)\n",
    "plt.ylabel('Count', size = 16)\n",
    "plt.xlabel('Income', size = 16)\n",
    "plt.yticks(size = 12);"
   ]
  },
  {
   "cell_type": "code",
   "execution_count": 41,
   "id": "f348209f",
   "metadata": {},
   "outputs": [
    {
     "data": {
      "text/plain": [
       "Series([], Name: income, dtype: int64)"
      ]
     },
     "execution_count": 41,
     "metadata": {},
     "output_type": "execute_result"
    }
   ],
   "source": [
    "# Income nulls also correspond with the age outlier and gender NaNs\n",
    "profile[profile['income'].isnull()].groupby('gender').count()['income']"
   ]
  },
  {
   "cell_type": "code",
   "execution_count": 42,
   "id": "d2e9b287",
   "metadata": {},
   "outputs": [],
   "source": [
    "# Impute empty incomes with random sampling of non null values\n",
    "profile['income_modified']= profile['income'].apply(\n",
    "    lambda x: np.random.choice(profile['income'].dropna().values) if np.isnan(x) else x).astype(int)"
   ]
  },
  {
   "cell_type": "code",
   "execution_count": 43,
   "id": "6512a090",
   "metadata": {},
   "outputs": [
    {
     "data": {
      "image/png": "[encoded data removed]",
      "text/plain": [
       "<Figure size 576x432 with 1 Axes>"
      ]
     },
     "metadata": {
      "needs_background": "light"
     },
     "output_type": "display_data"
    }
   ],
   "source": [
    "plt.figure(figsize = (8,6))\n",
    "sns.histplot(data=profile,x='income_modified', hue='gender_modified')\n",
    "plt.title('Distribution of Incomes After Imputing', size = 18)\n",
    "plt.ylabel('Count', size = 16)\n",
    "plt.xlabel('Income', size = 16)\n",
    "plt.yticks(size = 12)\n",
    "plt.savefig('./images/income_gender_dist.png');"
   ]
  },
  {
   "cell_type": "code",
   "execution_count": 44,
   "id": "de0319f4",
   "metadata": {},
   "outputs": [
    {
     "data": {
      "text/html": [
       "<div>\n",
       "<style scoped>\n",
       "    .dataframe tbody tr th:only-of-type {\n",
       "        vertical-align: middle;\n",
       "    }\n",
       "\n",
       "    .dataframe tbody tr th {\n",
       "        vertical-align: top;\n",
       "    }\n",
       "\n",
       "    .dataframe thead th {\n",
       "        text-align: right;\n",
       "    }\n",
       "</style>\n",
       "<table border=\"1\" class=\"dataframe\">\n",
       "  <thead>\n",
       "    <tr style=\"text-align: right;\">\n",
       "      <th></th>\n",
       "      <th>age</th>\n",
       "      <th>income</th>\n",
       "      <th>year</th>\n",
       "      <th>month</th>\n",
       "      <th>membership_days</th>\n",
       "      <th>age_modified</th>\n",
       "      <th>income_modified</th>\n",
       "    </tr>\n",
       "  </thead>\n",
       "  <tbody>\n",
       "    <tr>\n",
       "      <th>count</th>\n",
       "      <td>17000.000000</td>\n",
       "      <td>14825.000000</td>\n",
       "      <td>17000.000000</td>\n",
       "      <td>17000.000000</td>\n",
       "      <td>17000.000000</td>\n",
       "      <td>17000.000000</td>\n",
       "      <td>17000.000000</td>\n",
       "    </tr>\n",
       "    <tr>\n",
       "      <th>mean</th>\n",
       "      <td>62.531412</td>\n",
       "      <td>65404.991568</td>\n",
       "      <td>2016.635000</td>\n",
       "      <td>6.683529</td>\n",
       "      <td>1665.449882</td>\n",
       "      <td>54.420059</td>\n",
       "      <td>65429.411765</td>\n",
       "    </tr>\n",
       "    <tr>\n",
       "      <th>std</th>\n",
       "      <td>26.738580</td>\n",
       "      <td>21598.299410</td>\n",
       "      <td>1.177624</td>\n",
       "      <td>3.487098</td>\n",
       "      <td>411.223904</td>\n",
       "      <td>17.357461</td>\n",
       "      <td>21663.928572</td>\n",
       "    </tr>\n",
       "    <tr>\n",
       "      <th>min</th>\n",
       "      <td>18.000000</td>\n",
       "      <td>30000.000000</td>\n",
       "      <td>2013.000000</td>\n",
       "      <td>1.000000</td>\n",
       "      <td>1148.000000</td>\n",
       "      <td>18.000000</td>\n",
       "      <td>30000.000000</td>\n",
       "    </tr>\n",
       "    <tr>\n",
       "      <th>25%</th>\n",
       "      <td>45.000000</td>\n",
       "      <td>49000.000000</td>\n",
       "      <td>2016.000000</td>\n",
       "      <td>4.000000</td>\n",
       "      <td>1356.000000</td>\n",
       "      <td>43.000000</td>\n",
       "      <td>49000.000000</td>\n",
       "    </tr>\n",
       "    <tr>\n",
       "      <th>50%</th>\n",
       "      <td>58.000000</td>\n",
       "      <td>64000.000000</td>\n",
       "      <td>2017.000000</td>\n",
       "      <td>7.000000</td>\n",
       "      <td>1506.000000</td>\n",
       "      <td>55.000000</td>\n",
       "      <td>64000.000000</td>\n",
       "    </tr>\n",
       "    <tr>\n",
       "      <th>75%</th>\n",
       "      <td>73.000000</td>\n",
       "      <td>80000.000000</td>\n",
       "      <td>2017.000000</td>\n",
       "      <td>10.000000</td>\n",
       "      <td>1939.000000</td>\n",
       "      <td>66.000000</td>\n",
       "      <td>80000.000000</td>\n",
       "    </tr>\n",
       "    <tr>\n",
       "      <th>max</th>\n",
       "      <td>118.000000</td>\n",
       "      <td>120000.000000</td>\n",
       "      <td>2018.000000</td>\n",
       "      <td>12.000000</td>\n",
       "      <td>2971.000000</td>\n",
       "      <td>101.000000</td>\n",
       "      <td>120000.000000</td>\n",
       "    </tr>\n",
       "  </tbody>\n",
       "</table>\n",
       "</div>"
      ],
      "text/plain": [
       "                age         income          year         month  \\\n",
       "count  17000.000000   14825.000000  17000.000000  17000.000000   \n",
       "mean      62.531412   65404.991568   2016.635000      6.683529   \n",
       "std       26.738580   21598.299410      1.177624      3.487098   \n",
       "min       18.000000   30000.000000   2013.000000      1.000000   \n",
       "25%       45.000000   49000.000000   2016.000000      4.000000   \n",
       "50%       58.000000   64000.000000   2017.000000      7.000000   \n",
       "75%       73.000000   80000.000000   2017.000000     10.000000   \n",
       "max      118.000000  120000.000000   2018.000000     12.000000   \n",
       "\n",
       "       membership_days  age_modified  income_modified  \n",
       "count     17000.000000  17000.000000     17000.000000  \n",
       "mean       1665.449882     54.420059     65429.411765  \n",
       "std         411.223904     17.357461     21663.928572  \n",
       "min        1148.000000     18.000000     30000.000000  \n",
       "25%        1356.000000     43.000000     49000.000000  \n",
       "50%        1506.000000     55.000000     64000.000000  \n",
       "75%        1939.000000     66.000000     80000.000000  \n",
       "max        2971.000000    101.000000    120000.000000  "
      ]
     },
     "execution_count": 44,
     "metadata": {},
     "output_type": "execute_result"
    }
   ],
   "source": [
    "profile.describe()"
   ]
  },
  {
   "cell_type": "markdown",
   "id": "c4456e30",
   "metadata": {},
   "source": [
    "Max age is now 101, min age is 18."
   ]
  },
  {
   "cell_type": "code",
   "execution_count": 45,
   "id": "01b38856",
   "metadata": {},
   "outputs": [],
   "source": [
    "final_profile = profile.drop(columns = ['gender', 'age', 'income'])"
   ]
  },
  {
   "cell_type": "code",
   "execution_count": 46,
   "id": "f8675bce",
   "metadata": {},
   "outputs": [
    {
     "data": {
      "text/html": [
       "<div>\n",
       "<style scoped>\n",
       "    .dataframe tbody tr th:only-of-type {\n",
       "        vertical-align: middle;\n",
       "    }\n",
       "\n",
       "    .dataframe tbody tr th {\n",
       "        vertical-align: top;\n",
       "    }\n",
       "\n",
       "    .dataframe thead th {\n",
       "        text-align: right;\n",
       "    }\n",
       "</style>\n",
       "<table border=\"1\" class=\"dataframe\">\n",
       "  <thead>\n",
       "    <tr style=\"text-align: right;\">\n",
       "      <th></th>\n",
       "      <th>customer_id</th>\n",
       "      <th>became_member_on</th>\n",
       "      <th>year</th>\n",
       "      <th>month</th>\n",
       "      <th>day</th>\n",
       "      <th>membership_days</th>\n",
       "      <th>gender</th>\n",
       "      <th>age</th>\n",
       "      <th>income</th>\n",
       "    </tr>\n",
       "  </thead>\n",
       "  <tbody>\n",
       "    <tr>\n",
       "      <th>0</th>\n",
       "      <td>68be06ca386d4c31939f3a4f0e3dd783</td>\n",
       "      <td>2017-02-12</td>\n",
       "      <td>2017</td>\n",
       "      <td>2</td>\n",
       "      <td>Sunday</td>\n",
       "      <td>1677</td>\n",
       "      <td>Blank</td>\n",
       "      <td>42</td>\n",
       "      <td>42000</td>\n",
       "    </tr>\n",
       "    <tr>\n",
       "      <th>1</th>\n",
       "      <td>0610b486422d4921ae7d2bf64640c50b</td>\n",
       "      <td>2017-07-15</td>\n",
       "      <td>2017</td>\n",
       "      <td>7</td>\n",
       "      <td>Saturday</td>\n",
       "      <td>1524</td>\n",
       "      <td>F</td>\n",
       "      <td>55</td>\n",
       "      <td>112000</td>\n",
       "    </tr>\n",
       "    <tr>\n",
       "      <th>2</th>\n",
       "      <td>38fe809add3b4fcf9315a9694bb96ff5</td>\n",
       "      <td>2018-07-12</td>\n",
       "      <td>2018</td>\n",
       "      <td>7</td>\n",
       "      <td>Thursday</td>\n",
       "      <td>1162</td>\n",
       "      <td>Blank</td>\n",
       "      <td>58</td>\n",
       "      <td>43000</td>\n",
       "    </tr>\n",
       "    <tr>\n",
       "      <th>3</th>\n",
       "      <td>78afa995795e4d85b5d9ceeca43f5fef</td>\n",
       "      <td>2017-05-09</td>\n",
       "      <td>2017</td>\n",
       "      <td>5</td>\n",
       "      <td>Tuesday</td>\n",
       "      <td>1591</td>\n",
       "      <td>F</td>\n",
       "      <td>75</td>\n",
       "      <td>100000</td>\n",
       "    </tr>\n",
       "    <tr>\n",
       "      <th>4</th>\n",
       "      <td>a03223e636434f42ac4c3df47e8bac43</td>\n",
       "      <td>2017-08-04</td>\n",
       "      <td>2017</td>\n",
       "      <td>8</td>\n",
       "      <td>Friday</td>\n",
       "      <td>1504</td>\n",
       "      <td>Blank</td>\n",
       "      <td>27</td>\n",
       "      <td>108000</td>\n",
       "    </tr>\n",
       "  </tbody>\n",
       "</table>\n",
       "</div>"
      ],
      "text/plain": [
       "                        customer_id became_member_on  year  month       day  \\\n",
       "0  68be06ca386d4c31939f3a4f0e3dd783       2017-02-12  2017      2    Sunday   \n",
       "1  0610b486422d4921ae7d2bf64640c50b       2017-07-15  2017      7  Saturday   \n",
       "2  38fe809add3b4fcf9315a9694bb96ff5       2018-07-12  2018      7  Thursday   \n",
       "3  78afa995795e4d85b5d9ceeca43f5fef       2017-05-09  2017      5   Tuesday   \n",
       "4  a03223e636434f42ac4c3df47e8bac43       2017-08-04  2017      8    Friday   \n",
       "\n",
       "   membership_days gender  age  income  \n",
       "0             1677  Blank   42   42000  \n",
       "1             1524      F   55  112000  \n",
       "2             1162  Blank   58   43000  \n",
       "3             1591      F   75  100000  \n",
       "4             1504  Blank   27  108000  "
      ]
     },
     "execution_count": 46,
     "metadata": {},
     "output_type": "execute_result"
    }
   ],
   "source": [
    "# Rename 'id' to 'customer_id' and other modified columns just for more clarity\n",
    "final_profile.rename(columns={'id': 'customer_id', \n",
    "                        'gender_modified': 'gender',\n",
    "                        'age_modified': 'age',\n",
    "                        'income_modified': 'income'}, inplace=True)\n",
    "final_profile.head()"
   ]
  },
  {
   "cell_type": "code",
   "execution_count": 47,
   "id": "8b71085a",
   "metadata": {},
   "outputs": [
    {
     "data": {
      "text/plain": [
       "True"
      ]
     },
     "execution_count": 47,
     "metadata": {},
     "output_type": "execute_result"
    }
   ],
   "source": [
    "# Make sure there aren't any duplicate customer profiles(rows)\n",
    "len(np.unique(final_profile['customer_id'])) == len(final_profile)"
   ]
  },
  {
   "cell_type": "code",
   "execution_count": 48,
   "id": "3c4a56ac",
   "metadata": {},
   "outputs": [
    {
     "data": {
      "image/png": "[encoded data removed]",
      "text/plain": [
       "<Figure size 720x504 with 1 Axes>"
      ]
     },
     "metadata": {
      "needs_background": "light"
     },
     "output_type": "display_data"
    }
   ],
   "source": [
    "mean_income = final_profile['income'].mean()\n",
    "gender_income = final_profile.groupby('gender', as_index=False).agg({'income':'mean'})\n",
    "gender_income.plot(kind = 'bar', x = 'gender', y = 'income', legend=False, figsize=(10,7))\n",
    "plt.hlines(mean_income, -100 , 1000)\n",
    "plt.ylabel('Income', size = 16)\n",
    "plt.xlabel('Gender', size = 16)\n",
    "plt.title('Average Income vs. Gender', size = 18)\n",
    "plt.xticks(rotation = 0, size = 14)\n",
    "plt.yticks(size = 14)\n",
    "plt.text(1, mean_income + 1000, 'Overall Average Income')\n",
    "plt.savefig('./images/income_gender.png');"
   ]
  },
  {
   "cell_type": "markdown",
   "id": "7ecdc17d",
   "metadata": {},
   "source": [
    "**Observations:**\n",
    "- 'became_member_on' changed to a datetime data type\n",
    "- 'age' had 2175 outliers of age 118. These were all from the NaN gender group and NaN incomes- imputed using the avg age of the 'O' gender group\n",
    "- 'gender' had 2175 NaNs I imputed with the 'O' group\n",
    "- 'income' also had 2175 NaNs so I imputed using the avg income of the 'O' gender group\n",
    "- profile['id'] == transcript['person']\n",
    "- Need to one hot encode 'gender', 'year', 'month', 'day'\n",
    "- The majority of customers in the dataset are male.\n",
    "- Data for 2018 isn't a full year which is why it's lower than total new memberships for 2017."
   ]
  },
  {
   "cell_type": "markdown",
   "id": "e7d76c78",
   "metadata": {},
   "source": [
    "# Transcript Data\n",
    "Records show the different statuses of the promotional offers that a customer received, for example offer_received, offer_viewed, offer_completed in addition to the transactions for each customer. "
   ]
  },
  {
   "cell_type": "code",
   "execution_count": 49,
   "id": "d3ca7d43",
   "metadata": {},
   "outputs": [
    {
     "name": "stdout",
     "output_type": "stream",
     "text": [
      "<class 'pandas.core.frame.DataFrame'>\n",
      "RangeIndex: 306534 entries, 0 to 306533\n",
      "Data columns (total 4 columns):\n",
      " #   Column  Non-Null Count   Dtype \n",
      "---  ------  --------------   ----- \n",
      " 0   person  306534 non-null  object\n",
      " 1   event   306534 non-null  object\n",
      " 2   value   306534 non-null  object\n",
      " 3   time    306534 non-null  int64 \n",
      "dtypes: int64(1), object(3)\n",
      "memory usage: 9.4+ MB\n"
     ]
    }
   ],
   "source": [
    "transcript.info()"
   ]
  },
  {
   "cell_type": "code",
   "execution_count": 50,
   "id": "d326e778",
   "metadata": {},
   "outputs": [
    {
     "data": {
      "text/html": [
       "<div>\n",
       "<style scoped>\n",
       "    .dataframe tbody tr th:only-of-type {\n",
       "        vertical-align: middle;\n",
       "    }\n",
       "\n",
       "    .dataframe tbody tr th {\n",
       "        vertical-align: top;\n",
       "    }\n",
       "\n",
       "    .dataframe thead th {\n",
       "        text-align: right;\n",
       "    }\n",
       "</style>\n",
       "<table border=\"1\" class=\"dataframe\">\n",
       "  <thead>\n",
       "    <tr style=\"text-align: right;\">\n",
       "      <th></th>\n",
       "      <th>person</th>\n",
       "      <th>event</th>\n",
       "      <th>value</th>\n",
       "      <th>time</th>\n",
       "    </tr>\n",
       "  </thead>\n",
       "  <tbody>\n",
       "    <tr>\n",
       "      <th>0</th>\n",
       "      <td>78afa995795e4d85b5d9ceeca43f5fef</td>\n",
       "      <td>offer received</td>\n",
       "      <td>{'offer id': '9b98b8c7a33c4b65b9aebfe6a799e6d9'}</td>\n",
       "      <td>0</td>\n",
       "    </tr>\n",
       "    <tr>\n",
       "      <th>1</th>\n",
       "      <td>a03223e636434f42ac4c3df47e8bac43</td>\n",
       "      <td>offer received</td>\n",
       "      <td>{'offer id': '0b1e1539f2cc45b7b9fa7c272da2e1d7'}</td>\n",
       "      <td>0</td>\n",
       "    </tr>\n",
       "    <tr>\n",
       "      <th>2</th>\n",
       "      <td>e2127556f4f64592b11af22de27a7932</td>\n",
       "      <td>offer received</td>\n",
       "      <td>{'offer id': '2906b810c7d4411798c6938adc9daaa5'}</td>\n",
       "      <td>0</td>\n",
       "    </tr>\n",
       "    <tr>\n",
       "      <th>3</th>\n",
       "      <td>8ec6ce2a7e7949b1bf142def7d0e0586</td>\n",
       "      <td>offer received</td>\n",
       "      <td>{'offer id': 'fafdcd668e3743c1bb461111dcafc2a4'}</td>\n",
       "      <td>0</td>\n",
       "    </tr>\n",
       "    <tr>\n",
       "      <th>4</th>\n",
       "      <td>68617ca6246f4fbc85e91a2a49552598</td>\n",
       "      <td>offer received</td>\n",
       "      <td>{'offer id': '4d5c57ea9a6940dd891ad53e9dbe8da0'}</td>\n",
       "      <td>0</td>\n",
       "    </tr>\n",
       "  </tbody>\n",
       "</table>\n",
       "</div>"
      ],
      "text/plain": [
       "                             person           event  \\\n",
       "0  78afa995795e4d85b5d9ceeca43f5fef  offer received   \n",
       "1  a03223e636434f42ac4c3df47e8bac43  offer received   \n",
       "2  e2127556f4f64592b11af22de27a7932  offer received   \n",
       "3  8ec6ce2a7e7949b1bf142def7d0e0586  offer received   \n",
       "4  68617ca6246f4fbc85e91a2a49552598  offer received   \n",
       "\n",
       "                                              value  time  \n",
       "0  {'offer id': '9b98b8c7a33c4b65b9aebfe6a799e6d9'}     0  \n",
       "1  {'offer id': '0b1e1539f2cc45b7b9fa7c272da2e1d7'}     0  \n",
       "2  {'offer id': '2906b810c7d4411798c6938adc9daaa5'}     0  \n",
       "3  {'offer id': 'fafdcd668e3743c1bb461111dcafc2a4'}     0  \n",
       "4  {'offer id': '4d5c57ea9a6940dd891ad53e9dbe8da0'}     0  "
      ]
     },
     "execution_count": 50,
     "metadata": {},
     "output_type": "execute_result"
    }
   ],
   "source": [
    "transcript.head()"
   ]
  },
  {
   "cell_type": "code",
   "execution_count": 51,
   "id": "ef0b2f8d",
   "metadata": {},
   "outputs": [
    {
     "data": {
      "text/html": [
       "<div>\n",
       "<style scoped>\n",
       "    .dataframe tbody tr th:only-of-type {\n",
       "        vertical-align: middle;\n",
       "    }\n",
       "\n",
       "    .dataframe tbody tr th {\n",
       "        vertical-align: top;\n",
       "    }\n",
       "\n",
       "    .dataframe thead th {\n",
       "        text-align: right;\n",
       "    }\n",
       "</style>\n",
       "<table border=\"1\" class=\"dataframe\">\n",
       "  <thead>\n",
       "    <tr style=\"text-align: right;\">\n",
       "      <th></th>\n",
       "      <th>person</th>\n",
       "      <th>event</th>\n",
       "      <th>value</th>\n",
       "      <th>time</th>\n",
       "    </tr>\n",
       "  </thead>\n",
       "  <tbody>\n",
       "    <tr>\n",
       "      <th>306529</th>\n",
       "      <td>b3a1272bc9904337b331bf348c3e8c17</td>\n",
       "      <td>transaction</td>\n",
       "      <td>{'amount': 1.5899999999999999}</td>\n",
       "      <td>714</td>\n",
       "    </tr>\n",
       "    <tr>\n",
       "      <th>306530</th>\n",
       "      <td>68213b08d99a4ae1b0dcb72aebd9aa35</td>\n",
       "      <td>transaction</td>\n",
       "      <td>{'amount': 9.53}</td>\n",
       "      <td>714</td>\n",
       "    </tr>\n",
       "    <tr>\n",
       "      <th>306531</th>\n",
       "      <td>a00058cf10334a308c68e7631c529907</td>\n",
       "      <td>transaction</td>\n",
       "      <td>{'amount': 3.61}</td>\n",
       "      <td>714</td>\n",
       "    </tr>\n",
       "    <tr>\n",
       "      <th>306532</th>\n",
       "      <td>76ddbd6576844afe811f1a3c0fbb5bec</td>\n",
       "      <td>transaction</td>\n",
       "      <td>{'amount': 3.5300000000000002}</td>\n",
       "      <td>714</td>\n",
       "    </tr>\n",
       "    <tr>\n",
       "      <th>306533</th>\n",
       "      <td>c02b10e8752c4d8e9b73f918558531f7</td>\n",
       "      <td>transaction</td>\n",
       "      <td>{'amount': 4.05}</td>\n",
       "      <td>714</td>\n",
       "    </tr>\n",
       "  </tbody>\n",
       "</table>\n",
       "</div>"
      ],
      "text/plain": [
       "                                  person        event  \\\n",
       "306529  b3a1272bc9904337b331bf348c3e8c17  transaction   \n",
       "306530  68213b08d99a4ae1b0dcb72aebd9aa35  transaction   \n",
       "306531  a00058cf10334a308c68e7631c529907  transaction   \n",
       "306532  76ddbd6576844afe811f1a3c0fbb5bec  transaction   \n",
       "306533  c02b10e8752c4d8e9b73f918558531f7  transaction   \n",
       "\n",
       "                                 value  time  \n",
       "306529  {'amount': 1.5899999999999999}   714  \n",
       "306530                {'amount': 9.53}   714  \n",
       "306531                {'amount': 3.61}   714  \n",
       "306532  {'amount': 3.5300000000000002}   714  \n",
       "306533                {'amount': 4.05}   714  "
      ]
     },
     "execution_count": 51,
     "metadata": {},
     "output_type": "execute_result"
    }
   ],
   "source": [
    "transcript.tail()"
   ]
  },
  {
   "cell_type": "markdown",
   "id": "7292bddc",
   "metadata": {},
   "source": [
    "Transactions and offers in this datatset."
   ]
  },
  {
   "cell_type": "code",
   "execution_count": 52,
   "id": "c2b24815",
   "metadata": {},
   "outputs": [
    {
     "data": {
      "text/plain": [
       "transaction        0.453304\n",
       "offer received     0.248837\n",
       "offer viewed       0.188315\n",
       "offer completed    0.109544\n",
       "Name: event, dtype: float64"
      ]
     },
     "execution_count": 52,
     "metadata": {},
     "output_type": "execute_result"
    }
   ],
   "source": [
    "transcript['event'].value_counts(normalize=True)"
   ]
  },
  {
   "cell_type": "code",
   "execution_count": 53,
   "id": "30230404",
   "metadata": {},
   "outputs": [],
   "source": [
    "# transcript['person'] == profile['id']\n",
    "# Change column name from 'person' to 'id' in order to merge the dataframes later\n",
    "transcript.rename(columns={'person':'customer_id'}, inplace=True)"
   ]
  },
  {
   "cell_type": "code",
   "execution_count": 54,
   "id": "c3be13a2",
   "metadata": {},
   "outputs": [
    {
     "data": {
      "text/plain": [
       "0    <class 'str'>\n",
       "1    <class 'str'>\n",
       "2    <class 'str'>\n",
       "3    <class 'str'>\n",
       "4    <class 'str'>\n",
       "Name: value, dtype: object"
      ]
     },
     "execution_count": 54,
     "metadata": {},
     "output_type": "execute_result"
    }
   ],
   "source": [
    "# Kept getting error below because 'value' is being read as a string not dictionary\n",
    "transcript['value'].apply(type).head()"
   ]
  },
  {
   "cell_type": "code",
   "execution_count": 55,
   "id": "fdcceab3",
   "metadata": {},
   "outputs": [
    {
     "data": {
      "text/html": [
       "<div>\n",
       "<style scoped>\n",
       "    .dataframe tbody tr th:only-of-type {\n",
       "        vertical-align: middle;\n",
       "    }\n",
       "\n",
       "    .dataframe tbody tr th {\n",
       "        vertical-align: top;\n",
       "    }\n",
       "\n",
       "    .dataframe thead th {\n",
       "        text-align: right;\n",
       "    }\n",
       "</style>\n",
       "<table border=\"1\" class=\"dataframe\">\n",
       "  <thead>\n",
       "    <tr style=\"text-align: right;\">\n",
       "      <th></th>\n",
       "      <th>customer_id</th>\n",
       "      <th>event</th>\n",
       "      <th>value</th>\n",
       "      <th>time</th>\n",
       "      <th>value_type</th>\n",
       "    </tr>\n",
       "  </thead>\n",
       "  <tbody>\n",
       "    <tr>\n",
       "      <th>306529</th>\n",
       "      <td>b3a1272bc9904337b331bf348c3e8c17</td>\n",
       "      <td>transaction</td>\n",
       "      <td>1.59</td>\n",
       "      <td>714</td>\n",
       "      <td>amount</td>\n",
       "    </tr>\n",
       "    <tr>\n",
       "      <th>306530</th>\n",
       "      <td>68213b08d99a4ae1b0dcb72aebd9aa35</td>\n",
       "      <td>transaction</td>\n",
       "      <td>9.53</td>\n",
       "      <td>714</td>\n",
       "      <td>amount</td>\n",
       "    </tr>\n",
       "    <tr>\n",
       "      <th>306531</th>\n",
       "      <td>a00058cf10334a308c68e7631c529907</td>\n",
       "      <td>transaction</td>\n",
       "      <td>3.61</td>\n",
       "      <td>714</td>\n",
       "      <td>amount</td>\n",
       "    </tr>\n",
       "    <tr>\n",
       "      <th>306532</th>\n",
       "      <td>76ddbd6576844afe811f1a3c0fbb5bec</td>\n",
       "      <td>transaction</td>\n",
       "      <td>3.53</td>\n",
       "      <td>714</td>\n",
       "      <td>amount</td>\n",
       "    </tr>\n",
       "    <tr>\n",
       "      <th>306533</th>\n",
       "      <td>c02b10e8752c4d8e9b73f918558531f7</td>\n",
       "      <td>transaction</td>\n",
       "      <td>4.05</td>\n",
       "      <td>714</td>\n",
       "      <td>amount</td>\n",
       "    </tr>\n",
       "  </tbody>\n",
       "</table>\n",
       "</div>"
      ],
      "text/plain": [
       "                             customer_id        event value  time value_type\n",
       "306529  b3a1272bc9904337b331bf348c3e8c17  transaction  1.59   714     amount\n",
       "306530  68213b08d99a4ae1b0dcb72aebd9aa35  transaction  9.53   714     amount\n",
       "306531  a00058cf10334a308c68e7631c529907  transaction  3.61   714     amount\n",
       "306532  76ddbd6576844afe811f1a3c0fbb5bec  transaction  3.53   714     amount\n",
       "306533  c02b10e8752c4d8e9b73f918558531f7  transaction  4.05   714     amount"
      ]
     },
     "execution_count": 55,
     "metadata": {},
     "output_type": "execute_result"
    }
   ],
   "source": [
    "# Reference: https://stackoverflow.com/questions/39169718/convert-string-to-dict-then-access-keyvalues-how-to-access-data-in-a-class\n",
    "transcript['value'] = transcript['value'].astype('str')\n",
    "transcript['value'] = transcript['value'].apply(lambda x: ast.literal_eval(x))\n",
    "transcript = transcript.apply(pd.Series)\n",
    "\n",
    "# Extract out just the actual 'offer_id' and 'amount' from 'value' column\n",
    "transcript['value_type'] = transcript['value'].map(lambda x: list(x.keys())[0])\n",
    "transcript['value'] = transcript['value'].map(lambda x: list(x.values())[0])\n",
    "transcript.tail()"
   ]
  },
  {
   "cell_type": "code",
   "execution_count": 56,
   "id": "3e1aad27",
   "metadata": {},
   "outputs": [
    {
     "data": {
      "text/html": [
       "<div>\n",
       "<style scoped>\n",
       "    .dataframe tbody tr th:only-of-type {\n",
       "        vertical-align: middle;\n",
       "    }\n",
       "\n",
       "    .dataframe tbody tr th {\n",
       "        vertical-align: top;\n",
       "    }\n",
       "\n",
       "    .dataframe thead th {\n",
       "        text-align: right;\n",
       "    }\n",
       "</style>\n",
       "<table border=\"1\" class=\"dataframe\">\n",
       "  <thead>\n",
       "    <tr style=\"text-align: right;\">\n",
       "      <th></th>\n",
       "      <th>customer_id</th>\n",
       "      <th>event</th>\n",
       "      <th>value</th>\n",
       "      <th>time</th>\n",
       "      <th>value_type</th>\n",
       "    </tr>\n",
       "  </thead>\n",
       "  <tbody>\n",
       "    <tr>\n",
       "      <th>0</th>\n",
       "      <td>78afa995795e4d85b5d9ceeca43f5fef</td>\n",
       "      <td>offer received</td>\n",
       "      <td>9b98b8c7a33c4b65b9aebfe6a799e6d9</td>\n",
       "      <td>0</td>\n",
       "      <td>offer id</td>\n",
       "    </tr>\n",
       "    <tr>\n",
       "      <th>1</th>\n",
       "      <td>a03223e636434f42ac4c3df47e8bac43</td>\n",
       "      <td>offer received</td>\n",
       "      <td>0b1e1539f2cc45b7b9fa7c272da2e1d7</td>\n",
       "      <td>0</td>\n",
       "      <td>offer id</td>\n",
       "    </tr>\n",
       "    <tr>\n",
       "      <th>2</th>\n",
       "      <td>e2127556f4f64592b11af22de27a7932</td>\n",
       "      <td>offer received</td>\n",
       "      <td>2906b810c7d4411798c6938adc9daaa5</td>\n",
       "      <td>0</td>\n",
       "      <td>offer id</td>\n",
       "    </tr>\n",
       "    <tr>\n",
       "      <th>3</th>\n",
       "      <td>8ec6ce2a7e7949b1bf142def7d0e0586</td>\n",
       "      <td>offer received</td>\n",
       "      <td>fafdcd668e3743c1bb461111dcafc2a4</td>\n",
       "      <td>0</td>\n",
       "      <td>offer id</td>\n",
       "    </tr>\n",
       "    <tr>\n",
       "      <th>4</th>\n",
       "      <td>68617ca6246f4fbc85e91a2a49552598</td>\n",
       "      <td>offer received</td>\n",
       "      <td>4d5c57ea9a6940dd891ad53e9dbe8da0</td>\n",
       "      <td>0</td>\n",
       "      <td>offer id</td>\n",
       "    </tr>\n",
       "  </tbody>\n",
       "</table>\n",
       "</div>"
      ],
      "text/plain": [
       "                        customer_id           event  \\\n",
       "0  78afa995795e4d85b5d9ceeca43f5fef  offer received   \n",
       "1  a03223e636434f42ac4c3df47e8bac43  offer received   \n",
       "2  e2127556f4f64592b11af22de27a7932  offer received   \n",
       "3  8ec6ce2a7e7949b1bf142def7d0e0586  offer received   \n",
       "4  68617ca6246f4fbc85e91a2a49552598  offer received   \n",
       "\n",
       "                              value  time value_type  \n",
       "0  9b98b8c7a33c4b65b9aebfe6a799e6d9     0   offer id  \n",
       "1  0b1e1539f2cc45b7b9fa7c272da2e1d7     0   offer id  \n",
       "2  2906b810c7d4411798c6938adc9daaa5     0   offer id  \n",
       "3  fafdcd668e3743c1bb461111dcafc2a4     0   offer id  \n",
       "4  4d5c57ea9a6940dd891ad53e9dbe8da0     0   offer id  "
      ]
     },
     "execution_count": 56,
     "metadata": {},
     "output_type": "execute_result"
    }
   ],
   "source": [
    "transcript.head()"
   ]
  },
  {
   "cell_type": "markdown",
   "id": "63c1c687",
   "metadata": {},
   "source": [
    "'value' now either has the transaction amount or the offer_id"
   ]
  },
  {
   "cell_type": "markdown",
   "id": "bcc8bf6f",
   "metadata": {},
   "source": [
    "### Split out transactions from offers originally\n",
    "Keeping in case I want to use this for EDA later"
   ]
  },
  {
   "cell_type": "code",
   "execution_count": 53,
   "id": "ec0fe91c",
   "metadata": {},
   "outputs": [],
   "source": [
    "# Simplify the offer id to match the portfolio['offer_id_modified']\n",
    "\n",
    "# if transcript['value_type']=='offer id':\n",
    "#     transcript['value'] = transcript['value'].replace({'ae264e3637204a6fb9bb56bc8210ddfd': 'offer_1', \n",
    "#                                                            '4d5c57ea9a6940dd891ad53e9dbe8da0': 'offer_2',\n",
    "#                                                            '3f207df678b143eea3cee63160fa8bed': 'offer_3',\n",
    "#                                                            '9b98b8c7a33c4b65b9aebfe6a799e6d9': 'offer_4',\n",
    "#                                                            '0b1e1539f2cc45b7b9fa7c272da2e1d7': 'offer_5',\n",
    "#                                                            '2298d6c36e964ae4a3e7e9706d1fb8c2': 'offer_6',\n",
    "#                                                            'fafdcd668e3743c1bb461111dcafc2a4': 'offer_7',\n",
    "#                                                            '5a8bc65990b245e5a138643cd4eb9837': 'offer_8',\n",
    "#                                                            'f19421c1d4aa40978ebb69ca19b0e20d': 'offer_9',\n",
    "#                                                            '2906b810c7d4411798c6938adc9daaa5': 'offer_10'})\n",
    "# else:\n",
    "#     transcript['value'] = transcript['value']"
   ]
  },
  {
   "cell_type": "code",
   "execution_count": 55,
   "id": "a6905df3",
   "metadata": {},
   "outputs": [],
   "source": [
    "# # Used to extract out just the actual 'offer_id' and 'amount' from 'value' column as separate dfs\n",
    "# transaction = transcript.loc[transcript['event'] == 'transaction']\n",
    "# offer = transcript.loc[transcript['event'] != 'transaction']\n",
    "\n",
    "# pattern = re.compile('[\\d]+.[\\d]+')\n",
    "# transaction['value'] = transaction['value'].apply(pattern.findall).str.get(0)\n",
    "# transaction.rename(columns={'value': 'amount'}, inplace=True)\n",
    "# transaction = transaction.astype(dtype={'amount': 'float'})\n",
    "\n",
    "# pattern2 = re.compile('[\\w]+[\\w]+')\n",
    "# offer['value'] = offer['value'].apply(pattern2.findall).str.get(2)\n",
    "# offer.rename(columns={'value': 'offer id'}, inplace=True)\n",
    "# offer = offer.astype(dtype={'offer id': 'object'})\n",
    "\n",
    "# # Simplify the offer id to match the portfolio['offer_id_modified']\n",
    "# offer['offer_id_modified'] = offer['offer id'].replace({'ae264e3637204a6fb9bb56bc8210ddfd': 'offer_1', \n",
    "#                                                                '4d5c57ea9a6940dd891ad53e9dbe8da0': 'offer_2',\n",
    "#                                                                '3f207df678b143eea3cee63160fa8bed': 'offer_3',\n",
    "#                                                                '9b98b8c7a33c4b65b9aebfe6a799e6d9': 'offer_4',\n",
    "#                                                                '0b1e1539f2cc45b7b9fa7c272da2e1d7': 'offer_5',\n",
    "#                                                                '2298d6c36e964ae4a3e7e9706d1fb8c2': 'offer_6',\n",
    "#                                                                'fafdcd668e3743c1bb461111dcafc2a4': 'offer_7',\n",
    "#                                                                '5a8bc65990b245e5a138643cd4eb9837': 'offer_8',\n",
    "#                                                                'f19421c1d4aa40978ebb69ca19b0e20d': 'offer_9',\n",
    "#                                                                '2906b810c7d4411798c6938adc9daaa5': 'offer_10'})\n",
    "# #offer['offer_id_modified'].unique()\n",
    "# offer = offer.drop(columns =['offer id'])\n",
    "# offer.head()"
   ]
  },
  {
   "cell_type": "markdown",
   "id": "b16f6da1",
   "metadata": {},
   "source": [
    "**Observations:**\n",
    "- 'time' convert to days possibly?\n",
    "- transcript['person'] == profile['customer_id']\n",
    "- 'offer_id' in transcript['value'] == portfolio['offer_id']\n",
    "- 'value' is a dict of strings - either an offer id or transaction amount depending on the record. From 'value' extracted out just the actual 'offer_id' and 'amount'\n",
    "- Need to one hot encode 'event', 'offer_id_modified'\n",
    "- The offer_id can have the offer_recieved, offer_reviewed, and the offer_compelted."
   ]
  },
  {
   "cell_type": "markdown",
   "id": "c6b8b224",
   "metadata": {},
   "source": [
    "# Merge Datasets\n",
    "Merge dataframes so that we have each customer with all of their personal demographics, transactional aggregates, and promotional aggregates. "
   ]
  },
  {
   "cell_type": "code",
   "execution_count": 58,
   "id": "e1fa75fa",
   "metadata": {},
   "outputs": [
    {
     "data": {
      "text/plain": [
       "((10, 9), (17000, 9), (306534, 5))"
      ]
     },
     "execution_count": 58,
     "metadata": {},
     "output_type": "execute_result"
    }
   ],
   "source": [
    "final_portfolio.shape, final_profile.shape, transcript.shape\n",
    "\n",
    "#offer.shape, transaction.shape"
   ]
  },
  {
   "cell_type": "code",
   "execution_count": 59,
   "id": "5200d9e4",
   "metadata": {},
   "outputs": [
    {
     "data": {
      "text/plain": [
       "(Index(['reward', 'difficulty', 'duration', 'offer_type', 'offer_id', 'email',\n",
       "        'mobile', 'web', 'social'],\n",
       "       dtype='object'),\n",
       " Index(['customer_id', 'became_member_on', 'year', 'month', 'day',\n",
       "        'membership_days', 'gender', 'age', 'income'],\n",
       "       dtype='object'),\n",
       " Index(['customer_id', 'event', 'value', 'time', 'value_type'], dtype='object'))"
      ]
     },
     "execution_count": 59,
     "metadata": {},
     "output_type": "execute_result"
    }
   ],
   "source": [
    "final_portfolio.columns, final_profile.columns, transcript.columns"
   ]
  },
  {
   "cell_type": "markdown",
   "id": "de31553b",
   "metadata": {},
   "source": [
    "### Merge Same Offer Received & Completed Combos"
   ]
  },
  {
   "cell_type": "code",
   "execution_count": 91,
   "id": "ad273d7c",
   "metadata": {},
   "outputs": [
    {
     "data": {
      "text/html": [
       "<div>\n",
       "<style scoped>\n",
       "    .dataframe tbody tr th:only-of-type {\n",
       "        vertical-align: middle;\n",
       "    }\n",
       "\n",
       "    .dataframe tbody tr th {\n",
       "        vertical-align: top;\n",
       "    }\n",
       "\n",
       "    .dataframe thead th {\n",
       "        text-align: right;\n",
       "    }\n",
       "</style>\n",
       "<table border=\"1\" class=\"dataframe\">\n",
       "  <thead>\n",
       "    <tr style=\"text-align: right;\">\n",
       "      <th></th>\n",
       "      <th>customer_id</th>\n",
       "      <th>event_x</th>\n",
       "      <th>value</th>\n",
       "      <th>time_x</th>\n",
       "      <th>value_type_x</th>\n",
       "      <th>event_y</th>\n",
       "      <th>time_y</th>\n",
       "      <th>value_type_y</th>\n",
       "    </tr>\n",
       "  </thead>\n",
       "  <tbody>\n",
       "    <tr>\n",
       "      <th>86427</th>\n",
       "      <td>d087c473b4d247ccb0abfef59ba12b0e</td>\n",
       "      <td>offer received</td>\n",
       "      <td>ae264e3637204a6fb9bb56bc8210ddfd</td>\n",
       "      <td>576.0</td>\n",
       "      <td>offer id</td>\n",
       "      <td>offer completed</td>\n",
       "      <td>636.0</td>\n",
       "      <td>offer_id</td>\n",
       "    </tr>\n",
       "    <tr>\n",
       "      <th>86428</th>\n",
       "      <td>cb23b66c56f64b109d673d5e56574529</td>\n",
       "      <td>offer received</td>\n",
       "      <td>2906b810c7d4411798c6938adc9daaa5</td>\n",
       "      <td>576.0</td>\n",
       "      <td>offer id</td>\n",
       "      <td>offer completed</td>\n",
       "      <td>156.0</td>\n",
       "      <td>offer_id</td>\n",
       "    </tr>\n",
       "    <tr>\n",
       "      <th>86429</th>\n",
       "      <td>6d5f3a774f3d4714ab0c092238f3a1d7</td>\n",
       "      <td>offer received</td>\n",
       "      <td>2298d6c36e964ae4a3e7e9706d1fb8c2</td>\n",
       "      <td>576.0</td>\n",
       "      <td>offer id</td>\n",
       "      <td>NaN</td>\n",
       "      <td>NaN</td>\n",
       "      <td>NaN</td>\n",
       "    </tr>\n",
       "    <tr>\n",
       "      <th>86430</th>\n",
       "      <td>9dc1421481194dcd9400aec7c9ae6366</td>\n",
       "      <td>offer received</td>\n",
       "      <td>ae264e3637204a6fb9bb56bc8210ddfd</td>\n",
       "      <td>576.0</td>\n",
       "      <td>offer id</td>\n",
       "      <td>offer completed</td>\n",
       "      <td>594.0</td>\n",
       "      <td>offer_id</td>\n",
       "    </tr>\n",
       "    <tr>\n",
       "      <th>86431</th>\n",
       "      <td>e4052622e5ba45a8b96b59aba68cf068</td>\n",
       "      <td>offer received</td>\n",
       "      <td>3f207df678b143eea3cee63160fa8bed</td>\n",
       "      <td>576.0</td>\n",
       "      <td>offer id</td>\n",
       "      <td>NaN</td>\n",
       "      <td>NaN</td>\n",
       "      <td>NaN</td>\n",
       "    </tr>\n",
       "  </tbody>\n",
       "</table>\n",
       "</div>"
      ],
      "text/plain": [
       "                            customer_id         event_x  \\\n",
       "86427  d087c473b4d247ccb0abfef59ba12b0e  offer received   \n",
       "86428  cb23b66c56f64b109d673d5e56574529  offer received   \n",
       "86429  6d5f3a774f3d4714ab0c092238f3a1d7  offer received   \n",
       "86430  9dc1421481194dcd9400aec7c9ae6366  offer received   \n",
       "86431  e4052622e5ba45a8b96b59aba68cf068  offer received   \n",
       "\n",
       "                                  value  time_x value_type_x          event_y  \\\n",
       "86427  ae264e3637204a6fb9bb56bc8210ddfd   576.0     offer id  offer completed   \n",
       "86428  2906b810c7d4411798c6938adc9daaa5   576.0     offer id  offer completed   \n",
       "86429  2298d6c36e964ae4a3e7e9706d1fb8c2   576.0     offer id              NaN   \n",
       "86430  ae264e3637204a6fb9bb56bc8210ddfd   576.0     offer id  offer completed   \n",
       "86431  3f207df678b143eea3cee63160fa8bed   576.0     offer id              NaN   \n",
       "\n",
       "       time_y value_type_y  \n",
       "86427   636.0     offer_id  \n",
       "86428   156.0     offer_id  \n",
       "86429     NaN          NaN  \n",
       "86430   594.0     offer_id  \n",
       "86431     NaN          NaN  "
      ]
     },
     "execution_count": 91,
     "metadata": {},
     "output_type": "execute_result"
    }
   ],
   "source": [
    "# Merging 'offer received' and 'offer completed' for the same offer/customer combo\n",
    "completed_offers = pd.merge(\n",
    "                    transcript[transcript['event'] == 'offer received'],\n",
    "                    transcript[transcript['event'] == 'offer completed'],\n",
    "                    how = 'left',\n",
    "                    left_on = ['customer_id','value'],\n",
    "                    right_on = ['customer_id','value'])\n",
    "\n",
    "# 'time' is int for one and float for other - convert both to float\n",
    "completed_offers['time_y'] = completed_offers['time_y'].apply(lambda x: float(x))\n",
    "completed_offers['time_x'] = completed_offers['time_x'].apply(lambda x: float(x))\n",
    "completed_offers.tail()"
   ]
  },
  {
   "cell_type": "code",
   "execution_count": 92,
   "id": "fc4b3491",
   "metadata": {},
   "outputs": [
    {
     "data": {
      "text/plain": [
       "(86432, 8)"
      ]
     },
     "execution_count": 92,
     "metadata": {},
     "output_type": "execute_result"
    }
   ],
   "source": [
    "completed_offers.shape"
   ]
  },
  {
   "cell_type": "markdown",
   "id": "853039d5",
   "metadata": {},
   "source": [
    "### Merge transcript with final_portfolio promotional info"
   ]
  },
  {
   "cell_type": "code",
   "execution_count": 93,
   "id": "d6e23652",
   "metadata": {},
   "outputs": [
    {
     "data": {
      "text/html": [
       "<div>\n",
       "<style scoped>\n",
       "    .dataframe tbody tr th:only-of-type {\n",
       "        vertical-align: middle;\n",
       "    }\n",
       "\n",
       "    .dataframe tbody tr th {\n",
       "        vertical-align: top;\n",
       "    }\n",
       "\n",
       "    .dataframe thead th {\n",
       "        text-align: right;\n",
       "    }\n",
       "</style>\n",
       "<table border=\"1\" class=\"dataframe\">\n",
       "  <thead>\n",
       "    <tr style=\"text-align: right;\">\n",
       "      <th></th>\n",
       "      <th>customer_id</th>\n",
       "      <th>event</th>\n",
       "      <th>time</th>\n",
       "      <th>value_type</th>\n",
       "      <th>reward</th>\n",
       "      <th>difficulty</th>\n",
       "      <th>duration</th>\n",
       "      <th>offer_type</th>\n",
       "      <th>offer_id</th>\n",
       "      <th>email</th>\n",
       "      <th>mobile</th>\n",
       "      <th>web</th>\n",
       "      <th>social</th>\n",
       "      <th>net_reward</th>\n",
       "    </tr>\n",
       "  </thead>\n",
       "  <tbody>\n",
       "    <tr>\n",
       "      <th>167576</th>\n",
       "      <td>642b6f1bf61040efb73e1859cf00e79e</td>\n",
       "      <td>offer viewed</td>\n",
       "      <td>714</td>\n",
       "      <td>offer id</td>\n",
       "      <td>0</td>\n",
       "      <td>0</td>\n",
       "      <td>3</td>\n",
       "      <td>informational</td>\n",
       "      <td>5a8bc65990b245e5a138643cd4eb9837</td>\n",
       "      <td>1</td>\n",
       "      <td>1</td>\n",
       "      <td>0</td>\n",
       "      <td>1</td>\n",
       "      <td>0</td>\n",
       "    </tr>\n",
       "    <tr>\n",
       "      <th>167577</th>\n",
       "      <td>5a3f7fcb450a4cb693ab5267b4d49b40</td>\n",
       "      <td>offer viewed</td>\n",
       "      <td>714</td>\n",
       "      <td>offer id</td>\n",
       "      <td>0</td>\n",
       "      <td>0</td>\n",
       "      <td>3</td>\n",
       "      <td>informational</td>\n",
       "      <td>5a8bc65990b245e5a138643cd4eb9837</td>\n",
       "      <td>1</td>\n",
       "      <td>1</td>\n",
       "      <td>0</td>\n",
       "      <td>1</td>\n",
       "      <td>0</td>\n",
       "    </tr>\n",
       "    <tr>\n",
       "      <th>167578</th>\n",
       "      <td>ec1761735b034ae8874bc979f0cd5862</td>\n",
       "      <td>offer viewed</td>\n",
       "      <td>714</td>\n",
       "      <td>offer id</td>\n",
       "      <td>0</td>\n",
       "      <td>0</td>\n",
       "      <td>3</td>\n",
       "      <td>informational</td>\n",
       "      <td>5a8bc65990b245e5a138643cd4eb9837</td>\n",
       "      <td>1</td>\n",
       "      <td>1</td>\n",
       "      <td>0</td>\n",
       "      <td>1</td>\n",
       "      <td>0</td>\n",
       "    </tr>\n",
       "    <tr>\n",
       "      <th>167579</th>\n",
       "      <td>d56386cf344c4829bbf420d1895dca37</td>\n",
       "      <td>offer viewed</td>\n",
       "      <td>714</td>\n",
       "      <td>offer id</td>\n",
       "      <td>0</td>\n",
       "      <td>0</td>\n",
       "      <td>3</td>\n",
       "      <td>informational</td>\n",
       "      <td>5a8bc65990b245e5a138643cd4eb9837</td>\n",
       "      <td>1</td>\n",
       "      <td>1</td>\n",
       "      <td>0</td>\n",
       "      <td>1</td>\n",
       "      <td>0</td>\n",
       "    </tr>\n",
       "    <tr>\n",
       "      <th>167580</th>\n",
       "      <td>84fb57a7fe8045a8bf6236738ee73a0f</td>\n",
       "      <td>offer viewed</td>\n",
       "      <td>714</td>\n",
       "      <td>offer id</td>\n",
       "      <td>0</td>\n",
       "      <td>0</td>\n",
       "      <td>3</td>\n",
       "      <td>informational</td>\n",
       "      <td>5a8bc65990b245e5a138643cd4eb9837</td>\n",
       "      <td>1</td>\n",
       "      <td>1</td>\n",
       "      <td>0</td>\n",
       "      <td>1</td>\n",
       "      <td>0</td>\n",
       "    </tr>\n",
       "  </tbody>\n",
       "</table>\n",
       "</div>"
      ],
      "text/plain": [
       "                             customer_id         event  time value_type  \\\n",
       "167576  642b6f1bf61040efb73e1859cf00e79e  offer viewed   714   offer id   \n",
       "167577  5a3f7fcb450a4cb693ab5267b4d49b40  offer viewed   714   offer id   \n",
       "167578  ec1761735b034ae8874bc979f0cd5862  offer viewed   714   offer id   \n",
       "167579  d56386cf344c4829bbf420d1895dca37  offer viewed   714   offer id   \n",
       "167580  84fb57a7fe8045a8bf6236738ee73a0f  offer viewed   714   offer id   \n",
       "\n",
       "        reward  difficulty  duration     offer_type  \\\n",
       "167576       0           0         3  informational   \n",
       "167577       0           0         3  informational   \n",
       "167578       0           0         3  informational   \n",
       "167579       0           0         3  informational   \n",
       "167580       0           0         3  informational   \n",
       "\n",
       "                                offer_id  email  mobile  web  social  \\\n",
       "167576  5a8bc65990b245e5a138643cd4eb9837      1       1    0       1   \n",
       "167577  5a8bc65990b245e5a138643cd4eb9837      1       1    0       1   \n",
       "167578  5a8bc65990b245e5a138643cd4eb9837      1       1    0       1   \n",
       "167579  5a8bc65990b245e5a138643cd4eb9837      1       1    0       1   \n",
       "167580  5a8bc65990b245e5a138643cd4eb9837      1       1    0       1   \n",
       "\n",
       "        net_reward  \n",
       "167576           0  \n",
       "167577           0  \n",
       "167578           0  \n",
       "167579           0  \n",
       "167580           0  "
      ]
     },
     "execution_count": 93,
     "metadata": {},
     "output_type": "execute_result"
    }
   ],
   "source": [
    "# Transactions are dropped from the merge since they don't have an offer_id\n",
    "full_offers = pd.merge(transcript,\n",
    "                       final_portfolio, \n",
    "                       how = 'inner',\n",
    "                       left_on = 'value', \n",
    "                       right_on = 'offer_id')\n",
    "\n",
    "full_offers['net_reward'] = full_offers['reward'] - full_offers['difficulty']\n",
    "full_offers.drop(columns=['value'], inplace=True)\n",
    "full_offers.tail()"
   ]
  },
  {
   "cell_type": "code",
   "execution_count": 94,
   "id": "4b71cd34",
   "metadata": {},
   "outputs": [
    {
     "data": {
      "text/plain": [
       "(167581, 14)"
      ]
     },
     "execution_count": 94,
     "metadata": {},
     "output_type": "execute_result"
    }
   ],
   "source": [
    "full_offers.shape"
   ]
  },
  {
   "cell_type": "code",
   "execution_count": 95,
   "id": "bc11a927",
   "metadata": {},
   "outputs": [
    {
     "data": {
      "text/html": [
       "<div>\n",
       "<style scoped>\n",
       "    .dataframe tbody tr th:only-of-type {\n",
       "        vertical-align: middle;\n",
       "    }\n",
       "\n",
       "    .dataframe tbody tr th {\n",
       "        vertical-align: top;\n",
       "    }\n",
       "\n",
       "    .dataframe thead th {\n",
       "        text-align: right;\n",
       "    }\n",
       "</style>\n",
       "<table border=\"1\" class=\"dataframe\">\n",
       "  <thead>\n",
       "    <tr style=\"text-align: right;\">\n",
       "      <th></th>\n",
       "      <th>customer_id</th>\n",
       "      <th>time_x</th>\n",
       "      <th>value</th>\n",
       "      <th>event_y</th>\n",
       "      <th>time_y</th>\n",
       "      <th>DaysToCompleteOffer</th>\n",
       "      <th>CompletedOffer</th>\n",
       "    </tr>\n",
       "  </thead>\n",
       "  <tbody>\n",
       "    <tr>\n",
       "      <th>86425</th>\n",
       "      <td>f924927e7f844ecebf87eef93f4d2688</td>\n",
       "      <td>576.0</td>\n",
       "      <td>5a8bc65990b245e5a138643cd4eb9837</td>\n",
       "      <td>NaN</td>\n",
       "      <td>NaN</td>\n",
       "      <td>NaN</td>\n",
       "      <td>0</td>\n",
       "    </tr>\n",
       "    <tr>\n",
       "      <th>86426</th>\n",
       "      <td>a57890c3bbb7463e9018abb7fecadb15</td>\n",
       "      <td>576.0</td>\n",
       "      <td>5a8bc65990b245e5a138643cd4eb9837</td>\n",
       "      <td>NaN</td>\n",
       "      <td>NaN</td>\n",
       "      <td>NaN</td>\n",
       "      <td>0</td>\n",
       "    </tr>\n",
       "    <tr>\n",
       "      <th>86429</th>\n",
       "      <td>6d5f3a774f3d4714ab0c092238f3a1d7</td>\n",
       "      <td>576.0</td>\n",
       "      <td>2298d6c36e964ae4a3e7e9706d1fb8c2</td>\n",
       "      <td>NaN</td>\n",
       "      <td>NaN</td>\n",
       "      <td>NaN</td>\n",
       "      <td>0</td>\n",
       "    </tr>\n",
       "    <tr>\n",
       "      <th>86430</th>\n",
       "      <td>9dc1421481194dcd9400aec7c9ae6366</td>\n",
       "      <td>576.0</td>\n",
       "      <td>ae264e3637204a6fb9bb56bc8210ddfd</td>\n",
       "      <td>offer completed</td>\n",
       "      <td>594.0</td>\n",
       "      <td>18.0</td>\n",
       "      <td>1</td>\n",
       "    </tr>\n",
       "    <tr>\n",
       "      <th>86431</th>\n",
       "      <td>e4052622e5ba45a8b96b59aba68cf068</td>\n",
       "      <td>576.0</td>\n",
       "      <td>3f207df678b143eea3cee63160fa8bed</td>\n",
       "      <td>NaN</td>\n",
       "      <td>NaN</td>\n",
       "      <td>NaN</td>\n",
       "      <td>0</td>\n",
       "    </tr>\n",
       "  </tbody>\n",
       "</table>\n",
       "</div>"
      ],
      "text/plain": [
       "                            customer_id  time_x  \\\n",
       "86425  f924927e7f844ecebf87eef93f4d2688   576.0   \n",
       "86426  a57890c3bbb7463e9018abb7fecadb15   576.0   \n",
       "86429  6d5f3a774f3d4714ab0c092238f3a1d7   576.0   \n",
       "86430  9dc1421481194dcd9400aec7c9ae6366   576.0   \n",
       "86431  e4052622e5ba45a8b96b59aba68cf068   576.0   \n",
       "\n",
       "                                  value          event_y  time_y  \\\n",
       "86425  5a8bc65990b245e5a138643cd4eb9837              NaN     NaN   \n",
       "86426  5a8bc65990b245e5a138643cd4eb9837              NaN     NaN   \n",
       "86429  2298d6c36e964ae4a3e7e9706d1fb8c2              NaN     NaN   \n",
       "86430  ae264e3637204a6fb9bb56bc8210ddfd  offer completed   594.0   \n",
       "86431  3f207df678b143eea3cee63160fa8bed              NaN     NaN   \n",
       "\n",
       "       DaysToCompleteOffer  CompletedOffer  \n",
       "86425                  NaN               0  \n",
       "86426                  NaN               0  \n",
       "86429                  NaN               0  \n",
       "86430                 18.0               1  \n",
       "86431                  NaN               0  "
      ]
     },
     "execution_count": 95,
     "metadata": {},
     "output_type": "execute_result"
    }
   ],
   "source": [
    "# We only want the offers that were in the same timeframe\n",
    "final_completed_offers = completed_offers[\n",
    "    (\n",
    "    (completed_offers['time_y'] <= (completed_offers['time_x'] + 20)) # Completion date is within max time frame\n",
    "        & (completed_offers['time_y'] >= completed_offers['time_x'])  # Completion date is after offer received\n",
    "    )\n",
    "    | # or \n",
    "    (pd.isnull(completed_offers['event_y']) == True) # Null values to show offers that were never completed\n",
    "        ][['customer_id','time_x','value','event_y','time_y']]\n",
    "\n",
    "final_completed_offers['DaysToCompleteOffer'] = final_completed_offers['time_y'] - final_completed_offers['time_x'] \n",
    "final_completed_offers['CompletedOffer'] = final_completed_offers['event_y'].apply(lambda x: 0 if pd.isnull(x) == True else 1)\n",
    "final_completed_offers.tail()"
   ]
  },
  {
   "cell_type": "code",
   "execution_count": 62,
   "id": "08b792d5",
   "metadata": {},
   "outputs": [
    {
     "data": {
      "text/html": [
       "<div>\n",
       "<style scoped>\n",
       "    .dataframe tbody tr th:only-of-type {\n",
       "        vertical-align: middle;\n",
       "    }\n",
       "\n",
       "    .dataframe tbody tr th {\n",
       "        vertical-align: top;\n",
       "    }\n",
       "\n",
       "    .dataframe thead th {\n",
       "        text-align: right;\n",
       "    }\n",
       "</style>\n",
       "<table border=\"1\" class=\"dataframe\">\n",
       "  <thead>\n",
       "    <tr style=\"text-align: right;\">\n",
       "      <th></th>\n",
       "      <th>offer_type</th>\n",
       "      <th>difficulty</th>\n",
       "      <th>reward</th>\n",
       "      <th>CompletedOffers</th>\n",
       "      <th>TotalCompletions</th>\n",
       "      <th>AvgDaysToComplete</th>\n",
       "      <th>NetReward</th>\n",
       "      <th>NetWorth</th>\n",
       "    </tr>\n",
       "  </thead>\n",
       "  <tbody>\n",
       "    <tr>\n",
       "      <th>0</th>\n",
       "      <td>bogo</td>\n",
       "      <td>5</td>\n",
       "      <td>5</td>\n",
       "      <td>0.308293</td>\n",
       "      <td>2606</td>\n",
       "      <td>8.638526</td>\n",
       "      <td>0</td>\n",
       "      <td>-0.000000</td>\n",
       "    </tr>\n",
       "    <tr>\n",
       "      <th>1</th>\n",
       "      <td>bogo</td>\n",
       "      <td>10</td>\n",
       "      <td>10</td>\n",
       "      <td>0.217532</td>\n",
       "      <td>2149</td>\n",
       "      <td>9.001396</td>\n",
       "      <td>0</td>\n",
       "      <td>-0.000000</td>\n",
       "    </tr>\n",
       "    <tr>\n",
       "      <th>2</th>\n",
       "      <td>discount</td>\n",
       "      <td>7</td>\n",
       "      <td>3</td>\n",
       "      <td>0.383878</td>\n",
       "      <td>1362</td>\n",
       "      <td>8.938326</td>\n",
       "      <td>-4</td>\n",
       "      <td>1.535513</td>\n",
       "    </tr>\n",
       "    <tr>\n",
       "      <th>3</th>\n",
       "      <td>discount</td>\n",
       "      <td>10</td>\n",
       "      <td>2</td>\n",
       "      <td>0.279512</td>\n",
       "      <td>2060</td>\n",
       "      <td>8.906796</td>\n",
       "      <td>-8</td>\n",
       "      <td>2.236092</td>\n",
       "    </tr>\n",
       "    <tr>\n",
       "      <th>4</th>\n",
       "      <td>discount</td>\n",
       "      <td>20</td>\n",
       "      <td>5</td>\n",
       "      <td>0.090034</td>\n",
       "      <td>393</td>\n",
       "      <td>9.511450</td>\n",
       "      <td>-15</td>\n",
       "      <td>1.350515</td>\n",
       "    </tr>\n",
       "  </tbody>\n",
       "</table>\n",
       "</div>"
      ],
      "text/plain": [
       "  offer_type  difficulty  reward  CompletedOffers  TotalCompletions  \\\n",
       "0       bogo           5       5         0.308293              2606   \n",
       "1       bogo          10      10         0.217532              2149   \n",
       "2   discount           7       3         0.383878              1362   \n",
       "3   discount          10       2         0.279512              2060   \n",
       "4   discount          20       5         0.090034               393   \n",
       "\n",
       "   AvgDaysToComplete  NetReward  NetWorth  \n",
       "0           8.638526          0 -0.000000  \n",
       "1           9.001396          0 -0.000000  \n",
       "2           8.938326         -4  1.535513  \n",
       "3           8.906796         -8  2.236092  \n",
       "4           9.511450        -15  1.350515  "
      ]
     },
     "execution_count": 62,
     "metadata": {},
     "output_type": "execute_result"
    }
   ],
   "source": [
    "overall_offers_df = offers_final_df.groupby(['offer_type','difficulty','reward'], as_index = False).agg({\n",
    "    'CompletedOffer':['mean', 'sum'] # Average of time they complete the order\n",
    "    , 'DaysToCompleteOffer':'mean' # Average days it takes for someone to complete the order\n",
    "    , 'NetReward': 'max' # The net reward (should be just the reward - difficulty)\n",
    "})\n",
    "\n",
    "overall_offers_df.columns.droplevel(1)\n",
    "overall_offers_df.columns = ['offer_type','difficulty','reward','CompletedOffers','TotalCompletions'\n",
    "                            , 'AvgDaysToComplete','NetReward']\n",
    "overall_offers_df['NetWorth'] = (overall_offers_df['CompletedOffers'] * overall_offers_df['NetReward']) * -1\n",
    "final_overall_offers_df = overall_offers_df[overall_offers_df['offer_type'] != 'informational']\n",
    "final_overall_offers_df"
   ]
  },
  {
   "cell_type": "code",
   "execution_count": 63,
   "id": "839cd8c8",
   "metadata": {},
   "outputs": [
    {
     "name": "stderr",
     "output_type": "stream",
     "text": [
      "<ipython-input-63-a41db2bae588>:2: SettingWithCopyWarning: \n",
      "A value is trying to be set on a copy of a slice from a DataFrame.\n",
      "Try using .loc[row_indexer,col_indexer] = value instead\n",
      "\n",
      "See the caveats in the documentation: https://pandas.pydata.org/pandas-docs/stable/user_guide/indexing.html#returning-a-view-versus-a-copy\n",
      "  all_transactions['value'] = all_transactions['value'].apply(lambda x: float(x))\n"
     ]
    },
    {
     "data": {
      "text/html": [
       "<div>\n",
       "<style scoped>\n",
       "    .dataframe tbody tr th:only-of-type {\n",
       "        vertical-align: middle;\n",
       "    }\n",
       "\n",
       "    .dataframe tbody tr th {\n",
       "        vertical-align: top;\n",
       "    }\n",
       "\n",
       "    .dataframe thead th {\n",
       "        text-align: right;\n",
       "    }\n",
       "</style>\n",
       "<table border=\"1\" class=\"dataframe\">\n",
       "  <thead>\n",
       "    <tr style=\"text-align: right;\">\n",
       "      <th></th>\n",
       "      <th>customer_id</th>\n",
       "      <th>event</th>\n",
       "      <th>value</th>\n",
       "      <th>time</th>\n",
       "      <th>value_type</th>\n",
       "    </tr>\n",
       "  </thead>\n",
       "  <tbody>\n",
       "    <tr>\n",
       "      <th>12654</th>\n",
       "      <td>02c083884c7d45b39cc68e1314fec56c</td>\n",
       "      <td>transaction</td>\n",
       "      <td>0.83</td>\n",
       "      <td>0</td>\n",
       "      <td>amount</td>\n",
       "    </tr>\n",
       "    <tr>\n",
       "      <th>12657</th>\n",
       "      <td>9fa9ae8f57894cc9a3b8a9bbe0fc1b2f</td>\n",
       "      <td>transaction</td>\n",
       "      <td>34.56</td>\n",
       "      <td>0</td>\n",
       "      <td>amount</td>\n",
       "    </tr>\n",
       "    <tr>\n",
       "      <th>12659</th>\n",
       "      <td>54890f68699049c2a04d415abc25e717</td>\n",
       "      <td>transaction</td>\n",
       "      <td>13.23</td>\n",
       "      <td>0</td>\n",
       "      <td>amount</td>\n",
       "    </tr>\n",
       "    <tr>\n",
       "      <th>12670</th>\n",
       "      <td>b2f1cd155b864803ad8334cdf13c4bd2</td>\n",
       "      <td>transaction</td>\n",
       "      <td>19.51</td>\n",
       "      <td>0</td>\n",
       "      <td>amount</td>\n",
       "    </tr>\n",
       "    <tr>\n",
       "      <th>12671</th>\n",
       "      <td>fe97aa22dd3e48c8b143116a8403dd52</td>\n",
       "      <td>transaction</td>\n",
       "      <td>18.97</td>\n",
       "      <td>0</td>\n",
       "      <td>amount</td>\n",
       "    </tr>\n",
       "  </tbody>\n",
       "</table>\n",
       "</div>"
      ],
      "text/plain": [
       "                            customer_id        event  value  time value_type\n",
       "12654  02c083884c7d45b39cc68e1314fec56c  transaction   0.83     0     amount\n",
       "12657  9fa9ae8f57894cc9a3b8a9bbe0fc1b2f  transaction  34.56     0     amount\n",
       "12659  54890f68699049c2a04d415abc25e717  transaction  13.23     0     amount\n",
       "12670  b2f1cd155b864803ad8334cdf13c4bd2  transaction  19.51     0     amount\n",
       "12671  fe97aa22dd3e48c8b143116a8403dd52  transaction  18.97     0     amount"
      ]
     },
     "execution_count": 63,
     "metadata": {},
     "output_type": "execute_result"
    }
   ],
   "source": [
    "all_transactions = transcript[transcript['value_type'] == 'amount']\n",
    "all_transactions['value'] = all_transactions['value'].apply(lambda x: float(x))\n",
    "all_transactions.head()"
   ]
  },
  {
   "cell_type": "code",
   "execution_count": 66,
   "id": "7cfa4f55",
   "metadata": {},
   "outputs": [
    {
     "data": {
      "text/plain": [
       "((138953, 5), (5, 8), (17000, 9), (36, 6))"
      ]
     },
     "execution_count": 66,
     "metadata": {},
     "output_type": "execute_result"
    }
   ],
   "source": [
    "all_transactions.shape, final_overall_offers_df.shape, final_profile.shape, test_person_transactions.shape"
   ]
  },
  {
   "cell_type": "code",
   "execution_count": 97,
   "id": "786ecf3d",
   "metadata": {},
   "outputs": [],
   "source": [
    "#Reference: https://github.com/anchorP34/Starbucks-Customer-Clusters\n",
    "# df_all_customers = pd.DataFrame(columns = ['customer_id', 'discount_total_offers', 'discount_completion_pct',\n",
    "#        'discount_min_completion_days', 'discount_max_completion_days', 'discount_completed_offers',\n",
    "#        'discount_avg_completion_days', 'discount_avg_net_reward',\n",
    "#        'bogo_total_offers', 'bogo_completion_pct', 'bogo_completed_offers' 'bogo_min_completion_days',\n",
    "#        'bogo_max_completion_days', 'bogo_avg_completion_days',\n",
    "#        'bogo_avg_net_reward', 'informational_promotions', 'age', 'gender',\n",
    "#        'income', 'member_date', 'total_transactions', 'min_transaction_day',\n",
    "#        'max_transaction_day', 'avg_transaction', 'total_transaction_amount',\n",
    "#        'median_days_between_purchases', 'avg_days_between_purchases'])\n",
    "\n",
    "# for person in np.unique(final_profile['customer_id']):\n",
    "    \n",
    "#     # Get Individual profile info\n",
    "#     personal_profile = final_profile[final_profile['customer_id'] == person][['customer_id','age','gender','income','became_member_on']]\n",
    "    \n",
    "#     # Get transaction aggregates\n",
    "#     personal_transactions = all_transactions[all_transactions['customer_id'] == person].reset_index()\n",
    "#     if len(personal_transactions) > 0:\n",
    "#         personal_transactions['DaysFromLastPurchase'] = personal_transactions.time.diff()\n",
    "#         personal_transactions.iloc[0, -1] = test_person_transactions.loc[0, 'time']\n",
    "\n",
    "#         personal_agg_trans = personal_transactions.groupby('customer_id', as_index = False).agg(\n",
    "#         {\n",
    "#             'time': ['count','min','max'] # First and Last Purchase\n",
    "#             , 'value': ['mean', 'sum'] # Average Purchase Amount, total purchase amount\n",
    "#             , 'DaysFromLastPurchase': ['median', 'mean'] # Average days between purchases  \n",
    "#         })\n",
    "#         personal_agg_trans.columns = personal_agg_trans.columns.droplevel(1) # Gets rid of the multi leveling columns\n",
    "#         personal_agg_trans.columns = ['customer_id', 'total_transactions','min_transaction_day','max_transaction_day'\n",
    "#                                       , 'avg_transaction','total_transaction_amount','median_days_between_purchases'\n",
    "#                                       ,'avg_days_between_purchases']\n",
    "#     else:\n",
    "#         null_array = [person, np.nan, np.nan, np.nan, np.nan, np.nan, np.nan]\n",
    "#         personal_agg_trans = pd.DataFrame([null_array]\n",
    "#                                          , columns = ['customer_id', 'total_transactions','min_transaction_day'\n",
    "#                                                       ,'max_transaction_day'\n",
    "#                                                       , 'avg_transaction','median_days_between_purchases'\n",
    "#                                                       ,'avg_days_between_purchases'])\n",
    "        \n",
    "        \n",
    "#     # Bring together the transaction aggregates and the profile values\n",
    "#     personal_df_1 = pd.merge(personal_profile, personal_agg_trans\n",
    "#                              , how = 'inner', left_on = 'customer_id', right_on = 'customer_id')\n",
    "# #    personal_df_1.drop('customer_id', axis = 1, inplace = True) # Get rid of the ID column\n",
    "\n",
    "\n",
    "#     # Look at the different promotions that the person interacted with\n",
    "#     # Using global variables to join data in the next step\n",
    "#     for offer_type in ['discount','bogo']:\n",
    "#         globals()[offer_type + '_df'] =  offers_final_df[(offers_final_df['customer_id'] == person)\n",
    "#                        & (offers_final_df['offer_type'] == offer_type)\n",
    "#                        ].groupby('customer_id', as_index = False).agg({\n",
    "#                                                         'CompletedOffer':['count','mean','sum']\n",
    "#                                                         , 'DaysToCompleteOffer': ['min','max','mean']\n",
    "#                                                         , 'NetReward': ['mean']\n",
    "#                                                     })\n",
    "        \n",
    "#         globals()[offer_type + '_df'].columns = globals()[offer_type + '_df'].columns.droplevel(1)\n",
    "#         globals()[offer_type + '_df'].columns = ['customer_id', offer_type + '_total_offers'\n",
    "#                                     ,offer_type + '_completion_pct', offer_type + '_completed_offers'\n",
    "#                                    , offer_type + '_min_completion_days',offer_type + '_max_completion_days'\n",
    "#                                     ,offer_type + '_avg_completion_days', offer_type + '_avg_net_reward']\n",
    "        \n",
    "#         if len(globals()[offer_type + '_df']) == 0:\n",
    "#             null_array = [person,np.nan,np.nan,np.nan,np.nan,np.nan,np.nan, np.nan]\n",
    "#             globals()[offer_type + '_df'] = globals()[offer_type + '_df'].append(\n",
    "#                 dict(zip(globals()[offer_type + '_df'].columns, null_array)), ignore_index=True\n",
    "#             )\n",
    "    \n",
    "#     # Bring together the bogo and discount values, and include the number of informational promos they received\n",
    "#     bogo_and_discounts = pd.merge(discount_df, bogo_df)\n",
    "#     bogo_and_discounts['informational_promotions'] = len(offers_final_df[(offers_final_df['customer_id'] == person)\n",
    "#                                                                & (offers_final_df['offer_type'] == 'informational')])\n",
    "    \n",
    "#     # Bring everything together\n",
    "#     person_final = pd.merge(bogo_and_discounts, personal_df_1)\n",
    "    \n",
    "#     # Add personal df to the rest of the customer dataframe\n",
    "#     df_all_customers = df_all_customers.append(person_final)"
   ]
  },
  {
   "cell_type": "code",
   "execution_count": 65,
   "id": "0e904c27",
   "metadata": {},
   "outputs": [
    {
     "data": {
      "text/plain": [
       "False"
      ]
     },
     "execution_count": 65,
     "metadata": {},
     "output_type": "execute_result"
    }
   ],
   "source": [
    "# Check that there are the same amount of customers in both dfs\n",
    "len(df_all_customers) == len(final_profile)"
   ]
  },
  {
   "cell_type": "code",
   "execution_count": null,
   "id": "4f8a709d",
   "metadata": {},
   "outputs": [],
   "source": [
    "# final_offers = offer.merge(final_profile, how= 'inner', on='customer_id')\n",
    "# final_offers = final_offers.merge(final_portfolio, left_on='offer_id_modified', right_on='offer_id_modified')\n",
    "# #final_offers.set_index('offer_id_modified', inplace=True)\n",
    "# final_offers.head()"
   ]
  },
  {
   "cell_type": "code",
   "execution_count": null,
   "id": "a4796c38",
   "metadata": {},
   "outputs": [],
   "source": [
    "# final_offers = offer.merge(final_profile, left_on='customer_id', right_on='customer_id')\n",
    "# final_offers = final_offers.merge(final_portfolio, left_on='offer_id_modified', right_on='offer_id_modified')\n",
    "# #final_offers.set_index('offer_id_modified', inplace=True)\n",
    "# final_offers.head()"
   ]
  },
  {
   "cell_type": "code",
   "execution_count": null,
   "id": "08c89026",
   "metadata": {},
   "outputs": [],
   "source": [
    "final_offers['event'].value_counts()"
   ]
  },
  {
   "cell_type": "code",
   "execution_count": null,
   "id": "ce5c0f48",
   "metadata": {},
   "outputs": [],
   "source": [
    "final_offers.rename(columns=\n",
    "                  {'time':'time_hours',\n",
    "                   'offer_id_modified': 'offer_id'\n",
    "                  }, inplace=True)"
   ]
  },
  {
   "cell_type": "code",
   "execution_count": null,
   "id": "b304970e",
   "metadata": {},
   "outputs": [],
   "source": [
    "final_offers.shape"
   ]
  },
  {
   "cell_type": "code",
   "execution_count": null,
   "id": "d7bfce11",
   "metadata": {},
   "outputs": [],
   "source": [
    "final_transactions = transaction.merge(final_profile, left_on='customer_id', right_on='customer_id')\n",
    "final_transactions.drop(['event'], axis=1, inplace=True)\n",
    "final_transactions.head()"
   ]
  },
  {
   "cell_type": "markdown",
   "id": "6292b636",
   "metadata": {},
   "source": [
    "There can be multiple transactions for the same customer_id."
   ]
  },
  {
   "cell_type": "code",
   "execution_count": null,
   "id": "894ef7a6",
   "metadata": {},
   "outputs": [],
   "source": [
    "final_transactions.rename(columns=\n",
    "                  {'time': 'time_hours'\n",
    "                  }, inplace=True)"
   ]
  },
  {
   "cell_type": "code",
   "execution_count": null,
   "id": "47e80068",
   "metadata": {},
   "outputs": [],
   "source": [
    "final_transactions.shape"
   ]
  },
  {
   "cell_type": "markdown",
   "id": "34a3d5ea",
   "metadata": {},
   "source": [
    "## One-hot encode rest of categorical features\n",
    "\n",
    "For final_offers: event, offer_id, gender, offer_type\n",
    "\n",
    "For final_transactions: gender"
   ]
  },
  {
   "cell_type": "code",
   "execution_count": null,
   "id": "2e7e5955",
   "metadata": {},
   "outputs": [],
   "source": [
    "offers_dummy_cols =final_offers.select_dtypes(include=['object'])\n",
    "offers_dummy_cols.columns"
   ]
  },
  {
   "cell_type": "code",
   "execution_count": null,
   "id": "34afb67f",
   "metadata": {},
   "outputs": [],
   "source": [
    "offers_dummy_cols = offers_dummy_cols.drop(columns=['customer_id'])"
   ]
  },
  {
   "cell_type": "code",
   "execution_count": null,
   "id": "98f2755c",
   "metadata": {},
   "outputs": [],
   "source": [
    "# Don't use drop_first on dummified columns for clustering - you want all classes represented\n",
    "final_offers = pd.get_dummies(final_offers, columns=offers_dummy_cols.columns)\n",
    "final_offers = pd.get_dummies(final_offers, columns=['month'])\n",
    "final_offers.head()"
   ]
  },
  {
   "cell_type": "code",
   "execution_count": null,
   "id": "f5c5a4e7",
   "metadata": {},
   "outputs": [],
   "source": [
    "final_offers.shape"
   ]
  },
  {
   "cell_type": "code",
   "execution_count": null,
   "id": "1a284b37",
   "metadata": {},
   "outputs": [],
   "source": [
    "final_offers.columns"
   ]
  },
  {
   "cell_type": "code",
   "execution_count": null,
   "id": "729a5168",
   "metadata": {},
   "outputs": [],
   "source": [
    "transactions_dummy_cols =final_transactions.select_dtypes(include=['object'])\n",
    "transactions_dummy_cols.columns"
   ]
  },
  {
   "cell_type": "code",
   "execution_count": null,
   "id": "d95ac859",
   "metadata": {},
   "outputs": [],
   "source": [
    "transactions_dummy_cols = transactions_dummy_cols.drop(columns=['customer_id'])"
   ]
  },
  {
   "cell_type": "code",
   "execution_count": null,
   "id": "e5f52915",
   "metadata": {},
   "outputs": [],
   "source": [
    "final_transactions = pd.get_dummies(final_transactions, columns=transactions_dummy_cols.columns)\n",
    "final_transactions = pd.get_dummies(final_transactions, columns=['month'])\n",
    "final_transactions.head()"
   ]
  },
  {
   "cell_type": "code",
   "execution_count": null,
   "id": "1f9beb8e",
   "metadata": {},
   "outputs": [],
   "source": [
    "final_transactions.shape"
   ]
  },
  {
   "cell_type": "markdown",
   "id": "686fb0ac",
   "metadata": {},
   "source": [
    "## More Feature Engineering"
   ]
  },
  {
   "cell_type": "code",
   "execution_count": null,
   "id": "2ad09a1d",
   "metadata": {},
   "outputs": [],
   "source": [
    "# Add offer receipt, view and completion time columns\n",
    "\n",
    "final_offers['time_hours'] = final_offers['time_hours'] + 0.5\n",
    "final_offers['received_time'] = final_offers['event_offer received'] * final_offers['time_hours']\n",
    "final_offers['viewed_time'] = final_offers['event_offer viewed'] * final_offers['time_hours']\n",
    "final_offers['completed_time'] = final_offers['event_offer completed'] * final_offers['time_hours']\n",
    "final_offers.head()"
   ]
  },
  {
   "cell_type": "markdown",
   "id": "17d2fa3f",
   "metadata": {},
   "source": [
    "## Save Final Cleaned & Merged Files"
   ]
  },
  {
   "cell_type": "code",
   "execution_count": null,
   "id": "af208768",
   "metadata": {},
   "outputs": [],
   "source": [
    "final_offers.to_csv('./data/final_offers_clean.csv', index = False)\n",
    "final_transactions.to_csv('./data/final_transactions_clean.csv', index = False)"
   ]
  },
  {
   "cell_type": "markdown",
   "id": "f65ca5a3",
   "metadata": {},
   "source": [
    "## More EDA"
   ]
  },
  {
   "cell_type": "code",
   "execution_count": null,
   "id": "b0e0820d",
   "metadata": {},
   "outputs": [],
   "source": [
    "# Check for repeat offers?\n",
    "final_offers[final_offers.duplicated(subset=['offer_id', 'customer_id'], keep=False)].head()"
   ]
  },
  {
   "cell_type": "markdown",
   "id": "b509cea9",
   "metadata": {},
   "source": [
    "There can be duplicate offers for the different events for the same customer_id - offer received and offer viewed events"
   ]
  },
  {
   "cell_type": "code",
   "execution_count": null,
   "id": "ff4e99e7",
   "metadata": {},
   "outputs": [],
   "source": [
    "# Create a time group column and bin by certain ranges of days\n",
    "offer['time_group'] = pd.cut(x=offer['time'], bins=[0, 100, 200, 300, 400, 500,600,700,800], include_lowest=True,\n",
    "                    labels=['0-100 days', '100-200 days', '200-300 days', '300-400 days', '400-500 days', \n",
    "                            '500-600 days', '600-700 days', '700-800 days'])\n",
    "\n",
    "transaction['time_group'] = pd.cut(x=transaction['time'], bins=[0, 100, 200, 300, 400, 500,600,700,800], include_lowest=True,\n",
    "                    labels=['0-100 days', '100-200 days', '200-300 days', '300-400 days', '400-500 days', \n",
    "                            '500-600 days', '600-700 days', '700-800 days'])"
   ]
  },
  {
   "cell_type": "code",
   "execution_count": null,
   "id": "bf300b16",
   "metadata": {},
   "outputs": [],
   "source": [
    "fig = plt.figure(figsize = (10,7))\n",
    "sns.countplot(x='time_group',data=offer)\n",
    "plt.xticks(rotation=30)\n",
    "plt.title('No. of Offers in the Timespan', size = 18)\n",
    "plt.xlabel('Timespan Group', size = 16)\n",
    "plt.ylabel('Count', size = 16)\n",
    "plt.savefig('./images/offers_timespan.png');"
   ]
  },
  {
   "cell_type": "code",
   "execution_count": null,
   "id": "5bc6b2a2",
   "metadata": {},
   "outputs": [],
   "source": [
    "fig = plt.figure(figsize = (10,7))\n",
    "sns.countplot(x='time_group',data=transaction)\n",
    "plt.xticks(rotation=30)\n",
    "plt.title('No. of Transactions in the Timespan', size = 18)\n",
    "plt.xlabel('Timespan Group', size = 16)\n",
    "plt.ylabel('Count', size = 16);\n",
    "plt.savefig('./images/transactions_timespan.png');"
   ]
  },
  {
   "cell_type": "code",
   "execution_count": null,
   "id": "2f0e938d",
   "metadata": {},
   "outputs": [],
   "source": [
    "# Create new age_group column by binning Age into different groups\n",
    "profile['age_group'] = pd.cut(x=profile['age_modified'], bins=[18, 20, 40, 60, 80, 101],\n",
    "                    labels=['Youth(0-19)', 'Young_Adult(20-39)', 'Middle-Age(40-59)',\n",
    "                            'Senior(60-79)', 'Geriatric(80-100)'], include_lowest=True)\n",
    "\n",
    "# profile['age_group'] = pd.cut(x=profile['age_modified'], bins=[18, 20, 40, 60, 80, 101],\n",
    "#                     labels=[1,2,3,4,5], include_lowest=True)\n",
    "profile['age_group'].value_counts(normalize=True)"
   ]
  },
  {
   "cell_type": "code",
   "execution_count": null,
   "id": "2efa14dc",
   "metadata": {},
   "outputs": [],
   "source": [
    "fig = plt.figure(figsize = (10,7))\n",
    "sns.countplot(x='age_group',data=profile)\n",
    "plt.xticks(rotation=30)\n",
    "plt.title('Age Groups of Starbucks Customers', size = 18)\n",
    "plt.xlabel('Age Group', size = 16)\n",
    "plt.ylabel('Count', size = 16)\n",
    "plt.savefig('./images/age_groups.png');"
   ]
  },
  {
   "cell_type": "code",
   "execution_count": null,
   "id": "98b5593c",
   "metadata": {},
   "outputs": [],
   "source": [
    "profile.groupby('gender_modified').sum()['income_modified'].plot(kind='bar')\n",
    "plt.title('Total Income per Gender')\n",
    "plt.ylabel('Income')\n",
    "plt.xlabel('Gender');"
   ]
  },
  {
   "cell_type": "markdown",
   "id": "cade0225",
   "metadata": {},
   "source": [
    "Total income for Males is higher even though the number of females in the higher income (78k and above) are higher than males."
   ]
  },
  {
   "cell_type": "code",
   "execution_count": null,
   "id": "4a04716b",
   "metadata": {},
   "outputs": [],
   "source": [
    "# Membership registration through the years\n",
    "profile['year'].value_counts().sort_index().plot()\n",
    "plt.xlabel('Year')\n",
    "plt.ylabel('New Members')\n",
    "plt.title('Loyalty Program Registration per Year')"
   ]
  },
  {
   "cell_type": "markdown",
   "id": "fc745aac",
   "metadata": {},
   "source": [
    "2017 was the highest year then membership declined the following year in 2018."
   ]
  },
  {
   "cell_type": "markdown",
   "id": "62096a55",
   "metadata": {},
   "source": [
    "## Data Dictionary\n",
    "\n",
    "|Feature|Type|Description|\n",
    "|---|---|---|\n",
    "|**Id**|*int*|Identification number for the property.|\n",
    "|**SalePrice**|*float*|The property's sale price in dollars. This is the target variable|\n",
    "|**Total SF**|*float*|Total combined sqft of livable space|"
   ]
  }
 ],
 "metadata": {
  "kernelspec": {
   "display_name": "Python 3",
   "language": "python",
   "name": "python3"
  },
  "language_info": {
   "codemirror_mode": {
    "name": "ipython",
    "version": 3
   },
   "file_extension": ".py",
   "mimetype": "text/x-python",
   "name": "python",
   "nbconvert_exporter": "python",
   "pygments_lexer": "ipython3",
   "version": "3.8.8"
  }
 },
 "nbformat": 4,
 "nbformat_minor": 5
}
